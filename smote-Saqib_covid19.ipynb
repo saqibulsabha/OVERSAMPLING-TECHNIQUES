{
 "cells": [
  {
   "cell_type": "code",
   "execution_count": 1,
   "metadata": {},
   "outputs": [],
   "source": [
    "# !pip install -U scikit-learn scipy matplotlib"
   ]
  },
  {
   "cell_type": "code",
   "execution_count": 2,
   "metadata": {
    "id": "FhG9sGyHrfUW"
   },
   "outputs": [
    {
     "name": "stderr",
     "output_type": "stream",
     "text": [
      "C:\\Users\\Research6\\.conda\\envs\\pytorch\\lib\\site-packages\\tqdm\\auto.py:22: TqdmWarning: IProgress not found. Please update jupyter and ipywidgets. See https://ipywidgets.readthedocs.io/en/stable/user_install.html\n",
      "  from .autonotebook import tqdm as notebook_tqdm\n"
     ]
    }
   ],
   "source": [
    "import collections\n",
    "import torch\n",
    "import torch.nn as nn\n",
    "from torch.utils.data import TensorDataset\n",
    "import numpy as np\n",
    "from sklearn.neighbors import NearestNeighbors\n",
    "import time\n",
    "import os"
   ]
  },
  {
   "cell_type": "code",
   "execution_count": 3,
   "metadata": {},
   "outputs": [],
   "source": [
    "# !conda env list"
   ]
  },
  {
   "cell_type": "code",
   "execution_count": 4,
   "metadata": {},
   "outputs": [],
   "source": [
    "# !conda activate tf"
   ]
  },
  {
   "cell_type": "code",
   "execution_count": 5,
   "metadata": {},
   "outputs": [],
   "source": [
    "from keras import backend as K  \n",
    "from keras.models import Model \n",
    "from keras.datasets import cifar10\n",
    "import numpy as np  \n",
    "import tensorflow as tf  \n",
    "import os  \n",
    "from glob import glob   \n",
    "import time  \n",
    "from PIL import Image  \n",
    "import shutil\n",
    "from collections import Counter"
   ]
  },
  {
   "cell_type": "code",
   "execution_count": 6,
   "metadata": {
    "scrolled": true
   },
   "outputs": [],
   "source": [
    "# !pip install seaborn"
   ]
  },
  {
   "cell_type": "code",
   "execution_count": 7,
   "metadata": {},
   "outputs": [],
   "source": [
    "# !pip install tensorflow"
   ]
  },
  {
   "cell_type": "code",
   "execution_count": 8,
   "metadata": {},
   "outputs": [],
   "source": [
    "import tensorflow as tf\n",
    "import numpy as np\n",
    "%matplotlib inline\n",
    "import matplotlib.pyplot as plt \n",
    "\n",
    "from random import randint"
   ]
  },
  {
   "cell_type": "code",
   "execution_count": 9,
   "metadata": {},
   "outputs": [],
   "source": [
    "import tensorflow.keras.backend as K\n",
    "def f1_metric(y_true, y_pred):\n",
    "    true_positives = K.sum(K.round(K.clip(y_true * y_pred, 0, 1)))\n",
    "    possible_positives = K.sum(K.round(K.clip(y_true, 0, 1)))\n",
    "    predicted_positives = K.sum(K.round(K.clip(y_pred, 0, 1)))\n",
    "    precision = true_positives / (predicted_positives + K.epsilon())\n",
    "    recall = true_positives / (possible_positives + K.epsilon())\n",
    "    f1_val = 2*(precision*recall)/(precision+recall+K.epsilon())\n",
    "    return f1_val"
   ]
  },
  {
   "cell_type": "code",
   "execution_count": 10,
   "metadata": {},
   "outputs": [
    {
     "data": {
      "text/plain": [
       "'C:\\\\Users\\\\Research6\\\\Desktop\\\\conf\\\\covid smote\\\\train'"
      ]
     },
     "execution_count": 10,
     "metadata": {},
     "output_type": "execute_result"
    }
   ],
   "source": [
    "pwd"
   ]
  },
  {
   "cell_type": "code",
   "execution_count": 11,
   "metadata": {},
   "outputs": [
    {
     "name": "stdout",
     "output_type": "stream",
     "text": [
      "111\n",
      "70\n",
      "70\n"
     ]
    }
   ],
   "source": [
    "#Train Paths\n",
    "covid_paths = glob('C:/Users/Research6/Desktop/conf/covid smote/train/Covid/**')\n",
    "print(len(covid_paths))\n",
    "Normal_paths = glob('C:/Users/Research6/Desktop/conf/covid smote/train/Normal/**')\n",
    "print(len(Normal_paths))\n",
    "ViralPneumonia_paths = glob('C:/Users/Research6/Desktop/conf/covid smote/train/Viral Pneumonia/**')\n",
    "print(len(ViralPneumonia_paths))"
   ]
  },
  {
   "cell_type": "code",
   "execution_count": 12,
   "metadata": {},
   "outputs": [
    {
     "name": "stdout",
     "output_type": "stream",
     "text": [
      "26\n",
      "20\n",
      "20\n"
     ]
    }
   ],
   "source": [
    "#Test Paths\n",
    "covid_test_paths = glob('C:/Users/Research6/Desktop/conf/covid smote/test/Covid/**')\n",
    "print(len(covid_test_paths))\n",
    "Normal_test_paths = glob('C:/Users/Research6/Desktop/conf/covid smote/test/Normal/**')\n",
    "print(len(Normal_test_paths))\n",
    "ViralPneumonia_test_paths = glob('C:/Users/Research6/Desktop/conf/covid smote/test/Viral Pneumonia/**')\n",
    "print(len(ViralPneumonia_test_paths))"
   ]
  },
  {
   "cell_type": "code",
   "execution_count": 13,
   "metadata": {},
   "outputs": [
    {
     "name": "stdout",
     "output_type": "stream",
     "text": [
      "900\n",
      "750\n"
     ]
    }
   ],
   "source": [
    "Classes = 3\n",
    "# LR = 0.003 \n",
    "# LR = 0.000001\n",
    "# LR =  1e-07\n",
    "min_working_no = Classes * 300   \n",
    "min_for_other_classes = min_working_no//4\n",
    "# min_working_no = min_working_no//2\n",
    "print(min_working_no)  \n",
    "training_images_required = 750 \n",
    "print(training_images_required) \n",
    "min_working_no2 = 1000  \n",
    "epoch = 100\n",
    "experiment_Name = \"Smote_1_covid\""
   ]
  },
  {
   "cell_type": "code",
   "execution_count": 14,
   "metadata": {},
   "outputs": [],
   "source": [
    "image_dimensions = 32\n",
    "import cv2 \n",
    "data_train = [] \n",
    "label_train = [] \n",
    "# number_of_images\n",
    "# for c,n,v in zip(covid_paths,Normal_paths,ViralPneumonia_paths):\n",
    "for c in (covid_paths):\n",
    "  data_train.append(cv2.resize(cv2.imread(c),(image_dimensions,image_dimensions)))\n",
    "  label_train.append(0)\n",
    "for n in (Normal_paths):    \n",
    "  data_train.append(cv2.resize(cv2.imread(n),(image_dimensions,image_dimensions)))\n",
    "  label_train.append(1)\n",
    "for v in (ViralPneumonia_paths):\n",
    "  data_train.append(cv2.resize(cv2.imread(v),(image_dimensions,image_dimensions)))\n",
    "  label_train.append(2)"
   ]
  },
  {
   "cell_type": "code",
   "execution_count": 15,
   "metadata": {},
   "outputs": [
    {
     "data": {
      "text/plain": [
       "251"
      ]
     },
     "execution_count": 15,
     "metadata": {},
     "output_type": "execute_result"
    }
   ],
   "source": [
    "len(data_train)"
   ]
  },
  {
   "cell_type": "code",
   "execution_count": 16,
   "metadata": {},
   "outputs": [
    {
     "data": {
      "text/plain": [
       "251"
      ]
     },
     "execution_count": 16,
     "metadata": {},
     "output_type": "execute_result"
    }
   ],
   "source": [
    "len(covid_paths + Normal_paths + ViralPneumonia_paths )"
   ]
  },
  {
   "cell_type": "code",
   "execution_count": 17,
   "metadata": {},
   "outputs": [],
   "source": [
    "image_dimensions = 32\n",
    "import cv2 \n",
    "data_test = [] \n",
    "label_test = [] \n",
    "# number_of_images\n",
    "for c in (covid_test_paths):\n",
    "  data_test.append(cv2.resize(cv2.imread(c),(image_dimensions,image_dimensions)))\n",
    "  label_test.append(0)\n",
    "for n in (Normal_test_paths):    \n",
    "  data_test.append(cv2.resize(cv2.imread(n),(image_dimensions,image_dimensions)))\n",
    "  label_test.append(1)\n",
    "for v in (ViralPneumonia_test_paths):\n",
    "  data_test.append(cv2.resize(cv2.imread(v),(image_dimensions,image_dimensions)))\n",
    "  label_test.append(2)\n",
    "    \n",
    "# for c,n,v,_ in zip(covid_test_paths,Normal_test_paths,ViralPneumonia_test_paths,range(len(covid_test_paths))):\n",
    "#   data_test.append(cv2.resize(cv2.imread(c),(image_dimensions,image_dimensions)))\n",
    "#   label_test.append(0)\n",
    "#   data_test.append(cv2.resize(cv2.imread(n),(image_dimensions,image_dimensions)))\n",
    "#   label_test.append(1)\n",
    "#   data_test.append(cv2.resize(cv2.imread(v),(image_dimensions,image_dimensions)))\n",
    "#   label_test.append(2)"
   ]
  },
  {
   "cell_type": "code",
   "execution_count": 18,
   "metadata": {},
   "outputs": [],
   "source": [
    "# x_train = data_train[:len(data_train)//2]\n",
    "# y_train =  label_train[:len(label_train)//2]\n",
    "\n",
    "# x_test = data_train[len(data_train)//2:]\n",
    "# y_test =  label_train[len(label_train)//2:]\n",
    "x_train = data_train[:]\n",
    "y_train =  label_train[:]\n",
    "\n",
    "x_test = data_test[:]\n",
    "y_test =  label_test[:]"
   ]
  },
  {
   "cell_type": "code",
   "execution_count": 19,
   "metadata": {},
   "outputs": [
    {
     "data": {
      "text/plain": [
       "251"
      ]
     },
     "execution_count": 19,
     "metadata": {},
     "output_type": "execute_result"
    }
   ],
   "source": [
    "len(x_train)"
   ]
  },
  {
   "cell_type": "code",
   "execution_count": 20,
   "metadata": {},
   "outputs": [
    {
     "data": {
      "text/plain": [
       "66"
      ]
     },
     "execution_count": 20,
     "metadata": {},
     "output_type": "execute_result"
    }
   ],
   "source": [
    "len(x_test)"
   ]
  },
  {
   "cell_type": "code",
   "execution_count": 21,
   "metadata": {},
   "outputs": [],
   "source": [
    "import random\n",
    "\n",
    "c = list(zip(x_train, y_train))\n",
    "random.shuffle(c)\n",
    "x_train, y_train = zip(*c)\n",
    " \n",
    "c = list(zip(x_test, y_test))\n",
    "random.shuffle(c)\n",
    "x_test, y_test = zip(*c)"
   ]
  },
  {
   "cell_type": "code",
   "execution_count": 22,
   "metadata": {},
   "outputs": [
    {
     "data": {
      "text/plain": [
       "[0, 1, 2]"
      ]
     },
     "execution_count": 22,
     "metadata": {},
     "output_type": "execute_result"
    }
   ],
   "source": [
    "label_list = [i for i in range(Classes)]\n",
    "label_list"
   ]
  },
  {
   "cell_type": "code",
   "execution_count": 23,
   "metadata": {},
   "outputs": [],
   "source": [
    "newDataTrain = []\n",
    "newLabelTrain = []\n",
    "for data,label in zip(x_train,y_train):\n",
    "  if(label in label_list):\n",
    "    newDataTrain.append(data)\n",
    "    newLabelTrain.append(label)"
   ]
  },
  {
   "cell_type": "code",
   "execution_count": 24,
   "metadata": {},
   "outputs": [
    {
     "data": {
      "text/plain": [
       "251"
      ]
     },
     "execution_count": 24,
     "metadata": {},
     "output_type": "execute_result"
    }
   ],
   "source": [
    "len(newDataTrain)"
   ]
  },
  {
   "cell_type": "markdown",
   "metadata": {},
   "source": [
    "\n",
    "\n",
    "# Create Biased Data"
   ]
  },
  {
   "cell_type": "markdown",
   "metadata": {},
   "source": [
    "\n",
    "One Big others small"
   ]
  },
  {
   "cell_type": "code",
   "execution_count": 25,
   "metadata": {},
   "outputs": [],
   "source": [
    "# listofList = {}\n",
    "# for x in label_list:\n",
    "#   listofList[x] = []\n",
    "\n",
    "# num = 0\n",
    "# toNum = int(min_working_no/Classes)\n",
    "# flag = True \n",
    "# # print(toNum)\n",
    "# doneList = []\n",
    "# bigClass = 0\n",
    "# miner = 2\n",
    "# # randint(1,Classes-1)\n",
    "# print(\"Big Class >> \",bigClass)\n",
    "# for l in label_list:\n",
    "#   num = 0 \n",
    "#   for x,y in zip(newDataTrain[:],newLabelTrain[:]):\n",
    "#   # for Cifar10 Dataset\n",
    "#     # y = y[0]\n",
    "#     if(y == bigClass and num<toNum ):\n",
    "#       miner += 2\n",
    "#       lessThan = randint(0,min_for_other_classes )- miner\n",
    "      \n",
    "#           # print(lessThan)\n",
    "#       if(doneList.count(y) <= lessThan):\n",
    "#         listofList[y].append(x)\n",
    "#         num+=1 \n",
    "#     elif(y == l and num < toNum ):\n",
    "         \n",
    "#         if(y in doneList):\n",
    "#           lessThan = randint(0,min_for_other_classes)\n",
    "#           # print(lessThan)\n",
    "#           # if(doneList.count(y) <= lessThan):\n",
    "#           doneList.append(y)\n",
    "#           listofList[y].append(x)\n",
    "       \n",
    "#         else:\n",
    "#           doneList.append(y)\n",
    "#           listofList[y].append(x)\n",
    "\n",
    "#         num+=1\n",
    "#         # flag == False"
   ]
  },
  {
   "cell_type": "markdown",
   "metadata": {},
   "source": [
    "One small others big"
   ]
  },
  {
   "cell_type": "code",
   "execution_count": 26,
   "metadata": {},
   "outputs": [],
   "source": [
    "\n",
    "# listofList = {}\n",
    "# for x in label_list:\n",
    "#   listofList[x] = []\n",
    "\n",
    "# num = 0\n",
    "# toNum = int(min_working_no/Classes)\n",
    "# flag = True \n",
    "# # print(toNum)\n",
    "# doneList = []\n",
    "# smallClass = randint(0,Classes-1)//10\n",
    "# print(\"Small Class >> \",smallClass)\n",
    "\n",
    "# # toNumSmall = 3\n",
    "# # toNum = 10\n",
    "\n",
    "# for l in label_list:\n",
    "#   num = 0  \n",
    "#   numSmall = 0        \n",
    "#   toNumSmall = randint(1, min_for_other_classes)\n",
    "#   for x,y in zip(newDataTrain[:],newLabelTrain[:]):\n",
    "#     if( l == smallClass and l ==y   and numSmall < toNumSmall):\n",
    "#       listofList[y].append(x)\n",
    "#       numSmall+=1  \n",
    "#       if(numSmall >= toNumSmall): break\n",
    "#     elif(l == y and num <= toNum):\n",
    "#       listofList[y].append(x)\n",
    "#       num+=1 \n",
    "#       if(num >= toNum ): break\n"
   ]
  },
  {
   "cell_type": "code",
   "execution_count": 27,
   "metadata": {},
   "outputs": [],
   "source": [
    "\n",
    "\n",
    "\n",
    "\n",
    "\n",
    "\n",
    "\n",
    "# total = 0\n",
    "# string = \"\" \n",
    "# for x in listofList : \n",
    "#   total+=len(listofList[x])\n",
    "#   string = string+str(len(listofList[x])) + \"|\"\n",
    "#   print(\"Label >> \",x)\n",
    "#   print(\"Data points >>\",len(listofList[x]))\n",
    "\n",
    "# print(\"Total >> \",total)"
   ]
  },
  {
   "cell_type": "markdown",
   "metadata": {},
   "source": [
    "dereasee by half"
   ]
  },
  {
   "cell_type": "code",
   "execution_count": 28,
   "metadata": {},
   "outputs": [],
   "source": [
    "# listofList = {}\n",
    "# for x in label_list:\n",
    "#   listofList[x] = []\n",
    "\n",
    "# num = 0\n",
    "# toNum = int(min_working_no/Classes)*2\n",
    "# print(toNum)\n",
    "# for l in label_list:\n",
    "#   num = 0\n",
    "#   toNum = toNum/1.5\n",
    "#   if toNum < 6:   \n",
    "#         toNum = 6\n",
    "    \n",
    "    \n",
    "#   for x,y in zip(newDataTrain[:],newLabelTrain[:]):\n",
    "# #     y = y[0]  # for Cifar 10 only\n",
    "#     if(y == l and num < toNum):\n",
    "#         listofList[y].append(x)\n",
    "#         num+=1"
   ]
  },
  {
   "cell_type": "markdown",
   "metadata": {},
   "source": [
    "**SKEW** : Divide by 10 of DeepSMOTE"
   ]
  },
  {
   "cell_type": "code",
   "execution_count": 29,
   "metadata": {},
   "outputs": [
    {
     "data": {
      "text/plain": [
       "[10, 20, 70]"
      ]
     },
     "execution_count": 29,
     "metadata": {},
     "output_type": "execute_result"
    }
   ],
   "source": [
    "# imbal = [4000, 2000, 1000, 750, 500, 350, 200, 100, 60, 40]\n",
    " #ourImbal = [x//10 for x in imbal]\n",
    "imbal = [10,20,70]\n",
    "ourImbal = [x for x in imbal ]\n",
    "pp = []\n",
    "for x in ourImbal:\n",
    "    if x<6: x = 6\n",
    "    pp.append(x)\n",
    "\n",
    "ourImbal = pp\n",
    "imbal = ourImbal\n",
    "ourImbal"
   ]
  },
  {
   "cell_type": "code",
   "execution_count": 30,
   "metadata": {},
   "outputs": [
    {
     "name": "stdout",
     "output_type": "stream",
     "text": [
      "900\n"
     ]
    }
   ],
   "source": [
    "listofList = {}\n",
    "for x in label_list:\n",
    "  listofList[x] = []\n",
    "\n",
    "num = 0\n",
    "toNum = int(min_working_no)\n",
    "print(toNum)\n",
    "for l in label_list:\n",
    "  num = 0\n",
    "  toNum = toNum\n",
    "  if toNum < 6:   \n",
    "        toNum = 6\n",
    "    \n",
    "    \n",
    "  for x,y in zip(newDataTrain[:],newLabelTrain[:]):\n",
    "#     y = y[0]  # for Cifar 10 only\n",
    "    if(y == l and num < toNum):\n",
    "        listofList[y].append(x)\n",
    "        num+=1"
   ]
  },
  {
   "cell_type": "code",
   "execution_count": 31,
   "metadata": {},
   "outputs": [],
   "source": [
    "trainTraditional = []\n",
    "trainTraditionalLabel = [] \n",
    "for l,no in zip(label_list,ourImbal):\n",
    "    for p in listofList[l][:no]:\n",
    "        trainTraditional.append(p)\n",
    "        trainTraditionalLabel.append(l)"
   ]
  },
  {
   "cell_type": "code",
   "execution_count": 32,
   "metadata": {},
   "outputs": [],
   "source": [
    "c = list(zip(trainTraditional, trainTraditionalLabel))\n",
    "random.shuffle(c)\n",
    "trainTraditional, trainTraditionalLabel = zip(*c)\n",
    "trainTraditional = np.array(trainTraditional)\n",
    "trainTraditionalLabel = np.array(trainTraditionalLabel)"
   ]
  },
  {
   "cell_type": "code",
   "execution_count": 33,
   "metadata": {},
   "outputs": [],
   "source": [
    "# len(trainTraditional),len(trainTraditionalLabel)"
   ]
  },
  {
   "cell_type": "code",
   "execution_count": 34,
   "metadata": {},
   "outputs": [],
   "source": [
    "# trainTraditionalLabel.count(0)"
   ]
  },
  {
   "cell_type": "code",
   "execution_count": 35,
   "metadata": {},
   "outputs": [
    {
     "data": {
      "image/png": "[encoded data removed]",
      "text/plain": [
       "<Figure size 432x288 with 1 Axes>"
      ]
     },
     "metadata": {
      "needs_background": "light"
     },
     "output_type": "display_data"
    }
   ],
   "source": [
    "from matplotlib import pyplot as plt \n",
    "plt.imshow(trainTraditional[2][ : , : , 0])  \n",
    "plt.show()"
   ]
  },
  {
   "cell_type": "code",
   "execution_count": 36,
   "metadata": {},
   "outputs": [],
   "source": [
    "# np.array(trainTraditionalLabel).shape, np.array(trainTraditional).shape"
   ]
  },
  {
   "cell_type": "markdown",
   "metadata": {},
   "source": [
    "Create UnBiased Data"
   ]
  },
  {
   "cell_type": "code",
   "execution_count": 37,
   "metadata": {},
   "outputs": [],
   "source": [
    "# listofList = {}\n",
    "# for x in label_list:\n",
    "#   listofList[x] = []\n",
    "\n",
    "# num = 0 \n",
    "# toNum = int(min_working_no/Classes)\n",
    "# print(toNum)\n",
    "# for l in label_list:\n",
    "#   num = 0\n",
    "#   for x,y in zip(newDataTrain[:],newLabelTrain[:]):\n",
    "#     if(y == l and num < toNum):\n",
    "#         listofList[y].append(x)\n",
    "#         num+=1"
   ]
  },
  {
   "cell_type": "code",
   "execution_count": 38,
   "metadata": {},
   "outputs": [],
   "source": [
    "\n",
    "# total = 0\n",
    "# string = \"\" \n",
    "# for x in listofList : \n",
    "#   total+=len(listofList[x])\n",
    "#   string = string+str(len(listofList[x])) + \"|\"\n",
    "#   print(\"Label >> \",x)\n",
    "#   print(\"Data points >>\",len(listofList[x]))\n",
    "\n",
    "# print(\"Total >> \",total)"
   ]
  },
  {
   "cell_type": "code",
   "execution_count": 39,
   "metadata": {},
   "outputs": [],
   "source": [
    "# trainTraditional = []\n",
    "# trainTraditionalLabel = []\n",
    "# for x in listofList:\n",
    "#   for y in listofList[x]:\n",
    "#     trainTraditional.append(y)\n",
    "#     trainTraditionalLabel.append(x)"
   ]
  },
  {
   "cell_type": "code",
   "execution_count": 40,
   "metadata": {},
   "outputs": [],
   "source": [
    "# imbal = []\n",
    "# for x in label_list:\n",
    "#     imbal.append(trainTraditionalLabel.count(x))"
   ]
  },
  {
   "cell_type": "code",
   "execution_count": 41,
   "metadata": {},
   "outputs": [],
   "source": [
    "\n",
    "# oversampler=SMOTE(kind='regular',k_neighbors=2)"
   ]
  },
  {
   "cell_type": "code",
   "execution_count": null,
   "metadata": {},
   "outputs": [],
   "source": []
  },
  {
   "cell_type": "code",
   "execution_count": 42,
   "metadata": {},
   "outputs": [
    {
     "name": "stderr",
     "output_type": "stream",
     "text": [
      "C:\\Users\\Research6\\.conda\\envs\\pytorch\\lib\\site-packages\\seaborn\\_decorators.py:36: FutureWarning: Pass the following variable as a keyword arg: x. From version 0.12, the only valid positional argument will be `data`, and passing other arguments without an explicit keyword will result in an error or misinterpretation.\n",
      "  warnings.warn(\n"
     ]
    },
    {
     "data": {
      "text/plain": [
       "<AxesSubplot:ylabel='count'>"
      ]
     },
     "execution_count": 42,
     "metadata": {},
     "output_type": "execute_result"
    },
    {
     "data": {
      "image/png": "[encoded data removed]",
      "text/plain": [
       "<Figure size 432x288 with 1 Axes>"
      ]
     },
     "metadata": {
      "needs_background": "light"
     },
     "output_type": "display_data"
    }
   ],
   "source": [
    "import seaborn as sns \n",
    "sns.countplot(np.array(trainTraditionalLabel))"
   ]
  },
  {
   "cell_type": "code",
   "execution_count": 43,
   "metadata": {},
   "outputs": [
    {
     "data": {
      "text/plain": [
       "array([100,  32,  32,   3])"
      ]
     },
     "execution_count": 43,
     "metadata": {},
     "output_type": "execute_result"
    }
   ],
   "source": [
    "shape = np.array(trainTraditional).shape\n",
    "\n",
    "np.savetxt(\"shape.txt\",shape)\n",
    "np.array(trainTraditional).reshape(shape[0]* shape[1]*shape[2]*shape[3])\n",
    "shappe = []\n",
    "for x in shape:\n",
    "    shappe.append(int(x))\n",
    "    \n",
    "shape = np.array(shappe)\n",
    "shape"
   ]
  },
  {
   "cell_type": "code",
   "execution_count": 44,
   "metadata": {},
   "outputs": [
    {
     "data": {
      "text/plain": [
       "'C:\\\\Users\\\\Research6\\\\Desktop\\\\conf\\\\covid smote\\\\train'"
      ]
     },
     "execution_count": 44,
     "metadata": {},
     "output_type": "execute_result"
    }
   ],
   "source": [
    "pwd"
   ]
  },
  {
   "cell_type": "code",
   "execution_count": 45,
   "metadata": {},
   "outputs": [],
   "source": [
    "path ='C:\\\\Users\\\\Research6\\\\Desktop\\\\conf\\\\covid smote\\\\train'"
   ]
  },
  {
   "cell_type": "code",
   "execution_count": 46,
   "metadata": {},
   "outputs": [],
   "source": [
    "np.savetxt(path+\"/images.txt\",np.array(trainTraditional).reshape(shape[0] * shape[1] * shape[2] *shape[3]))\n",
    "np.savetxt(path+\"/labels.txt\",np.array(trainTraditionalLabel))"
   ]
  },
  {
   "cell_type": "code",
   "execution_count": 47,
   "metadata": {},
   "outputs": [
    {
     "data": {
      "image/png": "[encoded data removed]",
      "text/plain": [
       "<Figure size 432x288 with 1 Axes>"
      ]
     },
     "metadata": {
      "needs_background": "light"
     },
     "output_type": "display_data"
    }
   ],
   "source": [
    "arr = np.loadtxt(path+'/images.txt')\n",
    "from matplotlib import pyplot as plt \n",
    "plt.imshow(arr.reshape(shape)[12][ : , : , 0])  \n",
    "plt.show()"
   ]
  },
  {
   "cell_type": "markdown",
   "metadata": {},
   "source": [
    "# Our Code of stitching"
   ]
  },
  {
   "cell_type": "code",
   "execution_count": 48,
   "metadata": {},
   "outputs": [
    {
     "name": "stdout",
     "output_type": "stream",
     "text": [
      "Epoch 1/100\n",
      "4/4 [==============================] - 2s 24ms/step - loss: 87.4609 - accuracy: 0.5200\n",
      "Epoch 2/100\n",
      "4/4 [==============================] - 0s 5ms/step - loss: 83.1141 - accuracy: 0.7000\n",
      "Epoch 3/100\n",
      "4/4 [==============================] - 0s 5ms/step - loss: 22.2777 - accuracy: 0.6100\n",
      "Epoch 4/100\n",
      "4/4 [==============================] - 0s 5ms/step - loss: 10.1241 - accuracy: 0.5800\n",
      "Epoch 5/100\n",
      "4/4 [==============================] - 0s 5ms/step - loss: 2.2856 - accuracy: 0.8200\n",
      "Epoch 6/100\n",
      "4/4 [==============================] - 0s 5ms/step - loss: 0.8848 - accuracy: 0.8500\n",
      "Epoch 7/100\n",
      "4/4 [==============================] - 0s 5ms/step - loss: 0.5975 - accuracy: 0.8800\n",
      "Epoch 8/100\n",
      "4/4 [==============================] - 0s 5ms/step - loss: 0.2980 - accuracy: 0.9100\n",
      "Epoch 9/100\n",
      "4/4 [==============================] - 0s 5ms/step - loss: 0.3059 - accuracy: 0.9100\n",
      "Epoch 10/100\n",
      "4/4 [==============================] - 0s 5ms/step - loss: 0.4232 - accuracy: 0.9100\n",
      "Epoch 11/100\n",
      "4/4 [==============================] - 0s 5ms/step - loss: 0.1783 - accuracy: 0.9400\n",
      "Epoch 12/100\n",
      "4/4 [==============================] - 0s 5ms/step - loss: 0.1102 - accuracy: 0.9500\n",
      "Epoch 13/100\n",
      "4/4 [==============================] - 0s 5ms/step - loss: 0.1418 - accuracy: 0.9500\n",
      "Epoch 14/100\n",
      "4/4 [==============================] - 0s 5ms/step - loss: 0.0877 - accuracy: 0.9500\n",
      "Epoch 15/100\n",
      "4/4 [==============================] - 0s 5ms/step - loss: 0.0683 - accuracy: 0.9800\n",
      "Epoch 16/100\n",
      "4/4 [==============================] - 0s 5ms/step - loss: 0.0552 - accuracy: 0.9800\n",
      "Epoch 17/100\n",
      "4/4 [==============================] - 0s 4ms/step - loss: 0.0758 - accuracy: 0.9700\n",
      "Epoch 18/100\n",
      "4/4 [==============================] - 0s 5ms/step - loss: 0.0319 - accuracy: 0.9900\n",
      "Epoch 19/100\n",
      "4/4 [==============================] - 0s 5ms/step - loss: 0.0100 - accuracy: 0.9900\n",
      "Epoch 20/100\n",
      "4/4 [==============================] - 0s 4ms/step - loss: 0.0284 - accuracy: 0.9900\n",
      "Epoch 21/100\n",
      "4/4 [==============================] - 0s 5ms/step - loss: 0.0076 - accuracy: 1.0000\n",
      "Epoch 22/100\n",
      "4/4 [==============================] - 0s 5ms/step - loss: 0.0241 - accuracy: 0.9900\n",
      "Epoch 23/100\n",
      "4/4 [==============================] - 0s 5ms/step - loss: 0.0081 - accuracy: 1.0000\n",
      "Epoch 24/100\n",
      "4/4 [==============================] - 0s 5ms/step - loss: 0.0826 - accuracy: 0.9600\n",
      "Epoch 25/100\n",
      "4/4 [==============================] - 0s 5ms/step - loss: 0.0252 - accuracy: 0.9900\n",
      "Epoch 26/100\n",
      "4/4 [==============================] - 0s 5ms/step - loss: 0.0273 - accuracy: 0.9900\n",
      "Epoch 27/100\n",
      "4/4 [==============================] - 0s 5ms/step - loss: 0.0219 - accuracy: 0.9900\n",
      "Epoch 28/100\n",
      "4/4 [==============================] - 0s 5ms/step - loss: 0.0147 - accuracy: 1.0000\n",
      "Epoch 29/100\n",
      "4/4 [==============================] - 0s 5ms/step - loss: 0.0273 - accuracy: 0.9900\n",
      "Epoch 30/100\n",
      "4/4 [==============================] - 0s 5ms/step - loss: 0.0538 - accuracy: 0.9800\n",
      "Epoch 31/100\n",
      "4/4 [==============================] - 0s 5ms/step - loss: 0.0132 - accuracy: 1.0000\n",
      "Epoch 32/100\n",
      "4/4 [==============================] - 0s 5ms/step - loss: 0.0112 - accuracy: 1.0000\n",
      "Epoch 33/100\n",
      "4/4 [==============================] - 0s 5ms/step - loss: 0.0425 - accuracy: 0.9800\n",
      "Epoch 34/100\n",
      "4/4 [==============================] - 0s 5ms/step - loss: 0.0246 - accuracy: 0.9900\n",
      "Epoch 35/100\n",
      "4/4 [==============================] - 0s 5ms/step - loss: 0.0124 - accuracy: 0.9900\n",
      "Epoch 36/100\n",
      "4/4 [==============================] - 0s 5ms/step - loss: 0.0096 - accuracy: 1.0000\n",
      "Epoch 37/100\n",
      "4/4 [==============================] - 0s 4ms/step - loss: 0.0123 - accuracy: 0.9900\n",
      "Epoch 38/100\n",
      "4/4 [==============================] - 0s 5ms/step - loss: 0.0722 - accuracy: 0.9900\n",
      "Epoch 39/100\n",
      "4/4 [==============================] - 0s 5ms/step - loss: 0.0055 - accuracy: 1.0000\n",
      "Epoch 40/100\n",
      "4/4 [==============================] - 0s 5ms/step - loss: 0.0429 - accuracy: 0.9800\n",
      "Epoch 41/100\n",
      "4/4 [==============================] - 0s 5ms/step - loss: 0.0044 - accuracy: 1.0000\n",
      "Epoch 42/100\n",
      "4/4 [==============================] - 0s 5ms/step - loss: 0.0096 - accuracy: 1.0000\n",
      "Epoch 43/100\n",
      "4/4 [==============================] - 0s 5ms/step - loss: 0.0143 - accuracy: 1.0000\n",
      "Epoch 44/100\n",
      "4/4 [==============================] - 0s 5ms/step - loss: 0.0084 - accuracy: 0.9900\n",
      "Epoch 45/100\n",
      "4/4 [==============================] - 0s 5ms/step - loss: 4.9280e-04 - accuracy: 1.0000\n",
      "Epoch 46/100\n",
      "4/4 [==============================] - 0s 5ms/step - loss: 0.0044 - accuracy: 1.0000\n",
      "Epoch 47/100\n",
      "4/4 [==============================] - 0s 5ms/step - loss: 0.0231 - accuracy: 0.9900\n",
      "Epoch 48/100\n",
      "4/4 [==============================] - 0s 5ms/step - loss: 0.0101 - accuracy: 1.0000\n",
      "Epoch 49/100\n",
      "4/4 [==============================] - 0s 5ms/step - loss: 0.0053 - accuracy: 1.0000\n",
      "Epoch 50/100\n",
      "4/4 [==============================] - 0s 5ms/step - loss: 0.0030 - accuracy: 1.0000\n",
      "Epoch 51/100\n",
      "4/4 [==============================] - 0s 5ms/step - loss: 0.0012 - accuracy: 1.0000\n",
      "Epoch 52/100\n",
      "4/4 [==============================] - 0s 5ms/step - loss: 0.0026 - accuracy: 1.0000\n",
      "Epoch 53/100\n",
      "4/4 [==============================] - 0s 5ms/step - loss: 3.1793e-04 - accuracy: 1.0000\n",
      "Epoch 54/100\n",
      "4/4 [==============================] - 0s 5ms/step - loss: 0.0013 - accuracy: 1.0000\n",
      "Epoch 55/100\n",
      "4/4 [==============================] - 0s 5ms/step - loss: 8.7327e-05 - accuracy: 1.0000\n",
      "Epoch 56/100\n",
      "4/4 [==============================] - 0s 5ms/step - loss: 1.8993e-04 - accuracy: 1.0000\n",
      "Epoch 57/100\n",
      "4/4 [==============================] - 0s 5ms/step - loss: 0.0011 - accuracy: 1.0000\n",
      "Epoch 58/100\n",
      "4/4 [==============================] - 0s 5ms/step - loss: 2.7759e-04 - accuracy: 1.0000\n",
      "Epoch 59/100\n",
      "4/4 [==============================] - 0s 5ms/step - loss: 0.0032 - accuracy: 1.0000\n",
      "Epoch 60/100\n",
      "4/4 [==============================] - 0s 5ms/step - loss: 0.0048 - accuracy: 1.0000\n",
      "Epoch 61/100\n",
      "4/4 [==============================] - 0s 5ms/step - loss: 8.7534e-04 - accuracy: 1.0000\n",
      "Epoch 62/100\n",
      "4/4 [==============================] - 0s 5ms/step - loss: 3.1504e-05 - accuracy: 1.0000\n",
      "Epoch 63/100\n",
      "4/4 [==============================] - 0s 5ms/step - loss: 0.0036 - accuracy: 1.0000\n",
      "Epoch 64/100\n",
      "4/4 [==============================] - 0s 5ms/step - loss: 8.7764e-04 - accuracy: 1.0000\n",
      "Epoch 65/100\n",
      "4/4 [==============================] - 0s 5ms/step - loss: 0.0522 - accuracy: 0.9900\n",
      "Epoch 66/100\n",
      "4/4 [==============================] - 0s 5ms/step - loss: 0.0038 - accuracy: 1.0000\n",
      "Epoch 67/100\n",
      "4/4 [==============================] - 0s 5ms/step - loss: 7.1108e-04 - accuracy: 1.0000\n",
      "Epoch 68/100\n",
      "4/4 [==============================] - 0s 5ms/step - loss: 0.0135 - accuracy: 0.9900\n",
      "Epoch 69/100\n",
      "4/4 [==============================] - 0s 5ms/step - loss: 6.4248e-04 - accuracy: 1.0000\n",
      "Epoch 70/100\n",
      "4/4 [==============================] - 0s 5ms/step - loss: 3.7250e-04 - accuracy: 1.0000\n",
      "Epoch 71/100\n",
      "4/4 [==============================] - 0s 5ms/step - loss: 0.0016 - accuracy: 1.0000\n",
      "Epoch 72/100\n",
      "4/4 [==============================] - 0s 5ms/step - loss: 0.0015 - accuracy: 1.0000\n",
      "Epoch 73/100\n",
      "4/4 [==============================] - 0s 5ms/step - loss: 5.3708e-04 - accuracy: 1.0000\n",
      "Epoch 74/100\n",
      "4/4 [==============================] - 0s 5ms/step - loss: 1.3059e-04 - accuracy: 1.0000\n",
      "Epoch 75/100\n",
      "4/4 [==============================] - 0s 5ms/step - loss: 0.0013 - accuracy: 1.0000\n",
      "Epoch 76/100\n",
      "4/4 [==============================] - 0s 5ms/step - loss: 1.8438e-04 - accuracy: 1.0000\n",
      "Epoch 77/100\n",
      "4/4 [==============================] - 0s 5ms/step - loss: 0.0024 - accuracy: 1.0000\n",
      "Epoch 78/100\n",
      "4/4 [==============================] - 0s 5ms/step - loss: 0.0063 - accuracy: 1.0000\n",
      "Epoch 79/100\n",
      "4/4 [==============================] - 0s 5ms/step - loss: 5.6875e-05 - accuracy: 1.0000\n",
      "Epoch 80/100\n",
      "4/4 [==============================] - 0s 5ms/step - loss: 9.4707e-06 - accuracy: 1.0000\n",
      "Epoch 81/100\n",
      "4/4 [==============================] - 0s 5ms/step - loss: 7.3190e-05 - accuracy: 1.0000\n",
      "Epoch 82/100\n",
      "4/4 [==============================] - 0s 5ms/step - loss: 3.5818e-05 - accuracy: 1.0000\n",
      "Epoch 83/100\n"
     ]
    },
    {
     "name": "stdout",
     "output_type": "stream",
     "text": [
      "4/4 [==============================] - 0s 5ms/step - loss: 8.2162e-04 - accuracy: 1.0000\n",
      "Epoch 84/100\n",
      "4/4 [==============================] - 0s 5ms/step - loss: 1.3822e-05 - accuracy: 1.0000\n",
      "Epoch 85/100\n",
      "4/4 [==============================] - 0s 5ms/step - loss: 1.8405e-06 - accuracy: 1.0000\n",
      "Epoch 86/100\n",
      "4/4 [==============================] - 0s 5ms/step - loss: 4.9590e-04 - accuracy: 1.0000\n",
      "Epoch 87/100\n",
      "4/4 [==============================] - 0s 4ms/step - loss: 2.0972e-04 - accuracy: 1.0000\n",
      "Epoch 88/100\n",
      "4/4 [==============================] - 0s 5ms/step - loss: 1.9577e-04 - accuracy: 1.0000\n",
      "Epoch 89/100\n",
      "4/4 [==============================] - 0s 5ms/step - loss: 8.1921e-06 - accuracy: 1.0000\n",
      "Epoch 90/100\n",
      "4/4 [==============================] - 0s 5ms/step - loss: 1.0032e-04 - accuracy: 1.0000\n",
      "Epoch 91/100\n",
      "4/4 [==============================] - 0s 5ms/step - loss: 1.4423e-06 - accuracy: 1.0000\n",
      "Epoch 92/100\n",
      "4/4 [==============================] - 0s 5ms/step - loss: 1.4233e-05 - accuracy: 1.0000\n",
      "Epoch 93/100\n",
      "4/4 [==============================] - 0s 5ms/step - loss: 0.0019 - accuracy: 1.0000\n",
      "Epoch 94/100\n",
      "4/4 [==============================] - 0s 5ms/step - loss: 2.2970e-06 - accuracy: 1.0000\n",
      "Epoch 95/100\n",
      "4/4 [==============================] - 0s 5ms/step - loss: 0.0325 - accuracy: 0.9900\n",
      "Epoch 96/100\n",
      "4/4 [==============================] - 0s 5ms/step - loss: 0.0381 - accuracy: 0.9900\n",
      "Epoch 97/100\n",
      "4/4 [==============================] - 0s 5ms/step - loss: 3.8183e-04 - accuracy: 1.0000\n",
      "Epoch 98/100\n",
      "4/4 [==============================] - 0s 5ms/step - loss: 0.0274 - accuracy: 0.9900\n",
      "Epoch 99/100\n",
      "4/4 [==============================] - 0s 4ms/step - loss: 0.0012 - accuracy: 1.0000\n",
      "Epoch 100/100\n",
      "4/4 [==============================] - 0s 5ms/step - loss: 1.2365e-04 - accuracy: 1.0000\n"
     ]
    }
   ],
   "source": [
    "def create_classical_model():\n",
    "    # A simple model based off LeNet from https://keras.io/examples/mnist_cnn/\n",
    "    model = tf.keras.Sequential()\n",
    "    model.add(tf.keras.layers.Conv2D(32, [3, 3], activation='relu', input_shape=(32,32,3)))\n",
    "    model.add(tf.keras.layers.Conv2D(64, [3, 3], activation='relu'))\n",
    "    model.add(tf.keras.layers.MaxPooling2D(pool_size=(2, 2)))\n",
    "    model.add(tf.keras.layers.Dropout(0.25))\n",
    "    model.add(tf.keras.layers.Flatten()\n",
    "    )\n",
    "    model.add(tf.keras.layers.Dense(128, activation='relu'))\n",
    "    model.add(tf.keras.layers.Dropout(0.5))\n",
    "    model.add(tf.keras.layers.Dense(3))\n",
    "    return model\n",
    "\n",
    "\n",
    "model = create_classical_model()\n",
    "\n",
    "\n",
    "\n",
    "optimizer = tf.keras.optimizers.Adam()\n",
    "# optimizer.learning_rate.assign(0.00001)\n",
    "\n",
    "\n",
    "\n",
    "\n",
    "\n",
    "model.compile(loss=tf.keras.losses.SparseCategoricalCrossentropy(from_logits=True),\n",
    "              optimizer=optimizer,\n",
    "              metrics=['accuracy'])\n",
    "\n",
    "\n",
    "\n",
    "# upto = int(min_working_no *.7)\n",
    "# print(upto)\n",
    "history2 = model.fit(np.array(trainTraditional[:]),\n",
    "        np.array(trainTraditionalLabel[:]),\n",
    "        epochs=100,\n",
    "        )"
   ]
  },
  {
   "cell_type": "code",
   "execution_count": 49,
   "metadata": {},
   "outputs": [
    {
     "data": {
      "text/plain": [
       "'accuracy >> 0.7121211886405945'"
      ]
     },
     "execution_count": 49,
     "metadata": {},
     "output_type": "execute_result"
    }
   ],
   "source": [
    "\"accuracy >> {}\".format(model.evaluate(np.array(x_test), np.array(y_test), verbose=0)[1])  "
   ]
  },
  {
   "cell_type": "code",
   "execution_count": 50,
   "metadata": {},
   "outputs": [],
   "source": [
    "# preds = model.predict(np.array(x_test))\n",
    "y_prob = model.predict(np.array(x_test)) \n",
    "y_classes = y_prob.argmax(axis=-1)"
   ]
  },
  {
   "cell_type": "code",
   "execution_count": 51,
   "metadata": {},
   "outputs": [],
   "source": [
    "import seaborn as sn"
   ]
  },
  {
   "cell_type": "code",
   "execution_count": 52,
   "metadata": {},
   "outputs": [
    {
     "name": "stdout",
     "output_type": "stream",
     "text": [
      "              precision    recall  f1-score   support\n",
      "\n",
      "           0       1.00      0.65      0.79        26\n",
      "           1       0.52      0.60      0.56        20\n",
      "           2       0.69      0.90      0.78        20\n",
      "\n",
      "    accuracy                           0.71        66\n",
      "   macro avg       0.74      0.72      0.71        66\n",
      "weighted avg       0.76      0.71      0.72        66\n",
      "\n"
     ]
    }
   ],
   "source": [
    "from sklearn.metrics import classification_report\n",
    "\n",
    "\n",
    "# report = classification_report(np.array(y_test), np.array(predictions).argmax(axis=-1))\n",
    "# print(report)\n",
    "report = classification_report(y_test, y_classes)\n",
    "print(report)"
   ]
  },
  {
   "cell_type": "code",
   "execution_count": 53,
   "metadata": {
    "scrolled": true
   },
   "outputs": [
    {
     "name": "stdout",
     "output_type": "stream",
     "text": [
      "[[17  9  0]\n",
      " [ 0 12  8]\n",
      " [ 0  2 18]]\n"
     ]
    },
    {
     "data": {
      "image/png": "[encoded data removed]",
      "text/plain": [
       "<Figure size 432x288 with 2 Axes>"
      ]
     },
     "metadata": {
      "needs_background": "light"
     },
     "output_type": "display_data"
    }
   ],
   "source": [
    "import sklearn.metrics\n",
    "\n",
    "y_true = y_test\n",
    "y_pred = y_classes\n",
    "\n",
    "r = sklearn.metrics.confusion_matrix(y_true, y_pred)\n",
    "sn.heatmap(r, annot=True,cmap=\"OrRd\")\n",
    "plt.savefig(\"Original1\"+ \".jpg\", dpi = 600)\n",
    "print(r)"
   ]
  },
  {
   "cell_type": "code",
   "execution_count": 54,
   "metadata": {},
   "outputs": [
    {
     "data": {
      "text/plain": [
       "0.717948717948718"
      ]
     },
     "execution_count": 54,
     "metadata": {},
     "output_type": "execute_result"
    }
   ],
   "source": [
    "from sklearn.metrics import balanced_accuracy_score\n",
    "y_true = y_test\n",
    "y_pred = y_classes\n",
    "balanced_accuracy_score(y_true, y_pred)"
   ]
  },
  {
   "cell_type": "code",
   "execution_count": 55,
   "metadata": {},
   "outputs": [
    {
     "data": {
      "text/plain": [
       "0.7868295279520385"
      ]
     },
     "execution_count": 55,
     "metadata": {},
     "output_type": "execute_result"
    }
   ],
   "source": [
    "from imblearn.metrics import geometric_mean_score\n",
    "y_true = y_test\n",
    "y_pred = y_classes\n",
    "# geometric_mean_score(y_true, y_pred)\n",
    "geometric_mean_score(y_true, y_pred, average='macro')"
   ]
  },
  {
   "cell_type": "code",
   "execution_count": 56,
   "metadata": {},
   "outputs": [],
   "source": [
    "\n",
    "# def resnet_layer(inputs, num_filters=16, kernel_size=3, strides=1, activation='relu', batch_normalization=True, conv_first=True):\n",
    "  \n",
    "#   conv = Conv2D(num_filters, kernel_size=kernel_size, strides=strides, padding='same')\n",
    "\n",
    "#   x = inputs\n",
    "#   if conv_first:\n",
    "#       x = conv(x)\n",
    "#       if batch_normalization:\n",
    "#           x = BatchNormalization()(x)\n",
    "#       if activation is not None:\n",
    "#           x = Activation(activation)(x)\n",
    "#   else:\n",
    "#       if batch_normalization:\n",
    "#           x = BatchNormalization()(x)\n",
    "#       if activation is not None:\n",
    "#           x = Activation(activation)(x)\n",
    "#       x = conv(x)\n",
    "#   return x\n",
    "# def resnet_v1(input_shape, depth = 20, num_classes=Classes):\n",
    "    \n",
    "#     if (depth - 2) % 6 != 0:\n",
    "#         raise ValueError('depth should be 6n+2 (eg 20, 32, 44 in [a])')\n",
    "#     # Start model definition.\n",
    "#     num_filters = 16\n",
    "#     num_res_blocks = int((depth - 2) / 6)\n",
    "\n",
    "#     inputs = Input(shape=input_shape)\n",
    "#     x = resnet_layer(inputs=inputs)\n",
    "#     # Instantiate the stack of residual units\n",
    "#     for stack in range(3):\n",
    "#         for res_block in range(num_res_blocks):\n",
    "#             strides = 1\n",
    "#             if stack > 0 and res_block == 0:  # first layer but not first stack\n",
    "#                 strides = 2  # downsample\n",
    "#             y = resnet_layer(inputs=x,num_filters=num_filters,strides=strides)\n",
    "#             y = resnet_layer(inputs=y,num_filters=num_filters,activation=None)\n",
    "#             if stack > 0 and res_block == 0:  # first layer but not first stack\n",
    "#                 # linear projection residual shortcut connection to match\n",
    "#                 # changed dims\n",
    "#                 x = resnet_layer(inputs=x,num_filters=num_filters,kernel_size=1,strides=strides,activation=None,batch_normalization=False)\n",
    "#             x = keras.layers.add([x, y])\n",
    "#             x = Activation('relu')(x)\n",
    "#             x = Dropout(rate=0.25)(x)\n",
    "#         num_filters *= 2\n",
    "\n",
    "#     # Add classifier on top.\n",
    "#     # v1 does not use BN after last shortcut connection-ReLU\n",
    "#     x = AveragePooling2D(pool_size=8)(x)\n",
    "#     y = Flatten()(x)\n",
    "#     outputs = Dense(num_classes, activation='softmax')(y)\n",
    "\n",
    "#     # Instantiate model.\n",
    "#     model = Model(inputs=inputs, outputs=outputs)\n",
    "#     return model\n",
    "\n",
    "\n",
    "  \n",
    "# def transferLearning(shape):\n",
    "#   from tensorflow.keras.applications.inception_v3 import InceptionV3\n",
    "\n",
    "#   import os\n",
    "\n",
    "#   from tensorflow.keras import layers\n",
    "#   from tensorflow.keras import Model\n",
    "\n",
    "#   !wget --no-check-certificate \\\n",
    "#       https://storage.googleapis.com/mledu-datasets/inception_v3_weights_tf_dim_ordering_tf_kernels_notop.h5 \\\n",
    "#       -O /tmp/inception_v3_weights_tf_dim_ordering_tf_kernels_notop.h5\n",
    "\n",
    "#   local_weights_file = '/tmp/inception_v3_weights_tf_dim_ordering_tf_kernels_notop.h5'\n",
    "\n",
    "#   pre_trained_model = InceptionV3(input_shape = shape, \n",
    "#                                   include_top = False, \n",
    "#                                   weights = None)\n",
    "\n",
    "#   pre_trained_model.load_weights(local_weights_file)\n",
    "\n",
    "#   for layer in pre_trained_model.layers:\n",
    "#     layer.trainable = False\n",
    "    \n",
    "#   # pre_trained_model.summary()\n",
    "\n",
    "#   last_layer = pre_trained_model.get_layer('mixed7')\n",
    "#   print('last layer output shape: ', last_layer.output_shape)\n",
    "#   last_output = last_layer.output\n",
    "\n",
    "#   from tensorflow.keras.optimizers import RMSprop\n",
    "\n",
    "# # Flatten the output layer to 1 dimension\n",
    "#   x = layers.Flatten()(last_output)\n",
    "#   # Add a fully connected layer with 1,024 hidden units and ReLU activation\n",
    "#   x = layers.Dense(1024, activation='relu')(x)\n",
    "#   # Add a dropout rate of 0.2\n",
    "#   x = layers.Dropout(0.2)(x)                  \n",
    "#   # Add a final sigmoid layer for classification\n",
    "#   x = layers.Dense  (Classes)(x)           \n",
    "\n",
    "#   model = Model( pre_trained_model.input, x) \n",
    "\n",
    "#   optimizer = tf.keras.optimizers.Adam(0.0001)\n",
    "#   # optimizer.learning_rate.assign(0.01)\n",
    "\n",
    "#   model.compile(optimizer = optimizer, \n",
    "#                 loss = tf.keras.losses.SparseCategoricalCrossentropy(from_logits=True), \n",
    "#                 metrics = ['accuracy'])\n",
    "  \n",
    "#   return model\n",
    "\n",
    "\n",
    "# def create_classical_model(shape):\n",
    "#     # A simple model based off LeNet from https://keras.io/examples/mnist_cnn/\n",
    "#     model = tf.keras.Sequential()\n",
    "#     model.add(tf.keras.layers.Conv2D(32, [3, 3], activation='relu', input_shape=shape))\n",
    "#     model.add(tf.keras.layers.Conv2D(64, [3, 3], activation='relu'))\n",
    "#     model.add(tf.keras.layers.MaxPooling2D(pool_size=(2, 2)))\n",
    "#     model.add(tf.keras.layers.Dropout(0.25))\n",
    "#     model.add(tf.keras.layers.Flatten())\n",
    "#     model.add(tf.keras.layers.Dense(128, activation='relu'))\n",
    "#     model.add(tf.keras.layers.Dropout(0.5))\n",
    "#     model.add(tf.keras.layers.Dense(Classes,activation=\"softmax\"))\n",
    "#     return model"
   ]
  },
  {
   "cell_type": "code",
   "execution_count": 57,
   "metadata": {},
   "outputs": [],
   "source": [
    "# from tensorflow.keras import metrics"
   ]
  },
  {
   "cell_type": "code",
   "execution_count": 58,
   "metadata": {},
   "outputs": [],
   "source": [
    "# model = create_classical_model(combined_train[0].shape)\n",
    "# # optimizer = tf.keras.optimizers.Adam(0.01)\n",
    "# # optimizer.learning_rate.assign(0.00001)\n",
    "\n",
    "# optimizer = tf.keras.optimizers.Adam(LR)\n",
    "\n",
    "# model.compile(loss=tf.keras.losses.SparseCategoricalCrossentropy(),\n",
    "#               optimizer=optimizer,\n",
    "#               metrics=['accuracy'])\n",
    "\n",
    "\n",
    "# filepath=\"weights-improvemess1.hdf5\"\n",
    "# checkpoint = tf.keras.callbacks.ModelCheckpoint(filepath, monitor='accuracy', \n",
    "#                                                 verbose=1, save_best_only=True, \n",
    "#                                                 mode='max')\n",
    "# callbacks_list = [checkpoint]\n",
    "# print(len(combined_train))\n",
    "# history = model.fit(\n",
    "#           np.array(combined_train),np.array(combined_label),\n",
    "#           epochs=epoch,\n",
    "#           callbacks=callbacks_list\n",
    "#           )\n",
    "\n",
    "# # print(len(newDatatest)) \n",
    "# model.load_weights(filepath)\n",
    "# model.compile(loss=tf.keras.losses.SparseCategoricalCrossentropy(),\n",
    "#           optimizer=optimizer,\n",
    "#           metrics=['accuracy'])\n",
    "# # our_lenet = model.evaluate(np.array(combined_test), np.array(combined_label_test)\n",
    "# #     )[1] \n",
    "\n",
    "# plt.plot(history.history[\"accuracy\"], label='accuracy')    \n",
    "# # plt.plot(history.history[\"val_accuracy\"], label = 'val_accuracy')   \n",
    "# plt.xlabel('Epoch')   \n",
    "# plt.ylabel('Accuracy')      \n",
    "# plt.legend(loc='lower right')    \n",
    "# plt.show()  "
   ]
  },
  {
   "cell_type": "code",
   "execution_count": 59,
   "metadata": {},
   "outputs": [],
   "source": [
    "# def find_percentage_agreement(s1, s2):\n",
    "#     assert len(s1)==len(s2), \"Lists must have the same shape\"\n",
    "#     nb_agreements = 0  # initialize counter to 0\n",
    "#     for idx, value in enumerate(s1):\n",
    "#         if s2[idx] == value:\n",
    "#             nb_agreements += 1\n",
    "\n",
    "#     percentage_agreement = nb_agreements/len(s1)\n",
    "\n",
    "#     return percentage_agreement "
   ]
  },
  {
   "cell_type": "code",
   "execution_count": 60,
   "metadata": {},
   "outputs": [],
   "source": [
    "# combined_label_test[:20]"
   ]
  },
  {
   "cell_type": "code",
   "execution_count": 61,
   "metadata": {},
   "outputs": [],
   "source": [
    "# from collections import Counter\n",
    "# predictions = []\n",
    "# for batch,label in zip(combined_test[:],combined_label_test[:]):\n",
    "#   preds = model.predict(np.array(batch))\n",
    "#   votes = []\n",
    "#   for x,l,y in zip(batch,label,preds):\n",
    "#     votes.append(np.where(y == max(y))[0].tolist()[0])\n",
    "#     votes2 = Counter(votes)\n",
    "#   maxVotes = votes2.most_common(1)[0][0]\n",
    "#   # print(maxVotes) \n",
    "#   predictions.append(maxVotes)\n",
    "  \n",
    "# actualLabels = []\n",
    "# for x in combined_label_test[:]:\n",
    "#   actualLabels.append(x[0])\n",
    "   \n",
    "# our_lenet = find_percentage_agreement(predictions, actualLabels\n",
    "#                                      )\n",
    "# print(our_lenet)"
   ]
  },
  {
   "cell_type": "code",
   "execution_count": 62,
   "metadata": {},
   "outputs": [],
   "source": [
    "# np.savetxt(experiment_Name+\"_predicted_CBL.txt\",predictions)\n",
    "# np.savetxt(experiment_Name+\"_actual_CBL.txt\",actualLabels)"
   ]
  },
  {
   "cell_type": "code",
   "execution_count": 63,
   "metadata": {},
   "outputs": [],
   "source": [
    "# from sklearn.metrics import classification_report\n",
    "\n",
    "# # history = model.fit(x_train, y_train, batch_size=32, epochs=10, verbose=1, validation_data=(x_test, y_test), shuffle=True)\n",
    "# # pred = model.predict(x_test, batch_size=32, verbose=1)\n",
    "# # predicted = np.argmax(pred, axis=1)\n",
    "# # actualLabels = np.array([1,2,3,4,3,2,1,1])\n",
    "# # predictions = np.array([1,2,4,4,4,2,2,1])\n",
    "# report = classification_report(np.array(actualLabels), np.array(predictions))\n",
    "# print(report)"
   ]
  },
  {
   "cell_type": "code",
   "execution_count": 64,
   "metadata": {},
   "outputs": [],
   "source": [
    "# model.evaluate(np.array(combined_test[0][0]),np.array(combined_label_test[:28]))"
   ]
  },
  {
   "cell_type": "code",
   "execution_count": 65,
   "metadata": {},
   "outputs": [],
   "source": [
    "# import sklearn.metrics\n",
    "\n",
    "# y_true = actualLabels\n",
    "# y_pred = predictions\n",
    "\n",
    "# r = sklearn.metrics.confusion_matrix(y_true, y_pred)\n",
    "# print(r)"
   ]
  },
  {
   "cell_type": "code",
   "execution_count": 66,
   "metadata": {},
   "outputs": [],
   "source": [
    "# from sklearn.metrics import balanced_accuracy_score\n",
    "# y_true = actualLabels\n",
    "# y_pred = predictions\n",
    "# balanced_accuracy_score(y_true, y_pred)"
   ]
  },
  {
   "cell_type": "code",
   "execution_count": 67,
   "metadata": {},
   "outputs": [],
   "source": [
    "# from imblearn.metrics import geometric_mean_score\n",
    "# y_true = actualLabels\n",
    "# y_pred = predictions\n",
    "# # geometric_mean_score(y_true, y_pred)\n",
    "# geometric_mean_score(y_true, y_pred, average='macro')"
   ]
  },
  {
   "cell_type": "markdown",
   "metadata": {},
   "source": [
    "# SMOTE"
   ]
  },
  {
   "cell_type": "code",
   "execution_count": 68,
   "metadata": {},
   "outputs": [
    {
     "name": "stderr",
     "output_type": "stream",
     "text": [
      "C:\\Users\\Research6\\.conda\\envs\\pytorch\\lib\\site-packages\\seaborn\\_decorators.py:36: FutureWarning: Pass the following variable as a keyword arg: x. From version 0.12, the only valid positional argument will be `data`, and passing other arguments without an explicit keyword will result in an error or misinterpretation.\n",
      "  warnings.warn(\n"
     ]
    },
    {
     "data": {
      "text/plain": [
       "<AxesSubplot:ylabel='count'>"
      ]
     },
     "execution_count": 68,
     "metadata": {},
     "output_type": "execute_result"
    },
    {
     "data": {
      "image/png": "[encoded data removed]",
      "text/plain": [
       "<Figure size 432x288 with 1 Axes>"
      ]
     },
     "metadata": {
      "needs_background": "light"
     },
     "output_type": "display_data"
    }
   ],
   "source": [
    "import seaborn as sns \n",
    "sns.countplot(np.array(trainTraditionalLabel))"
   ]
  },
  {
   "cell_type": "code",
   "execution_count": 69,
   "metadata": {},
   "outputs": [
    {
     "data": {
      "text/plain": [
       "(100, 32, 32, 3)"
      ]
     },
     "execution_count": 69,
     "metadata": {},
     "output_type": "execute_result"
    }
   ],
   "source": [
    "trainTraditional.shape"
   ]
  },
  {
   "cell_type": "code",
   "execution_count": 70,
   "metadata": {},
   "outputs": [],
   "source": [
    "ReX_train = trainTraditional.reshape(100, 32 *32 * 3)"
   ]
  },
  {
   "cell_type": "code",
   "execution_count": 71,
   "metadata": {},
   "outputs": [
    {
     "data": {
      "text/plain": [
       "(100, 3072)"
      ]
     },
     "execution_count": 71,
     "metadata": {},
     "output_type": "execute_result"
    }
   ],
   "source": [
    "ReX_train.shape"
   ]
  },
  {
   "cell_type": "code",
   "execution_count": 72,
   "metadata": {},
   "outputs": [],
   "source": [
    "from imblearn.over_sampling import SMOTE\n",
    "sm = SMOTE(random_state=42)\n",
    "X_smote, y_smote = sm.fit_resample(ReX_train, trainTraditionalLabel)"
   ]
  },
  {
   "cell_type": "code",
   "execution_count": 73,
   "metadata": {},
   "outputs": [
    {
     "name": "stderr",
     "output_type": "stream",
     "text": [
      "C:\\Users\\Research6\\.conda\\envs\\pytorch\\lib\\site-packages\\seaborn\\_decorators.py:36: FutureWarning: Pass the following variable as a keyword arg: x. From version 0.12, the only valid positional argument will be `data`, and passing other arguments without an explicit keyword will result in an error or misinterpretation.\n",
      "  warnings.warn(\n"
     ]
    },
    {
     "data": {
      "text/plain": [
       "<AxesSubplot:ylabel='count'>"
      ]
     },
     "execution_count": 73,
     "metadata": {},
     "output_type": "execute_result"
    },
    {
     "data": {
      "image/png": "[encoded data removed]",
      "text/plain": [
       "<Figure size 432x288 with 1 Axes>"
      ]
     },
     "metadata": {
      "needs_background": "light"
     },
     "output_type": "display_data"
    }
   ],
   "source": [
    "import seaborn as sns \n",
    "sns.countplot(np.array(y_smote))"
   ]
  },
  {
   "cell_type": "code",
   "execution_count": 74,
   "metadata": {},
   "outputs": [],
   "source": [
    "ImagesData = []\n",
    "Labels = []\n",
    "\n",
    "for x,y in zip(X_smote,y_smote):\n",
    "    ImagesData.append(x.reshape(32,32,3))\n",
    "    Labels.append(y)"
   ]
  },
  {
   "cell_type": "code",
   "execution_count": 75,
   "metadata": {},
   "outputs": [
    {
     "data": {
      "text/plain": [
       "1"
      ]
     },
     "execution_count": 75,
     "metadata": {},
     "output_type": "execute_result"
    }
   ],
   "source": [
    "Labels[0]"
   ]
  },
  {
   "cell_type": "code",
   "execution_count": 76,
   "metadata": {},
   "outputs": [
    {
     "data": {
      "text/plain": [
       "((32, 32, 3), (210,))"
      ]
     },
     "execution_count": 76,
     "metadata": {},
     "output_type": "execute_result"
    }
   ],
   "source": [
    "ImagesData[0].shape,np.array(Labels[:]).shape"
   ]
  },
  {
   "cell_type": "code",
   "execution_count": 77,
   "metadata": {},
   "outputs": [],
   "source": [
    "Classes = 3\n",
    "# LR = 0.000009\n",
    "import tensorflow as tf\n",
    "import numpy as np\n",
    "%matplotlib inline\n",
    "import matplotlib.pyplot as plt \n",
    "from random import randint\n",
    "batch_size = 64"
   ]
  },
  {
   "cell_type": "code",
   "execution_count": 78,
   "metadata": {},
   "outputs": [
    {
     "name": "stdout",
     "output_type": "stream",
     "text": [
      "Epoch 1/100\n",
      "7/7 [==============================] - 0s 18ms/step - loss: 189.5589 - accuracy: 0.3810\n",
      "Epoch 2/100\n",
      "7/7 [==============================] - 0s 6ms/step - loss: 18.0542 - accuracy: 0.5095\n",
      "Epoch 3/100\n",
      "7/7 [==============================] - 0s 6ms/step - loss: 1.9843 - accuracy: 0.6857\n",
      "Epoch 4/100\n",
      "7/7 [==============================] - 0s 6ms/step - loss: 0.5991 - accuracy: 0.7857\n",
      "Epoch 5/100\n",
      "7/7 [==============================] - 0s 6ms/step - loss: 0.3913 - accuracy: 0.8905\n",
      "Epoch 6/100\n",
      "7/7 [==============================] - 0s 6ms/step - loss: 0.3273 - accuracy: 0.8476\n",
      "Epoch 7/100\n",
      "7/7 [==============================] - 0s 5ms/step - loss: 0.2524 - accuracy: 0.9048\n",
      "Epoch 8/100\n",
      "7/7 [==============================] - 0s 5ms/step - loss: 0.1426 - accuracy: 0.9524\n",
      "Epoch 9/100\n",
      "7/7 [==============================] - 0s 6ms/step - loss: 0.1315 - accuracy: 0.9524\n",
      "Epoch 10/100\n",
      "7/7 [==============================] - 0s 6ms/step - loss: 0.0651 - accuracy: 0.9857\n",
      "Epoch 11/100\n",
      "7/7 [==============================] - 0s 6ms/step - loss: 0.0689 - accuracy: 0.9762\n",
      "Epoch 12/100\n",
      "7/7 [==============================] - 0s 6ms/step - loss: 0.0858 - accuracy: 0.9762\n",
      "Epoch 13/100\n",
      "7/7 [==============================] - 0s 5ms/step - loss: 0.0545 - accuracy: 0.9905\n",
      "Epoch 14/100\n",
      "7/7 [==============================] - 0s 5ms/step - loss: 0.0541 - accuracy: 0.9857\n",
      "Epoch 15/100\n",
      "7/7 [==============================] - 0s 6ms/step - loss: 0.0698 - accuracy: 0.9810\n",
      "Epoch 16/100\n",
      "7/7 [==============================] - 0s 6ms/step - loss: 0.0369 - accuracy: 0.9952\n",
      "Epoch 17/100\n",
      "7/7 [==============================] - 0s 5ms/step - loss: 0.0364 - accuracy: 1.0000\n",
      "Epoch 18/100\n",
      "7/7 [==============================] - 0s 6ms/step - loss: 0.0454 - accuracy: 0.9905\n",
      "Epoch 19/100\n",
      "7/7 [==============================] - 0s 5ms/step - loss: 0.0477 - accuracy: 0.9857\n",
      "Epoch 20/100\n",
      "7/7 [==============================] - 0s 5ms/step - loss: 0.0110 - accuracy: 1.0000\n",
      "Epoch 21/100\n",
      "7/7 [==============================] - 0s 6ms/step - loss: 0.0518 - accuracy: 0.9810\n",
      "Epoch 22/100\n",
      "7/7 [==============================] - 0s 5ms/step - loss: 0.0129 - accuracy: 1.0000\n",
      "Epoch 23/100\n",
      "7/7 [==============================] - 0s 5ms/step - loss: 0.0973 - accuracy: 0.9810\n",
      "Epoch 24/100\n",
      "7/7 [==============================] - 0s 6ms/step - loss: 0.0251 - accuracy: 0.9905\n",
      "Epoch 25/100\n",
      "7/7 [==============================] - 0s 6ms/step - loss: 0.0352 - accuracy: 0.9857\n",
      "Epoch 26/100\n",
      "7/7 [==============================] - 0s 6ms/step - loss: 0.0702 - accuracy: 0.9762\n",
      "Epoch 27/100\n",
      "7/7 [==============================] - 0s 5ms/step - loss: 0.0275 - accuracy: 0.9905\n",
      "Epoch 28/100\n",
      "7/7 [==============================] - 0s 5ms/step - loss: 0.0287 - accuracy: 0.9905\n",
      "Epoch 29/100\n",
      "7/7 [==============================] - 0s 5ms/step - loss: 0.0205 - accuracy: 0.9952\n",
      "Epoch 30/100\n",
      "7/7 [==============================] - 0s 5ms/step - loss: 0.0086 - accuracy: 1.0000\n",
      "Epoch 31/100\n",
      "7/7 [==============================] - 0s 5ms/step - loss: 0.0169 - accuracy: 0.9905\n",
      "Epoch 32/100\n",
      "7/7 [==============================] - 0s 5ms/step - loss: 0.0100 - accuracy: 0.9952\n",
      "Epoch 33/100\n",
      "7/7 [==============================] - 0s 5ms/step - loss: 0.0012 - accuracy: 1.0000\n",
      "Epoch 34/100\n",
      "7/7 [==============================] - 0s 6ms/step - loss: 0.0020 - accuracy: 1.0000\n",
      "Epoch 35/100\n",
      "7/7 [==============================] - 0s 6ms/step - loss: 0.0124 - accuracy: 0.9905\n",
      "Epoch 36/100\n",
      "7/7 [==============================] - 0s 6ms/step - loss: 0.0049 - accuracy: 1.0000\n",
      "Epoch 37/100\n",
      "7/7 [==============================] - 0s 6ms/step - loss: 0.0173 - accuracy: 0.9905\n",
      "Epoch 38/100\n",
      "7/7 [==============================] - 0s 5ms/step - loss: 0.0014 - accuracy: 1.0000\n",
      "Epoch 39/100\n",
      "7/7 [==============================] - 0s 5ms/step - loss: 0.0016 - accuracy: 1.0000\n",
      "Epoch 40/100\n",
      "7/7 [==============================] - 0s 5ms/step - loss: 0.0405 - accuracy: 0.9952\n",
      "Epoch 41/100\n",
      "7/7 [==============================] - 0s 6ms/step - loss: 0.0075 - accuracy: 1.0000\n",
      "Epoch 42/100\n",
      "7/7 [==============================] - 0s 6ms/step - loss: 0.0059 - accuracy: 1.0000\n",
      "Epoch 43/100\n",
      "7/7 [==============================] - 0s 6ms/step - loss: 0.0098 - accuracy: 0.9952\n",
      "Epoch 44/100\n",
      "7/7 [==============================] - 0s 6ms/step - loss: 0.0129 - accuracy: 0.9952\n",
      "Epoch 45/100\n",
      "7/7 [==============================] - 0s 5ms/step - loss: 0.0093 - accuracy: 0.9952\n",
      "Epoch 46/100\n",
      "7/7 [==============================] - 0s 6ms/step - loss: 0.0274 - accuracy: 0.9905\n",
      "Epoch 47/100\n",
      "7/7 [==============================] - 0s 5ms/step - loss: 0.0123 - accuracy: 0.9952\n",
      "Epoch 48/100\n",
      "7/7 [==============================] - 0s 6ms/step - loss: 0.0401 - accuracy: 0.9905\n",
      "Epoch 49/100\n",
      "7/7 [==============================] - 0s 6ms/step - loss: 0.0103 - accuracy: 1.0000\n",
      "Epoch 50/100\n",
      "7/7 [==============================] - 0s 6ms/step - loss: 0.0042 - accuracy: 1.0000\n",
      "Epoch 51/100\n",
      "7/7 [==============================] - 0s 5ms/step - loss: 0.0093 - accuracy: 0.9952\n",
      "Epoch 52/100\n",
      "7/7 [==============================] - 0s 6ms/step - loss: 0.0384 - accuracy: 0.9952\n",
      "Epoch 53/100\n",
      "7/7 [==============================] - 0s 6ms/step - loss: 0.0279 - accuracy: 0.9810\n",
      "Epoch 54/100\n",
      "7/7 [==============================] - 0s 5ms/step - loss: 0.0183 - accuracy: 0.9905\n",
      "Epoch 55/100\n",
      "7/7 [==============================] - 0s 5ms/step - loss: 0.0594 - accuracy: 0.9810\n",
      "Epoch 56/100\n",
      "7/7 [==============================] - 0s 5ms/step - loss: 0.0627 - accuracy: 0.9905\n",
      "Epoch 57/100\n",
      "7/7 [==============================] - 0s 5ms/step - loss: 0.0589 - accuracy: 0.9857\n",
      "Epoch 58/100\n",
      "7/7 [==============================] - 0s 6ms/step - loss: 0.0156 - accuracy: 0.9905\n",
      "Epoch 59/100\n",
      "7/7 [==============================] - 0s 5ms/step - loss: 0.0072 - accuracy: 1.0000\n",
      "Epoch 60/100\n",
      "7/7 [==============================] - 0s 5ms/step - loss: 0.0564 - accuracy: 0.9810\n",
      "Epoch 61/100\n",
      "7/7 [==============================] - 0s 5ms/step - loss: 0.0110 - accuracy: 0.9952\n",
      "Epoch 62/100\n",
      "7/7 [==============================] - 0s 5ms/step - loss: 0.0206 - accuracy: 0.9905\n",
      "Epoch 63/100\n",
      "7/7 [==============================] - 0s 6ms/step - loss: 0.0074 - accuracy: 1.0000\n",
      "Epoch 64/100\n",
      "7/7 [==============================] - 0s 5ms/step - loss: 0.0193 - accuracy: 0.9905\n",
      "Epoch 65/100\n",
      "7/7 [==============================] - 0s 6ms/step - loss: 0.0334 - accuracy: 0.9905\n",
      "Epoch 66/100\n",
      "7/7 [==============================] - 0s 6ms/step - loss: 0.0371 - accuracy: 0.9905\n",
      "Epoch 67/100\n",
      "7/7 [==============================] - 0s 6ms/step - loss: 0.0046 - accuracy: 1.0000\n",
      "Epoch 68/100\n",
      "7/7 [==============================] - 0s 5ms/step - loss: 0.0303 - accuracy: 0.9905\n",
      "Epoch 69/100\n",
      "7/7 [==============================] - 0s 5ms/step - loss: 0.0099 - accuracy: 0.9952\n",
      "Epoch 70/100\n",
      "7/7 [==============================] - 0s 6ms/step - loss: 0.0284 - accuracy: 0.9857\n",
      "Epoch 71/100\n",
      "7/7 [==============================] - 0s 6ms/step - loss: 0.0181 - accuracy: 0.9952\n",
      "Epoch 72/100\n",
      "7/7 [==============================] - 0s 5ms/step - loss: 0.0105 - accuracy: 0.9952\n",
      "Epoch 73/100\n",
      "7/7 [==============================] - 0s 5ms/step - loss: 0.0057 - accuracy: 1.0000\n",
      "Epoch 74/100\n",
      "7/7 [==============================] - 0s 6ms/step - loss: 0.0125 - accuracy: 0.9905\n",
      "Epoch 75/100\n",
      "7/7 [==============================] - 0s 6ms/step - loss: 0.0071 - accuracy: 0.9952\n",
      "Epoch 76/100\n",
      "7/7 [==============================] - 0s 5ms/step - loss: 0.0024 - accuracy: 1.0000\n",
      "Epoch 77/100\n",
      "7/7 [==============================] - 0s 5ms/step - loss: 0.0063 - accuracy: 0.9952\n",
      "Epoch 78/100\n",
      "7/7 [==============================] - 0s 6ms/step - loss: 0.0134 - accuracy: 0.9905\n",
      "Epoch 79/100\n",
      "7/7 [==============================] - 0s 6ms/step - loss: 0.0107 - accuracy: 0.9952\n",
      "Epoch 80/100\n",
      "7/7 [==============================] - 0s 5ms/step - loss: 0.0203 - accuracy: 0.9905\n",
      "Epoch 81/100\n",
      "7/7 [==============================] - 0s 5ms/step - loss: 0.0137 - accuracy: 0.9952\n",
      "Epoch 82/100\n",
      "7/7 [==============================] - 0s 5ms/step - loss: 0.0228 - accuracy: 0.9952\n",
      "Epoch 83/100\n",
      "7/7 [==============================] - 0s 5ms/step - loss: 0.0156 - accuracy: 0.9952\n",
      "Epoch 84/100\n"
     ]
    },
    {
     "name": "stdout",
     "output_type": "stream",
     "text": [
      "7/7 [==============================] - 0s 6ms/step - loss: 0.0108 - accuracy: 0.9952\n",
      "Epoch 85/100\n",
      "7/7 [==============================] - 0s 6ms/step - loss: 0.0012 - accuracy: 1.0000\n",
      "Epoch 86/100\n",
      "7/7 [==============================] - 0s 6ms/step - loss: 0.0028 - accuracy: 1.0000\n",
      "Epoch 87/100\n",
      "7/7 [==============================] - 0s 5ms/step - loss: 4.1879e-04 - accuracy: 1.0000\n",
      "Epoch 88/100\n",
      "7/7 [==============================] - 0s 5ms/step - loss: 0.0019 - accuracy: 1.0000\n",
      "Epoch 89/100\n",
      "7/7 [==============================] - 0s 5ms/step - loss: 0.0030 - accuracy: 1.0000\n",
      "Epoch 90/100\n",
      "7/7 [==============================] - 0s 5ms/step - loss: 0.0058 - accuracy: 0.9952\n",
      "Epoch 91/100\n",
      "7/7 [==============================] - 0s 5ms/step - loss: 0.0018 - accuracy: 1.0000\n",
      "Epoch 92/100\n",
      "7/7 [==============================] - 0s 5ms/step - loss: 0.0029 - accuracy: 1.0000\n",
      "Epoch 93/100\n",
      "7/7 [==============================] - 0s 5ms/step - loss: 7.2790e-05 - accuracy: 1.0000\n",
      "Epoch 94/100\n",
      "7/7 [==============================] - 0s 6ms/step - loss: 0.0062 - accuracy: 0.9952\n",
      "Epoch 95/100\n",
      "7/7 [==============================] - 0s 5ms/step - loss: 0.0036 - accuracy: 1.0000\n",
      "Epoch 96/100\n",
      "7/7 [==============================] - 0s 6ms/step - loss: 2.6641e-04 - accuracy: 1.0000\n",
      "Epoch 97/100\n",
      "7/7 [==============================] - 0s 6ms/step - loss: 0.0130 - accuracy: 0.9952\n",
      "Epoch 98/100\n",
      "7/7 [==============================] - 0s 6ms/step - loss: 0.0021 - accuracy: 1.0000\n",
      "Epoch 99/100\n",
      "7/7 [==============================] - 0s 5ms/step - loss: 5.0271e-04 - accuracy: 1.0000\n",
      "Epoch 100/100\n",
      "7/7 [==============================] - 0s 6ms/step - loss: 0.0040 - accuracy: 1.0000\n"
     ]
    }
   ],
   "source": [
    "def create_classical_model():\n",
    "    # A simple model based off LeNet from https://keras.io/examples/mnist_cnn/\n",
    "    model = tf.keras.Sequential()\n",
    "    model.add(tf.keras.layers.Conv2D(32, [3, 3], activation='relu', input_shape=(32,32,3)))\n",
    "    model.add(tf.keras.layers.Conv2D(64, [3, 3], activation='relu'))\n",
    "    model.add(tf.keras.layers.MaxPooling2D(pool_size=(2, 2)))\n",
    "    model.add(tf.keras.layers.Dropout(0.25))\n",
    "    model.add(tf.keras.layers.Flatten()\n",
    "    )\n",
    "    model.add(tf.keras.layers.Dense(128, activation='relu'))\n",
    "    model.add(tf.keras.layers.Dropout(0.5))\n",
    "    model.add(tf.keras.layers.Dense(3))\n",
    "    return model\n",
    "\n",
    "\n",
    "model = create_classical_model()\n",
    "\n",
    "\n",
    "\n",
    "optimizer = tf.keras.optimizers.Adam()\n",
    "# optimizer.learning_rate.assign(0.00001)\n",
    "\n",
    "\n",
    "\n",
    "\n",
    "\n",
    "model.compile(loss=tf.keras.losses.SparseCategoricalCrossentropy(from_logits=True),\n",
    "              optimizer=optimizer,\n",
    "              metrics=['accuracy'])\n",
    "\n",
    "\n",
    "\n",
    "# upto = int(min_working_no *.7)\n",
    "# print(upto)\n",
    "history2 = model.fit(np.array(ImagesData[:]),\n",
    "        np.array(Labels[:]),\n",
    "        epochs=100,\n",
    "        )\n"
   ]
  },
  {
   "cell_type": "code",
   "execution_count": 79,
   "metadata": {},
   "outputs": [
    {
     "data": {
      "text/plain": [
       "'accuracy >> 0.7575757503509521'"
      ]
     },
     "execution_count": 79,
     "metadata": {},
     "output_type": "execute_result"
    }
   ],
   "source": [
    "\"accuracy >> {}\".format(model.evaluate(np.array(x_test), np.array(y_test), verbose=0)[1])  "
   ]
  },
  {
   "cell_type": "code",
   "execution_count": 80,
   "metadata": {},
   "outputs": [],
   "source": [
    "\n",
    "# preds = model.predict(np.array(x_test))\n",
    "y_prob = model.predict(np.array(x_test)) \n",
    "y_classes = y_prob.argmax(axis=-1)"
   ]
  },
  {
   "cell_type": "code",
   "execution_count": 81,
   "metadata": {},
   "outputs": [
    {
     "name": "stdout",
     "output_type": "stream",
     "text": [
      "              precision    recall  f1-score   support\n",
      "\n",
      "           0       1.00      0.88      0.94        26\n",
      "           1       0.78      0.35      0.48        20\n",
      "           2       0.59      1.00      0.74        20\n",
      "\n",
      "    accuracy                           0.76        66\n",
      "   macro avg       0.79      0.74      0.72        66\n",
      "weighted avg       0.81      0.76      0.74        66\n",
      "\n"
     ]
    }
   ],
   "source": [
    "from sklearn.metrics import classification_report\n",
    "\n",
    "\n",
    "# report = classification_report(np.array(y_test), np.array(predictions).argmax(axis=-1))\n",
    "# print(report)\n",
    "report = classification_report(y_test, y_classes)\n",
    "print(report)"
   ]
  },
  {
   "cell_type": "code",
   "execution_count": 82,
   "metadata": {},
   "outputs": [
    {
     "name": "stdout",
     "output_type": "stream",
     "text": [
      "[[23  2  1]\n",
      " [ 0  7 13]\n",
      " [ 0  0 20]]\n"
     ]
    },
    {
     "data": {
      "image/png": "[encoded data removed]",
      "text/plain": [
       "<Figure size 432x288 with 2 Axes>"
      ]
     },
     "metadata": {
      "needs_background": "light"
     },
     "output_type": "display_data"
    }
   ],
   "source": [
    "import sklearn.metrics\n",
    "\n",
    "y_true = y_test\n",
    "y_pred = y_classes\n",
    "\n",
    "r = sklearn.metrics.confusion_matrix(y_true, y_pred)\n",
    "sn.heatmap(r, annot=True,cmap=\"OrRd\")\n",
    "plt.savefig(\"smote1\"+ \".jpg\", dpi = 600)\n",
    "print(r)"
   ]
  },
  {
   "cell_type": "code",
   "execution_count": 83,
   "metadata": {},
   "outputs": [
    {
     "data": {
      "text/plain": [
       "0.7448717948717949"
      ]
     },
     "execution_count": 83,
     "metadata": {},
     "output_type": "execute_result"
    }
   ],
   "source": [
    "from sklearn.metrics import balanced_accuracy_score\n",
    "y_true = y_test\n",
    "y_pred = y_classes\n",
    "balanced_accuracy_score(y_true, y_pred)"
   ]
  },
  {
   "cell_type": "code",
   "execution_count": 84,
   "metadata": {},
   "outputs": [
    {
     "data": {
      "text/plain": [
       "0.8114861968267127"
      ]
     },
     "execution_count": 84,
     "metadata": {},
     "output_type": "execute_result"
    }
   ],
   "source": [
    "from imblearn.metrics import geometric_mean_score\n",
    "y_true = y_test\n",
    "y_pred = y_classes\n",
    "# geometric_mean_score(y_true, y_pred)\n",
    "geometric_mean_score(y_true, y_pred, average='macro')\n",
    "\n",
    "\n"
   ]
  },
  {
   "cell_type": "markdown",
   "metadata": {},
   "source": [
    "# SVM SMOTE"
   ]
  },
  {
   "cell_type": "code",
   "execution_count": 85,
   "metadata": {},
   "outputs": [
    {
     "name": "stderr",
     "output_type": "stream",
     "text": [
      "C:\\Users\\Research6\\.conda\\envs\\pytorch\\lib\\site-packages\\seaborn\\_decorators.py:36: FutureWarning: Pass the following variable as a keyword arg: x. From version 0.12, the only valid positional argument will be `data`, and passing other arguments without an explicit keyword will result in an error or misinterpretation.\n",
      "  warnings.warn(\n"
     ]
    },
    {
     "data": {
      "text/plain": [
       "<AxesSubplot:ylabel='count'>"
      ]
     },
     "execution_count": 85,
     "metadata": {},
     "output_type": "execute_result"
    },
    {
     "data": {
      "image/png": "[encoded data removed]",
      "text/plain": [
       "<Figure size 432x288 with 1 Axes>"
      ]
     },
     "metadata": {
      "needs_background": "light"
     },
     "output_type": "display_data"
    }
   ],
   "source": [
    "import seaborn as sns \n",
    "sns.countplot(np.array(trainTraditionalLabel))"
   ]
  },
  {
   "cell_type": "code",
   "execution_count": 86,
   "metadata": {},
   "outputs": [
    {
     "data": {
      "text/plain": [
       "(100, 32, 32, 3)"
      ]
     },
     "execution_count": 86,
     "metadata": {},
     "output_type": "execute_result"
    }
   ],
   "source": [
    "trainTraditional.shape"
   ]
  },
  {
   "cell_type": "code",
   "execution_count": 87,
   "metadata": {},
   "outputs": [],
   "source": [
    "ReX_train = trainTraditional.reshape(100, 32 *32 * 3)"
   ]
  },
  {
   "cell_type": "code",
   "execution_count": 88,
   "metadata": {},
   "outputs": [
    {
     "data": {
      "text/plain": [
       "(100, 3072)"
      ]
     },
     "execution_count": 88,
     "metadata": {},
     "output_type": "execute_result"
    }
   ],
   "source": [
    "ReX_train.shape"
   ]
  },
  {
   "cell_type": "code",
   "execution_count": 89,
   "metadata": {},
   "outputs": [],
   "source": [
    "from imblearn.over_sampling import SVMSMOTE \n",
    "sm = SVMSMOTE(random_state=42)\n",
    "X_smote, y_smote = sm.fit_resample(ReX_train, trainTraditionalLabel)"
   ]
  },
  {
   "cell_type": "code",
   "execution_count": 90,
   "metadata": {},
   "outputs": [
    {
     "name": "stderr",
     "output_type": "stream",
     "text": [
      "C:\\Users\\Research6\\.conda\\envs\\pytorch\\lib\\site-packages\\seaborn\\_decorators.py:36: FutureWarning: Pass the following variable as a keyword arg: x. From version 0.12, the only valid positional argument will be `data`, and passing other arguments without an explicit keyword will result in an error or misinterpretation.\n",
      "  warnings.warn(\n"
     ]
    },
    {
     "data": {
      "text/plain": [
       "<AxesSubplot:ylabel='count'>"
      ]
     },
     "execution_count": 90,
     "metadata": {},
     "output_type": "execute_result"
    },
    {
     "data": {
      "image/png": "[encoded data removed]",
      "text/plain": [
       "<Figure size 432x288 with 1 Axes>"
      ]
     },
     "metadata": {
      "needs_background": "light"
     },
     "output_type": "display_data"
    }
   ],
   "source": [
    "import seaborn as sns \n",
    "sns.countplot(np.array(y_smote))"
   ]
  },
  {
   "cell_type": "code",
   "execution_count": 91,
   "metadata": {},
   "outputs": [],
   "source": [
    "ImagesData = []\n",
    "Labels = []\n",
    "\n",
    "for x,y in zip(X_smote,y_smote):\n",
    "    ImagesData.append(x.reshape(32,32,3))\n",
    "    Labels.append(y)"
   ]
  },
  {
   "cell_type": "code",
   "execution_count": 92,
   "metadata": {},
   "outputs": [
    {
     "data": {
      "text/plain": [
       "((32, 32, 3), (210,))"
      ]
     },
     "execution_count": 92,
     "metadata": {},
     "output_type": "execute_result"
    }
   ],
   "source": [
    "ImagesData[0].shape,np.array(Labels[:]).shape"
   ]
  },
  {
   "cell_type": "code",
   "execution_count": 93,
   "metadata": {},
   "outputs": [],
   "source": [
    "Classes = 3\n",
    "# LR = 0.000009\n",
    "import tensorflow as tf\n",
    "import numpy as np\n",
    "%matplotlib inline\n",
    "import matplotlib.pyplot as plt \n",
    "from random import randint\n",
    "batch_size = 64"
   ]
  },
  {
   "cell_type": "code",
   "execution_count": 94,
   "metadata": {},
   "outputs": [
    {
     "name": "stdout",
     "output_type": "stream",
     "text": [
      "Epoch 1/100\n",
      "7/7 [==============================] - 0s 7ms/step - loss: 154.4171 - accuracy: 0.3143\n",
      "Epoch 2/100\n",
      "7/7 [==============================] - 0s 7ms/step - loss: 9.7311 - accuracy: 0.4810\n",
      "Epoch 3/100\n",
      "7/7 [==============================] - 0s 7ms/step - loss: 0.9361 - accuracy: 0.7667\n",
      "Epoch 4/100\n",
      "7/7 [==============================] - 0s 7ms/step - loss: 0.2979 - accuracy: 0.8952\n",
      "Epoch 5/100\n",
      "7/7 [==============================] - 0s 7ms/step - loss: 0.1972 - accuracy: 0.9286\n",
      "Epoch 6/100\n",
      "7/7 [==============================] - 0s 7ms/step - loss: 0.1876 - accuracy: 0.9429\n",
      "Epoch 7/100\n",
      "7/7 [==============================] - 0s 7ms/step - loss: 0.0970 - accuracy: 0.9714\n",
      "Epoch 8/100\n",
      "7/7 [==============================] - 0s 7ms/step - loss: 0.0830 - accuracy: 0.9619\n",
      "Epoch 9/100\n",
      "7/7 [==============================] - 0s 6ms/step - loss: 0.0786 - accuracy: 0.9762\n",
      "Epoch 10/100\n",
      "7/7 [==============================] - 0s 6ms/step - loss: 0.0655 - accuracy: 0.9857\n",
      "Epoch 11/100\n",
      "7/7 [==============================] - 0s 6ms/step - loss: 0.0648 - accuracy: 0.9905\n",
      "Epoch 12/100\n",
      "7/7 [==============================] - 0s 6ms/step - loss: 0.0474 - accuracy: 0.9810\n",
      "Epoch 13/100\n",
      "7/7 [==============================] - 0s 6ms/step - loss: 0.0341 - accuracy: 0.9810\n",
      "Epoch 14/100\n",
      "7/7 [==============================] - 0s 6ms/step - loss: 0.0114 - accuracy: 1.0000\n",
      "Epoch 15/100\n",
      "7/7 [==============================] - 0s 6ms/step - loss: 0.0366 - accuracy: 0.9762\n",
      "Epoch 16/100\n",
      "7/7 [==============================] - 0s 6ms/step - loss: 0.0152 - accuracy: 1.0000\n",
      "Epoch 17/100\n",
      "7/7 [==============================] - 0s 8ms/step - loss: 0.0153 - accuracy: 0.9952\n",
      "Epoch 18/100\n",
      "7/7 [==============================] - 0s 6ms/step - loss: 0.0061 - accuracy: 1.0000\n",
      "Epoch 19/100\n",
      "7/7 [==============================] - 0s 6ms/step - loss: 0.0113 - accuracy: 0.9952\n",
      "Epoch 20/100\n",
      "7/7 [==============================] - 0s 6ms/step - loss: 0.0033 - accuracy: 1.0000\n",
      "Epoch 21/100\n",
      "7/7 [==============================] - 0s 6ms/step - loss: 0.0212 - accuracy: 0.9905\n",
      "Epoch 22/100\n",
      "7/7 [==============================] - 0s 6ms/step - loss: 0.0034 - accuracy: 1.0000\n",
      "Epoch 23/100\n",
      "7/7 [==============================] - 0s 6ms/step - loss: 0.0084 - accuracy: 0.9952\n",
      "Epoch 24/100\n",
      "7/7 [==============================] - 0s 5ms/step - loss: 0.0062 - accuracy: 1.0000\n",
      "Epoch 25/100\n",
      "7/7 [==============================] - 0s 6ms/step - loss: 0.0065 - accuracy: 0.9952\n",
      "Epoch 26/100\n",
      "7/7 [==============================] - 0s 5ms/step - loss: 0.0053 - accuracy: 1.0000\n",
      "Epoch 27/100\n",
      "7/7 [==============================] - 0s 6ms/step - loss: 0.0133 - accuracy: 0.9952\n",
      "Epoch 28/100\n",
      "7/7 [==============================] - 0s 6ms/step - loss: 0.0121 - accuracy: 0.9952\n",
      "Epoch 29/100\n",
      "7/7 [==============================] - 0s 6ms/step - loss: 0.0065 - accuracy: 1.0000\n",
      "Epoch 30/100\n",
      "7/7 [==============================] - 0s 5ms/step - loss: 0.0028 - accuracy: 1.0000\n",
      "Epoch 31/100\n",
      "7/7 [==============================] - 0s 6ms/step - loss: 0.0032 - accuracy: 1.0000\n",
      "Epoch 32/100\n",
      "7/7 [==============================] - 0s 5ms/step - loss: 0.0036 - accuracy: 1.0000\n",
      "Epoch 33/100\n",
      "7/7 [==============================] - 0s 6ms/step - loss: 0.0387 - accuracy: 0.9952\n",
      "Epoch 34/100\n",
      "7/7 [==============================] - 0s 6ms/step - loss: 0.0635 - accuracy: 0.9810\n",
      "Epoch 35/100\n",
      "7/7 [==============================] - 0s 6ms/step - loss: 0.0265 - accuracy: 0.9952\n",
      "Epoch 36/100\n",
      "7/7 [==============================] - 0s 6ms/step - loss: 0.0275 - accuracy: 0.9905\n",
      "Epoch 37/100\n",
      "7/7 [==============================] - 0s 6ms/step - loss: 0.0314 - accuracy: 0.9905\n",
      "Epoch 38/100\n",
      "7/7 [==============================] - 0s 6ms/step - loss: 0.0196 - accuracy: 0.9952\n",
      "Epoch 39/100\n",
      "7/7 [==============================] - 0s 6ms/step - loss: 0.0077 - accuracy: 0.9952\n",
      "Epoch 40/100\n",
      "7/7 [==============================] - 0s 6ms/step - loss: 0.0415 - accuracy: 0.9905\n",
      "Epoch 41/100\n",
      "7/7 [==============================] - 0s 6ms/step - loss: 0.0670 - accuracy: 0.9905\n",
      "Epoch 42/100\n",
      "7/7 [==============================] - 0s 6ms/step - loss: 0.0625 - accuracy: 0.9905\n",
      "Epoch 43/100\n",
      "7/7 [==============================] - 0s 6ms/step - loss: 0.0480 - accuracy: 0.9762\n",
      "Epoch 44/100\n",
      "7/7 [==============================] - 0s 5ms/step - loss: 0.0207 - accuracy: 0.9952\n",
      "Epoch 45/100\n",
      "7/7 [==============================] - 0s 5ms/step - loss: 0.1249 - accuracy: 0.9762\n",
      "Epoch 46/100\n",
      "7/7 [==============================] - 0s 6ms/step - loss: 0.0179 - accuracy: 0.9952\n",
      "Epoch 47/100\n",
      "7/7 [==============================] - 0s 6ms/step - loss: 0.0138 - accuracy: 1.0000\n",
      "Epoch 48/100\n",
      "7/7 [==============================] - 0s 6ms/step - loss: 0.0135 - accuracy: 0.9952\n",
      "Epoch 49/100\n",
      "7/7 [==============================] - 0s 5ms/step - loss: 0.0427 - accuracy: 0.9952\n",
      "Epoch 50/100\n",
      "7/7 [==============================] - 0s 5ms/step - loss: 0.0174 - accuracy: 0.9905\n",
      "Epoch 51/100\n",
      "7/7 [==============================] - 0s 5ms/step - loss: 0.0766 - accuracy: 0.9905\n",
      "Epoch 52/100\n",
      "7/7 [==============================] - 0s 5ms/step - loss: 0.0079 - accuracy: 1.0000\n",
      "Epoch 53/100\n",
      "7/7 [==============================] - 0s 5ms/step - loss: 0.0123 - accuracy: 0.9952\n",
      "Epoch 54/100\n",
      "7/7 [==============================] - 0s 6ms/step - loss: 0.0282 - accuracy: 0.9857\n",
      "Epoch 55/100\n",
      "7/7 [==============================] - 0s 5ms/step - loss: 0.0117 - accuracy: 0.9952\n",
      "Epoch 56/100\n",
      "7/7 [==============================] - 0s 5ms/step - loss: 0.0136 - accuracy: 0.9952\n",
      "Epoch 57/100\n",
      "7/7 [==============================] - 0s 5ms/step - loss: 0.0089 - accuracy: 0.9952\n",
      "Epoch 58/100\n",
      "7/7 [==============================] - 0s 5ms/step - loss: 7.6337e-04 - accuracy: 1.0000\n",
      "Epoch 59/100\n",
      "7/7 [==============================] - 0s 6ms/step - loss: 0.0024 - accuracy: 1.0000\n",
      "Epoch 60/100\n",
      "7/7 [==============================] - 0s 5ms/step - loss: 0.0049 - accuracy: 1.0000\n",
      "Epoch 61/100\n",
      "7/7 [==============================] - 0s 6ms/step - loss: 0.0084 - accuracy: 1.0000\n",
      "Epoch 62/100\n",
      "7/7 [==============================] - 0s 6ms/step - loss: 0.0172 - accuracy: 0.9952\n",
      "Epoch 63/100\n",
      "7/7 [==============================] - 0s 6ms/step - loss: 0.0373 - accuracy: 0.9952\n",
      "Epoch 64/100\n",
      "7/7 [==============================] - 0s 5ms/step - loss: 0.0647 - accuracy: 0.9857\n",
      "Epoch 65/100\n",
      "7/7 [==============================] - 0s 5ms/step - loss: 0.0194 - accuracy: 1.0000\n",
      "Epoch 66/100\n",
      "7/7 [==============================] - 0s 5ms/step - loss: 0.0394 - accuracy: 0.9905\n",
      "Epoch 67/100\n",
      "7/7 [==============================] - 0s 6ms/step - loss: 0.0426 - accuracy: 0.9905\n",
      "Epoch 68/100\n",
      "7/7 [==============================] - 0s 5ms/step - loss: 0.0094 - accuracy: 1.0000\n",
      "Epoch 69/100\n",
      "7/7 [==============================] - 0s 6ms/step - loss: 0.0996 - accuracy: 0.9619\n",
      "Epoch 70/100\n",
      "7/7 [==============================] - 0s 5ms/step - loss: 0.0142 - accuracy: 1.0000\n",
      "Epoch 71/100\n",
      "7/7 [==============================] - 0s 6ms/step - loss: 0.0142 - accuracy: 0.9905\n",
      "Epoch 72/100\n",
      "7/7 [==============================] - 0s 5ms/step - loss: 0.0069 - accuracy: 1.0000\n",
      "Epoch 73/100\n",
      "7/7 [==============================] - 0s 6ms/step - loss: 0.0567 - accuracy: 0.9857\n",
      "Epoch 74/100\n",
      "7/7 [==============================] - 0s 5ms/step - loss: 0.0069 - accuracy: 1.0000\n",
      "Epoch 75/100\n",
      "7/7 [==============================] - 0s 5ms/step - loss: 0.2075 - accuracy: 0.9810\n",
      "Epoch 76/100\n",
      "7/7 [==============================] - 0s 6ms/step - loss: 0.1255 - accuracy: 0.9762\n",
      "Epoch 77/100\n",
      "7/7 [==============================] - 0s 6ms/step - loss: 0.0193 - accuracy: 0.9905\n",
      "Epoch 78/100\n",
      "7/7 [==============================] - 0s 5ms/step - loss: 0.1415 - accuracy: 0.9667\n",
      "Epoch 79/100\n",
      "7/7 [==============================] - 0s 5ms/step - loss: 0.1726 - accuracy: 0.9667\n",
      "Epoch 80/100\n",
      "7/7 [==============================] - 0s 5ms/step - loss: 0.0754 - accuracy: 0.9905\n",
      "Epoch 81/100\n",
      "7/7 [==============================] - 0s 6ms/step - loss: 0.0491 - accuracy: 0.9762\n",
      "Epoch 82/100\n",
      "7/7 [==============================] - 0s 6ms/step - loss: 0.0457 - accuracy: 0.9952\n",
      "Epoch 83/100\n",
      "7/7 [==============================] - 0s 6ms/step - loss: 0.0367 - accuracy: 0.9857\n",
      "Epoch 84/100\n"
     ]
    },
    {
     "name": "stdout",
     "output_type": "stream",
     "text": [
      "7/7 [==============================] - 0s 5ms/step - loss: 0.0014 - accuracy: 1.0000\n",
      "Epoch 85/100\n",
      "7/7 [==============================] - 0s 5ms/step - loss: 0.0088 - accuracy: 0.9952\n",
      "Epoch 86/100\n",
      "7/7 [==============================] - 0s 5ms/step - loss: 0.0135 - accuracy: 0.9952\n",
      "Epoch 87/100\n",
      "7/7 [==============================] - 0s 5ms/step - loss: 0.0303 - accuracy: 0.9905\n",
      "Epoch 88/100\n",
      "7/7 [==============================] - 0s 6ms/step - loss: 0.0299 - accuracy: 0.9905\n",
      "Epoch 89/100\n",
      "7/7 [==============================] - 0s 5ms/step - loss: 0.0033 - accuracy: 1.0000\n",
      "Epoch 90/100\n",
      "7/7 [==============================] - 0s 5ms/step - loss: 0.0344 - accuracy: 0.9857\n",
      "Epoch 91/100\n",
      "7/7 [==============================] - 0s 6ms/step - loss: 0.0371 - accuracy: 0.9952\n",
      "Epoch 92/100\n",
      "7/7 [==============================] - 0s 5ms/step - loss: 0.0084 - accuracy: 1.0000\n",
      "Epoch 93/100\n",
      "7/7 [==============================] - 0s 6ms/step - loss: 0.0013 - accuracy: 1.0000\n",
      "Epoch 94/100\n",
      "7/7 [==============================] - 0s 5ms/step - loss: 7.3192e-04 - accuracy: 1.0000\n",
      "Epoch 95/100\n",
      "7/7 [==============================] - 0s 5ms/step - loss: 0.0152 - accuracy: 0.9905\n",
      "Epoch 96/100\n",
      "7/7 [==============================] - 0s 5ms/step - loss: 0.0176 - accuracy: 0.9905\n",
      "Epoch 97/100\n",
      "7/7 [==============================] - 0s 6ms/step - loss: 0.0100 - accuracy: 0.9952\n",
      "Epoch 98/100\n",
      "7/7 [==============================] - 0s 5ms/step - loss: 0.0010 - accuracy: 1.0000\n",
      "Epoch 99/100\n",
      "7/7 [==============================] - 0s 5ms/step - loss: 0.0081 - accuracy: 0.9952\n",
      "Epoch 100/100\n",
      "7/7 [==============================] - 0s 5ms/step - loss: 0.0235 - accuracy: 0.9905\n"
     ]
    }
   ],
   "source": [
    "def create_classical_model():\n",
    "    # A simple model based off LeNet from https://keras.io/examples/mnist_cnn/\n",
    "    model = tf.keras.Sequential()\n",
    "    model.add(tf.keras.layers.Conv2D(32, [3, 3], activation='relu', input_shape=(32,32,3)))\n",
    "    model.add(tf.keras.layers.Conv2D(64, [3, 3], activation='relu'))\n",
    "    model.add(tf.keras.layers.MaxPooling2D(pool_size=(2, 2)))\n",
    "    model.add(tf.keras.layers.Dropout(0.25))\n",
    "    model.add(tf.keras.layers.Flatten()\n",
    "    )\n",
    "    model.add(tf.keras.layers.Dense(128, activation='relu'))\n",
    "    model.add(tf.keras.layers.Dropout(0.5))\n",
    "    model.add(tf.keras.layers.Dense(3))\n",
    "    return model\n",
    "\n",
    "\n",
    "model = create_classical_model()\n",
    "\n",
    "\n",
    "\n",
    "optimizer = tf.keras.optimizers.Adam()\n",
    "# optimizer.learning_rate.assign(0.00001)\n",
    "\n",
    "\n",
    "\n",
    "\n",
    "\n",
    "model.compile(loss=tf.keras.losses.SparseCategoricalCrossentropy(from_logits=True),\n",
    "              optimizer=optimizer,\n",
    "              metrics=['accuracy'])\n",
    "\n",
    "\n",
    "\n",
    "# upto = int(min_working_no *.7)\n",
    "# print(upto)\n",
    "history2 = model.fit(np.array(ImagesData[:]),\n",
    "        np.array(Labels[:]),\n",
    "        epochs=100,\n",
    "        )\n"
   ]
  },
  {
   "cell_type": "code",
   "execution_count": 95,
   "metadata": {},
   "outputs": [
    {
     "data": {
      "text/plain": [
       "'accuracy >> 0.6515151262283325'"
      ]
     },
     "execution_count": 95,
     "metadata": {},
     "output_type": "execute_result"
    }
   ],
   "source": [
    "\"accuracy >> {}\".format(model.evaluate(np.array(x_test), np.array(y_test), verbose=0)[1])  "
   ]
  },
  {
   "cell_type": "code",
   "execution_count": 96,
   "metadata": {},
   "outputs": [],
   "source": [
    "# preds = model.predict(np.array(x_test))\n",
    "y_prob = model.predict(np.array(x_test)) \n",
    "y_classes = y_prob.argmax(axis=-1)"
   ]
  },
  {
   "cell_type": "code",
   "execution_count": 97,
   "metadata": {},
   "outputs": [
    {
     "name": "stdout",
     "output_type": "stream",
     "text": [
      "              precision    recall  f1-score   support\n",
      "\n",
      "           0       1.00      0.62      0.76        26\n",
      "           1       0.48      0.50      0.49        20\n",
      "           2       0.59      0.85      0.69        20\n",
      "\n",
      "    accuracy                           0.65        66\n",
      "   macro avg       0.69      0.66      0.65        66\n",
      "weighted avg       0.72      0.65      0.66        66\n",
      "\n"
     ]
    }
   ],
   "source": [
    "from sklearn.metrics import classification_report\n",
    "\n",
    "\n",
    "# report = classification_report(np.array(y_test), np.array(predictions).argmax(axis=-1))\n",
    "# print(report)\n",
    "report = classification_report(y_test, y_classes)\n",
    "print(report)"
   ]
  },
  {
   "cell_type": "code",
   "execution_count": 98,
   "metadata": {},
   "outputs": [
    {
     "name": "stdout",
     "output_type": "stream",
     "text": [
      "[[16  8  2]\n",
      " [ 0 10 10]\n",
      " [ 0  3 17]]\n"
     ]
    },
    {
     "data": {
      "image/png": "[encoded data removed]",
      "text/plain": [
       "<Figure size 432x288 with 2 Axes>"
      ]
     },
     "metadata": {
      "needs_background": "light"
     },
     "output_type": "display_data"
    }
   ],
   "source": [
    "import sklearn.metrics\n",
    "\n",
    "y_true = y_test\n",
    "y_pred = y_classes\n",
    "\n",
    "r = sklearn.metrics.confusion_matrix(y_true, y_pred)\n",
    "sn.heatmap(r, annot=True,cmap=\"OrRd\")\n",
    "plt.savefig(\"svm smote1\"+ \".jpg\", dpi = 600)\n",
    "print(r)"
   ]
  },
  {
   "cell_type": "code",
   "execution_count": 99,
   "metadata": {},
   "outputs": [
    {
     "data": {
      "text/plain": [
       "0.6551282051282051"
      ]
     },
     "execution_count": 99,
     "metadata": {},
     "output_type": "execute_result"
    }
   ],
   "source": [
    "from sklearn.metrics import balanced_accuracy_score\n",
    "y_true = y_test\n",
    "y_pred = y_classes\n",
    "balanced_accuracy_score(y_true, y_pred)"
   ]
  },
  {
   "cell_type": "code",
   "execution_count": 100,
   "metadata": {},
   "outputs": [
    {
     "data": {
      "text/plain": [
       "0.7388776427394261"
      ]
     },
     "execution_count": 100,
     "metadata": {},
     "output_type": "execute_result"
    }
   ],
   "source": [
    "from imblearn.metrics import geometric_mean_score\n",
    "y_true = y_test\n",
    "y_pred = y_classes\n",
    "# geometric_mean_score(y_true, y_pred)\n",
    "geometric_mean_score(y_true, y_pred, average='macro')\n"
   ]
  },
  {
   "cell_type": "markdown",
   "metadata": {},
   "source": [
    "# Adasyn"
   ]
  },
  {
   "cell_type": "code",
   "execution_count": 101,
   "metadata": {},
   "outputs": [
    {
     "name": "stderr",
     "output_type": "stream",
     "text": [
      "C:\\Users\\Research6\\.conda\\envs\\pytorch\\lib\\site-packages\\seaborn\\_decorators.py:36: FutureWarning: Pass the following variable as a keyword arg: x. From version 0.12, the only valid positional argument will be `data`, and passing other arguments without an explicit keyword will result in an error or misinterpretation.\n",
      "  warnings.warn(\n"
     ]
    },
    {
     "data": {
      "text/plain": [
       "<AxesSubplot:ylabel='count'>"
      ]
     },
     "execution_count": 101,
     "metadata": {},
     "output_type": "execute_result"
    },
    {
     "data": {
      "image/png": "[encoded data removed]",
      "text/plain": [
       "<Figure size 432x288 with 1 Axes>"
      ]
     },
     "metadata": {
      "needs_background": "light"
     },
     "output_type": "display_data"
    }
   ],
   "source": [
    "import seaborn as sns \n",
    "sns.countplot(np.array(trainTraditionalLabel))"
   ]
  },
  {
   "cell_type": "code",
   "execution_count": 102,
   "metadata": {},
   "outputs": [
    {
     "data": {
      "text/plain": [
       "(100, 32, 32, 3)"
      ]
     },
     "execution_count": 102,
     "metadata": {},
     "output_type": "execute_result"
    }
   ],
   "source": [
    "trainTraditional.shape"
   ]
  },
  {
   "cell_type": "code",
   "execution_count": 103,
   "metadata": {},
   "outputs": [],
   "source": [
    "ReX_train = trainTraditional.reshape(100, 32 *32 * 3)"
   ]
  },
  {
   "cell_type": "code",
   "execution_count": 104,
   "metadata": {},
   "outputs": [
    {
     "data": {
      "text/plain": [
       "(100, 3072)"
      ]
     },
     "execution_count": 104,
     "metadata": {},
     "output_type": "execute_result"
    }
   ],
   "source": [
    "ReX_train.shape"
   ]
  },
  {
   "cell_type": "code",
   "execution_count": 105,
   "metadata": {},
   "outputs": [],
   "source": [
    "from imblearn.over_sampling import ADASYN \n",
    "sm = ADASYN(random_state=42)\n",
    "X_smote, y_smote = sm.fit_resample(ReX_train, trainTraditionalLabel)"
   ]
  },
  {
   "cell_type": "code",
   "execution_count": 106,
   "metadata": {},
   "outputs": [
    {
     "name": "stderr",
     "output_type": "stream",
     "text": [
      "C:\\Users\\Research6\\.conda\\envs\\pytorch\\lib\\site-packages\\seaborn\\_decorators.py:36: FutureWarning: Pass the following variable as a keyword arg: x. From version 0.12, the only valid positional argument will be `data`, and passing other arguments without an explicit keyword will result in an error or misinterpretation.\n",
      "  warnings.warn(\n"
     ]
    },
    {
     "data": {
      "text/plain": [
       "<AxesSubplot:ylabel='count'>"
      ]
     },
     "execution_count": 106,
     "metadata": {},
     "output_type": "execute_result"
    },
    {
     "data": {
      "image/png": "[encoded data removed]",
      "text/plain": [
       "<Figure size 432x288 with 1 Axes>"
      ]
     },
     "metadata": {
      "needs_background": "light"
     },
     "output_type": "display_data"
    }
   ],
   "source": [
    "import seaborn as sns \n",
    "sns.countplot(np.array(y_smote))"
   ]
  },
  {
   "cell_type": "code",
   "execution_count": 107,
   "metadata": {},
   "outputs": [],
   "source": [
    "ImagesData = []\n",
    "Labels = []\n",
    "\n",
    "for x,y in zip(X_smote,y_smote):\n",
    "    ImagesData.append(x.reshape(32,32,3))\n",
    "    Labels.append(y)"
   ]
  },
  {
   "cell_type": "code",
   "execution_count": 108,
   "metadata": {},
   "outputs": [
    {
     "data": {
      "text/plain": [
       "((32, 32, 3), (208,))"
      ]
     },
     "execution_count": 108,
     "metadata": {},
     "output_type": "execute_result"
    }
   ],
   "source": [
    "ImagesData[0].shape,np.array(Labels[:]).shape"
   ]
  },
  {
   "cell_type": "code",
   "execution_count": 109,
   "metadata": {},
   "outputs": [],
   "source": [
    "Classes = 3\n",
    "# LR = 0.000009\n",
    "import tensorflow as tf\n",
    "import numpy as np\n",
    "%matplotlib inline\n",
    "import matplotlib.pyplot as plt \n",
    "from random import randint\n",
    "batch_size = 64"
   ]
  },
  {
   "cell_type": "code",
   "execution_count": 110,
   "metadata": {},
   "outputs": [
    {
     "name": "stdout",
     "output_type": "stream",
     "text": [
      "Epoch 1/100\n",
      "7/7 [==============================] - 0s 21ms/step - loss: 151.6988 - accuracy: 0.3558\n",
      "Epoch 2/100\n",
      "7/7 [==============================] - 0s 7ms/step - loss: 10.0497 - accuracy: 0.4135\n",
      "Epoch 3/100\n",
      "7/7 [==============================] - 0s 7ms/step - loss: 1.2524 - accuracy: 0.7067\n",
      "Epoch 4/100\n",
      "7/7 [==============================] - 0s 7ms/step - loss: 0.5958 - accuracy: 0.7788\n",
      "Epoch 5/100\n",
      "7/7 [==============================] - 0s 7ms/step - loss: 0.3376 - accuracy: 0.9087\n",
      "Epoch 6/100\n",
      "7/7 [==============================] - 0s 7ms/step - loss: 0.2580 - accuracy: 0.9038\n",
      "Epoch 7/100\n",
      "7/7 [==============================] - 0s 6ms/step - loss: 0.1686 - accuracy: 0.9663\n",
      "Epoch 8/100\n",
      "7/7 [==============================] - 0s 6ms/step - loss: 0.1192 - accuracy: 0.9663\n",
      "Epoch 9/100\n",
      "7/7 [==============================] - 0s 6ms/step - loss: 0.1325 - accuracy: 0.9423\n",
      "Epoch 10/100\n",
      "7/7 [==============================] - 0s 6ms/step - loss: 0.0630 - accuracy: 0.9808\n",
      "Epoch 11/100\n",
      "7/7 [==============================] - 0s 6ms/step - loss: 0.0717 - accuracy: 0.9808\n",
      "Epoch 12/100\n",
      "7/7 [==============================] - 0s 6ms/step - loss: 0.0693 - accuracy: 0.9712\n",
      "Epoch 13/100\n",
      "7/7 [==============================] - 0s 6ms/step - loss: 0.0396 - accuracy: 0.9904\n",
      "Epoch 14/100\n",
      "7/7 [==============================] - 0s 6ms/step - loss: 0.0312 - accuracy: 0.9952\n",
      "Epoch 15/100\n",
      "7/7 [==============================] - 0s 6ms/step - loss: 0.0221 - accuracy: 0.9952\n",
      "Epoch 16/100\n",
      "7/7 [==============================] - 0s 6ms/step - loss: 0.0167 - accuracy: 0.9952\n",
      "Epoch 17/100\n",
      "7/7 [==============================] - 0s 6ms/step - loss: 0.0087 - accuracy: 1.0000\n",
      "Epoch 18/100\n",
      "7/7 [==============================] - 0s 6ms/step - loss: 0.0232 - accuracy: 0.9904\n",
      "Epoch 19/100\n",
      "7/7 [==============================] - 0s 6ms/step - loss: 0.0070 - accuracy: 1.0000\n",
      "Epoch 20/100\n",
      "7/7 [==============================] - 0s 6ms/step - loss: 0.0092 - accuracy: 0.9952\n",
      "Epoch 21/100\n",
      "7/7 [==============================] - 0s 5ms/step - loss: 0.0245 - accuracy: 0.9904\n",
      "Epoch 22/100\n",
      "7/7 [==============================] - 0s 6ms/step - loss: 0.0210 - accuracy: 0.9952\n",
      "Epoch 23/100\n",
      "7/7 [==============================] - 0s 6ms/step - loss: 0.0589 - accuracy: 0.9856\n",
      "Epoch 24/100\n",
      "7/7 [==============================] - 0s 6ms/step - loss: 0.0261 - accuracy: 0.9952\n",
      "Epoch 25/100\n",
      "7/7 [==============================] - 0s 5ms/step - loss: 0.0518 - accuracy: 0.9952\n",
      "Epoch 26/100\n",
      "7/7 [==============================] - 0s 7ms/step - loss: 0.0099 - accuracy: 1.0000\n",
      "Epoch 27/100\n",
      "7/7 [==============================] - 0s 6ms/step - loss: 0.0267 - accuracy: 0.9904\n",
      "Epoch 28/100\n",
      "7/7 [==============================] - 0s 6ms/step - loss: 0.0107 - accuracy: 1.0000\n",
      "Epoch 29/100\n",
      "7/7 [==============================] - 0s 6ms/step - loss: 0.0086 - accuracy: 1.0000\n",
      "Epoch 30/100\n",
      "7/7 [==============================] - 0s 4ms/step - loss: 0.0190 - accuracy: 0.9952\n",
      "Epoch 31/100\n",
      "7/7 [==============================] - 0s 6ms/step - loss: 0.0063 - accuracy: 1.0000\n",
      "Epoch 32/100\n",
      "7/7 [==============================] - 0s 3ms/step - loss: 0.0085 - accuracy: 0.9952\n",
      "Epoch 33/100\n",
      "7/7 [==============================] - 0s 6ms/step - loss: 0.0081 - accuracy: 1.0000\n",
      "Epoch 34/100\n",
      "7/7 [==============================] - 0s 5ms/step - loss: 0.0016 - accuracy: 1.0000\n",
      "Epoch 35/100\n",
      "7/7 [==============================] - 0s 5ms/step - loss: 0.0092 - accuracy: 0.9952\n",
      "Epoch 36/100\n",
      "7/7 [==============================] - 0s 6ms/step - loss: 0.0074 - accuracy: 1.0000\n",
      "Epoch 37/100\n",
      "7/7 [==============================] - 0s 6ms/step - loss: 0.0055 - accuracy: 1.0000\n",
      "Epoch 38/100\n",
      "7/7 [==============================] - 0s 6ms/step - loss: 0.0218 - accuracy: 0.9952\n",
      "Epoch 39/100\n",
      "7/7 [==============================] - 0s 4ms/step - loss: 0.0228 - accuracy: 0.9904\n",
      "Epoch 40/100\n",
      "7/7 [==============================] - 0s 5ms/step - loss: 0.0136 - accuracy: 0.9904\n",
      "Epoch 41/100\n",
      "7/7 [==============================] - 0s 5ms/step - loss: 0.0062 - accuracy: 1.0000\n",
      "Epoch 42/100\n",
      "7/7 [==============================] - 0s 6ms/step - loss: 0.0226 - accuracy: 0.9856\n",
      "Epoch 43/100\n",
      "7/7 [==============================] - 0s 6ms/step - loss: 0.0382 - accuracy: 0.9856\n",
      "Epoch 44/100\n",
      "7/7 [==============================] - 0s 6ms/step - loss: 0.0290 - accuracy: 0.9904\n",
      "Epoch 45/100\n",
      "7/7 [==============================] - 0s 5ms/step - loss: 0.0374 - accuracy: 0.9904\n",
      "Epoch 46/100\n",
      "7/7 [==============================] - 0s 5ms/step - loss: 0.0303 - accuracy: 0.9904\n",
      "Epoch 47/100\n",
      "7/7 [==============================] - 0s 6ms/step - loss: 0.0173 - accuracy: 1.0000\n",
      "Epoch 48/100\n",
      "7/7 [==============================] - 0s 5ms/step - loss: 0.0134 - accuracy: 0.9952\n",
      "Epoch 49/100\n",
      "7/7 [==============================] - 0s 6ms/step - loss: 0.0619 - accuracy: 0.9904\n",
      "Epoch 50/100\n",
      "7/7 [==============================] - 0s 6ms/step - loss: 0.0052 - accuracy: 1.0000\n",
      "Epoch 51/100\n",
      "7/7 [==============================] - 0s 5ms/step - loss: 0.0040 - accuracy: 1.0000\n",
      "Epoch 52/100\n",
      "7/7 [==============================] - 0s 6ms/step - loss: 0.0025 - accuracy: 1.0000\n",
      "Epoch 53/100\n",
      "7/7 [==============================] - 0s 5ms/step - loss: 0.0678 - accuracy: 0.9760\n",
      "Epoch 54/100\n",
      "7/7 [==============================] - 0s 5ms/step - loss: 0.0042 - accuracy: 1.0000\n",
      "Epoch 55/100\n",
      "7/7 [==============================] - 0s 6ms/step - loss: 0.0153 - accuracy: 1.0000\n",
      "Epoch 56/100\n",
      "7/7 [==============================] - 0s 6ms/step - loss: 0.0340 - accuracy: 0.9904\n",
      "Epoch 57/100\n",
      "7/7 [==============================] - 0s 5ms/step - loss: 0.0420 - accuracy: 0.9952\n",
      "Epoch 58/100\n",
      "7/7 [==============================] - 0s 5ms/step - loss: 0.0126 - accuracy: 1.0000\n",
      "Epoch 59/100\n",
      "7/7 [==============================] - 0s 6ms/step - loss: 0.0110 - accuracy: 1.0000\n",
      "Epoch 60/100\n",
      "7/7 [==============================] - 0s 5ms/step - loss: 0.0054 - accuracy: 1.0000\n",
      "Epoch 61/100\n",
      "7/7 [==============================] - 0s 6ms/step - loss: 0.0078 - accuracy: 1.0000\n",
      "Epoch 62/100\n",
      "7/7 [==============================] - 0s 5ms/step - loss: 0.0161 - accuracy: 0.9952\n",
      "Epoch 63/100\n",
      "7/7 [==============================] - 0s 5ms/step - loss: 0.0072 - accuracy: 1.0000\n",
      "Epoch 64/100\n",
      "7/7 [==============================] - 0s 6ms/step - loss: 0.0226 - accuracy: 0.9904\n",
      "Epoch 65/100\n",
      "7/7 [==============================] - 0s 5ms/step - loss: 0.0131 - accuracy: 1.0000\n",
      "Epoch 66/100\n",
      "7/7 [==============================] - 0s 5ms/step - loss: 0.0937 - accuracy: 0.9663\n",
      "Epoch 67/100\n",
      "7/7 [==============================] - 0s 5ms/step - loss: 0.0058 - accuracy: 1.0000\n",
      "Epoch 68/100\n",
      "7/7 [==============================] - 0s 5ms/step - loss: 0.0153 - accuracy: 1.0000\n",
      "Epoch 69/100\n",
      "7/7 [==============================] - 0s 6ms/step - loss: 0.0045 - accuracy: 1.0000\n",
      "Epoch 70/100\n",
      "7/7 [==============================] - 0s 6ms/step - loss: 0.0141 - accuracy: 0.9952\n",
      "Epoch 71/100\n",
      "7/7 [==============================] - 0s 5ms/step - loss: 0.0202 - accuracy: 0.9904\n",
      "Epoch 72/100\n",
      "7/7 [==============================] - 0s 5ms/step - loss: 0.0388 - accuracy: 0.9952\n",
      "Epoch 73/100\n",
      "7/7 [==============================] - 0s 6ms/step - loss: 0.0129 - accuracy: 0.9952\n",
      "Epoch 74/100\n",
      "7/7 [==============================] - 0s 5ms/step - loss: 0.0152 - accuracy: 0.9952\n",
      "Epoch 75/100\n",
      "7/7 [==============================] - 0s 5ms/step - loss: 0.0514 - accuracy: 0.9856\n",
      "Epoch 76/100\n",
      "7/7 [==============================] - 0s 5ms/step - loss: 0.0238 - accuracy: 0.9904\n",
      "Epoch 77/100\n",
      "7/7 [==============================] - 0s 6ms/step - loss: 0.0088 - accuracy: 1.0000\n",
      "Epoch 78/100\n",
      "7/7 [==============================] - 0s 5ms/step - loss: 0.0062 - accuracy: 1.0000\n",
      "Epoch 79/100\n",
      "7/7 [==============================] - 0s 6ms/step - loss: 0.0044 - accuracy: 1.0000\n",
      "Epoch 80/100\n",
      "7/7 [==============================] - 0s 6ms/step - loss: 0.0025 - accuracy: 1.0000\n",
      "Epoch 81/100\n",
      "7/7 [==============================] - 0s 5ms/step - loss: 0.0127 - accuracy: 0.9904\n",
      "Epoch 82/100\n",
      "7/7 [==============================] - 0s 6ms/step - loss: 0.0242 - accuracy: 0.9952\n",
      "Epoch 83/100\n",
      "7/7 [==============================] - 0s 5ms/step - loss: 4.1584e-04 - accuracy: 1.0000\n",
      "Epoch 84/100\n"
     ]
    },
    {
     "name": "stdout",
     "output_type": "stream",
     "text": [
      "7/7 [==============================] - 0s 5ms/step - loss: 0.0148 - accuracy: 0.9904\n",
      "Epoch 85/100\n",
      "7/7 [==============================] - 0s 5ms/step - loss: 0.0012 - accuracy: 1.0000\n",
      "Epoch 86/100\n",
      "7/7 [==============================] - 0s 6ms/step - loss: 0.0014 - accuracy: 1.0000\n",
      "Epoch 87/100\n",
      "7/7 [==============================] - 0s 6ms/step - loss: 0.0146 - accuracy: 0.9952\n",
      "Epoch 88/100\n",
      "7/7 [==============================] - 0s 6ms/step - loss: 0.0015 - accuracy: 1.0000\n",
      "Epoch 89/100\n",
      "7/7 [==============================] - 0s 5ms/step - loss: 0.0064 - accuracy: 0.9952\n",
      "Epoch 90/100\n",
      "7/7 [==============================] - 0s 5ms/step - loss: 0.0027 - accuracy: 1.0000\n",
      "Epoch 91/100\n",
      "7/7 [==============================] - 0s 7ms/step - loss: 0.0030 - accuracy: 1.0000\n",
      "Epoch 92/100\n",
      "7/7 [==============================] - 0s 6ms/step - loss: 8.9015e-04 - accuracy: 1.0000\n",
      "Epoch 93/100\n",
      "7/7 [==============================] - 0s 5ms/step - loss: 7.4073e-04 - accuracy: 1.0000\n",
      "Epoch 94/100\n",
      "7/7 [==============================] - 0s 5ms/step - loss: 4.9466e-04 - accuracy: 1.0000\n",
      "Epoch 95/100\n",
      "7/7 [==============================] - 0s 5ms/step - loss: 0.0010 - accuracy: 1.0000\n",
      "Epoch 96/100\n",
      "7/7 [==============================] - 0s 5ms/step - loss: 0.0021 - accuracy: 1.0000\n",
      "Epoch 97/100\n",
      "7/7 [==============================] - 0s 5ms/step - loss: 0.0112 - accuracy: 0.9952\n",
      "Epoch 98/100\n",
      "7/7 [==============================] - 0s 6ms/step - loss: 7.1329e-04 - accuracy: 1.0000\n",
      "Epoch 99/100\n",
      "7/7 [==============================] - 0s 5ms/step - loss: 0.0121 - accuracy: 0.9904\n",
      "Epoch 100/100\n",
      "7/7 [==============================] - 0s 5ms/step - loss: 0.0025 - accuracy: 1.0000\n"
     ]
    }
   ],
   "source": [
    "def create_classical_model():\n",
    "    # A simple model based off LeNet from https://keras.io/examples/mnist_cnn/\n",
    "    model = tf.keras.Sequential()\n",
    "    model.add(tf.keras.layers.Conv2D(32, [3, 3], activation='relu', input_shape=(32,32,3)))\n",
    "    model.add(tf.keras.layers.Conv2D(64, [3, 3], activation='relu'))\n",
    "    model.add(tf.keras.layers.MaxPooling2D(pool_size=(2, 2)))\n",
    "    model.add(tf.keras.layers.Dropout(0.25))\n",
    "    model.add(tf.keras.layers.Flatten()\n",
    "    )\n",
    "    model.add(tf.keras.layers.Dense(128, activation='relu'))\n",
    "    model.add(tf.keras.layers.Dropout(0.5))\n",
    "    model.add(tf.keras.layers.Dense(3))\n",
    "    return model\n",
    "\n",
    "\n",
    "model = create_classical_model()\n",
    "\n",
    "\n",
    "\n",
    "optimizer = tf.keras.optimizers.Adam()\n",
    "# optimizer.learning_rate.assign(0.00001)\n",
    "\n",
    "\n",
    "\n",
    "\n",
    "\n",
    "model.compile(loss=tf.keras.losses.SparseCategoricalCrossentropy(from_logits=True),\n",
    "              optimizer=optimizer,\n",
    "              metrics=['accuracy'])\n",
    "\n",
    "\n",
    "\n",
    "# upto = int(min_working_no *.7)\n",
    "# print(upto)\n",
    "history2 = model.fit(np.array(ImagesData[:]),\n",
    "        np.array(Labels[:]),\n",
    "        epochs=100,\n",
    "        )\n"
   ]
  },
  {
   "cell_type": "code",
   "execution_count": 111,
   "metadata": {},
   "outputs": [
    {
     "data": {
      "text/plain": [
       "'accuracy >> 0.6212121248245239'"
      ]
     },
     "execution_count": 111,
     "metadata": {},
     "output_type": "execute_result"
    }
   ],
   "source": [
    "\"accuracy >> {}\".format(model.evaluate(np.array(x_test), np.array(y_test), verbose=0)[1])  "
   ]
  },
  {
   "cell_type": "code",
   "execution_count": 112,
   "metadata": {},
   "outputs": [],
   "source": [
    "# preds = model.predict(np.array(x_test))\n",
    "y_prob = model.predict(np.array(x_test)) \n",
    "y_classes = y_prob.argmax(axis=-1)"
   ]
  },
  {
   "cell_type": "code",
   "execution_count": 113,
   "metadata": {},
   "outputs": [
    {
     "name": "stdout",
     "output_type": "stream",
     "text": [
      "              precision    recall  f1-score   support\n",
      "\n",
      "           0       1.00      0.62      0.76        26\n",
      "           1       0.50      0.25      0.33        20\n",
      "           2       0.50      1.00      0.67        20\n",
      "\n",
      "    accuracy                           0.62        66\n",
      "   macro avg       0.67      0.62      0.59        66\n",
      "weighted avg       0.70      0.62      0.60        66\n",
      "\n"
     ]
    }
   ],
   "source": [
    "from sklearn.metrics import classification_report\n",
    "\n",
    "\n",
    "# report = classification_report(np.array(y_test), np.array(predictions).argmax(axis=-1))\n",
    "# print(report)\n",
    "report = classification_report(y_test, y_classes)\n",
    "print(report)"
   ]
  },
  {
   "cell_type": "code",
   "execution_count": 114,
   "metadata": {},
   "outputs": [
    {
     "name": "stdout",
     "output_type": "stream",
     "text": [
      "[[16  5  5]\n",
      " [ 0  5 15]\n",
      " [ 0  0 20]]\n"
     ]
    },
    {
     "data": {
      "image/png": "[encoded data removed]",
      "text/plain": [
       "<Figure size 432x288 with 2 Axes>"
      ]
     },
     "metadata": {
      "needs_background": "light"
     },
     "output_type": "display_data"
    }
   ],
   "source": [
    "import sklearn.metrics\n",
    "\n",
    "y_true = y_test\n",
    "y_pred = y_classes\n",
    "\n",
    "r = sklearn.metrics.confusion_matrix(y_true, y_pred)\n",
    "sn.heatmap(r, annot=True,cmap=\"OrRd\")\n",
    "plt.savefig(\"adasyn1\"+ \".jpg\", dpi = 600)\n",
    "print(r)"
   ]
  },
  {
   "cell_type": "code",
   "execution_count": 115,
   "metadata": {},
   "outputs": [
    {
     "data": {
      "text/plain": [
       "0.6217948717948718"
      ]
     },
     "execution_count": 115,
     "metadata": {},
     "output_type": "execute_result"
    }
   ],
   "source": [
    "from sklearn.metrics import balanced_accuracy_score\n",
    "y_true = y_test\n",
    "y_pred = y_classes\n",
    "balanced_accuracy_score(y_true, y_pred)"
   ]
  },
  {
   "cell_type": "code",
   "execution_count": 116,
   "metadata": {},
   "outputs": [
    {
     "data": {
      "text/plain": [
       "0.7135480875745572"
      ]
     },
     "execution_count": 116,
     "metadata": {},
     "output_type": "execute_result"
    }
   ],
   "source": [
    "from imblearn.metrics import geometric_mean_score\n",
    "y_true = y_test\n",
    "y_pred = y_classes\n",
    "# geometric_mean_score(y_true, y_pred)\n",
    "geometric_mean_score(y_true, y_pred, average='macro')"
   ]
  },
  {
   "cell_type": "markdown",
   "metadata": {},
   "source": [
    "# Borderline SMOTE"
   ]
  },
  {
   "cell_type": "code",
   "execution_count": 117,
   "metadata": {},
   "outputs": [
    {
     "name": "stderr",
     "output_type": "stream",
     "text": [
      "C:\\Users\\Research6\\.conda\\envs\\pytorch\\lib\\site-packages\\seaborn\\_decorators.py:36: FutureWarning: Pass the following variable as a keyword arg: x. From version 0.12, the only valid positional argument will be `data`, and passing other arguments without an explicit keyword will result in an error or misinterpretation.\n",
      "  warnings.warn(\n"
     ]
    },
    {
     "data": {
      "text/plain": [
       "<AxesSubplot:ylabel='count'>"
      ]
     },
     "execution_count": 117,
     "metadata": {},
     "output_type": "execute_result"
    },
    {
     "data": {
      "image/png": "[encoded data removed]",
      "text/plain": [
       "<Figure size 432x288 with 1 Axes>"
      ]
     },
     "metadata": {
      "needs_background": "light"
     },
     "output_type": "display_data"
    }
   ],
   "source": [
    "import seaborn as sns \n",
    "sns.countplot(np.array(trainTraditionalLabel))"
   ]
  },
  {
   "cell_type": "code",
   "execution_count": 118,
   "metadata": {},
   "outputs": [
    {
     "data": {
      "text/plain": [
       "(100, 32, 32, 3)"
      ]
     },
     "execution_count": 118,
     "metadata": {},
     "output_type": "execute_result"
    }
   ],
   "source": [
    "trainTraditional.shape"
   ]
  },
  {
   "cell_type": "code",
   "execution_count": 119,
   "metadata": {},
   "outputs": [],
   "source": [
    "ReX_train = trainTraditional.reshape(100, 32 *32 * 3)"
   ]
  },
  {
   "cell_type": "code",
   "execution_count": 120,
   "metadata": {},
   "outputs": [
    {
     "data": {
      "text/plain": [
       "(100, 3072)"
      ]
     },
     "execution_count": 120,
     "metadata": {},
     "output_type": "execute_result"
    }
   ],
   "source": [
    "ReX_train.shape"
   ]
  },
  {
   "cell_type": "code",
   "execution_count": 121,
   "metadata": {},
   "outputs": [],
   "source": [
    "from imblearn.over_sampling import BorderlineSMOTE\n",
    "sm = BorderlineSMOTE(random_state=42)\n",
    "X_smote, y_smote = sm.fit_resample(ReX_train, trainTraditionalLabel)"
   ]
  },
  {
   "cell_type": "code",
   "execution_count": 122,
   "metadata": {},
   "outputs": [
    {
     "name": "stderr",
     "output_type": "stream",
     "text": [
      "C:\\Users\\Research6\\.conda\\envs\\pytorch\\lib\\site-packages\\seaborn\\_decorators.py:36: FutureWarning: Pass the following variable as a keyword arg: x. From version 0.12, the only valid positional argument will be `data`, and passing other arguments without an explicit keyword will result in an error or misinterpretation.\n",
      "  warnings.warn(\n"
     ]
    },
    {
     "data": {
      "text/plain": [
       "<AxesSubplot:ylabel='count'>"
      ]
     },
     "execution_count": 122,
     "metadata": {},
     "output_type": "execute_result"
    },
    {
     "data": {
      "image/png": "[encoded data removed]",
      "text/plain": [
       "<Figure size 432x288 with 1 Axes>"
      ]
     },
     "metadata": {
      "needs_background": "light"
     },
     "output_type": "display_data"
    }
   ],
   "source": [
    "import seaborn as sns \n",
    "sns.countplot(np.array(y_smote))"
   ]
  },
  {
   "cell_type": "code",
   "execution_count": 123,
   "metadata": {},
   "outputs": [],
   "source": [
    "ImagesData = []\n",
    "Labels = []\n",
    "\n",
    "for x,y in zip(X_smote,y_smote):\n",
    "    ImagesData.append(x.reshape(32,32,3))\n",
    "    Labels.append(y)"
   ]
  },
  {
   "cell_type": "code",
   "execution_count": 124,
   "metadata": {},
   "outputs": [
    {
     "data": {
      "text/plain": [
       "((32, 32, 3), (210,))"
      ]
     },
     "execution_count": 124,
     "metadata": {},
     "output_type": "execute_result"
    }
   ],
   "source": [
    "ImagesData[0].shape,np.array(Labels[:]).shape"
   ]
  },
  {
   "cell_type": "code",
   "execution_count": 125,
   "metadata": {},
   "outputs": [],
   "source": [
    "Classes = 10\n",
    "LR = 0.000009\n",
    "import tensorflow as tf\n",
    "import numpy as np\n",
    "%matplotlib inline\n",
    "import matplotlib.pyplot as plt \n",
    "from random import randint\n",
    "batch_size = 64"
   ]
  },
  {
   "cell_type": "code",
   "execution_count": 126,
   "metadata": {},
   "outputs": [
    {
     "name": "stdout",
     "output_type": "stream",
     "text": [
      "Epoch 1/100\n",
      "7/7 [==============================] - 0s 7ms/step - loss: 62.8982 - accuracy: 0.3238\n",
      "Epoch 2/100\n",
      "7/7 [==============================] - 0s 6ms/step - loss: 11.0559 - accuracy: 0.6000\n",
      "Epoch 3/100\n",
      "7/7 [==============================] - 0s 5ms/step - loss: 1.4104 - accuracy: 0.7762\n",
      "Epoch 4/100\n",
      "7/7 [==============================] - 0s 3ms/step - loss: 0.5242 - accuracy: 0.8286\n",
      "Epoch 5/100\n",
      "7/7 [==============================] - 0s 5ms/step - loss: 0.3656 - accuracy: 0.8905\n",
      "Epoch 6/100\n",
      "7/7 [==============================] - 0s 6ms/step - loss: 0.2206 - accuracy: 0.9429\n",
      "Epoch 7/100\n",
      "7/7 [==============================] - 0s 5ms/step - loss: 0.1627 - accuracy: 0.9524\n",
      "Epoch 8/100\n",
      "7/7 [==============================] - 0s 6ms/step - loss: 0.1286 - accuracy: 0.9619\n",
      "Epoch 9/100\n",
      "7/7 [==============================] - 0s 5ms/step - loss: 0.0933 - accuracy: 0.9857\n",
      "Epoch 10/100\n",
      "7/7 [==============================] - 0s 5ms/step - loss: 0.0401 - accuracy: 0.9952\n",
      "Epoch 11/100\n",
      "7/7 [==============================] - 0s 5ms/step - loss: 0.0781 - accuracy: 0.9762\n",
      "Epoch 12/100\n",
      "7/7 [==============================] - 0s 5ms/step - loss: 0.0529 - accuracy: 0.9857\n",
      "Epoch 13/100\n",
      "7/7 [==============================] - 0s 6ms/step - loss: 0.0227 - accuracy: 0.9905\n",
      "Epoch 14/100\n",
      "7/7 [==============================] - 0s 5ms/step - loss: 0.0349 - accuracy: 0.9857\n",
      "Epoch 15/100\n",
      "7/7 [==============================] - 0s 6ms/step - loss: 0.0829 - accuracy: 0.9810\n",
      "Epoch 16/100\n",
      "7/7 [==============================] - 0s 6ms/step - loss: 0.0325 - accuracy: 0.9857\n",
      "Epoch 17/100\n",
      "7/7 [==============================] - 0s 5ms/step - loss: 0.0399 - accuracy: 0.9905\n",
      "Epoch 18/100\n",
      "7/7 [==============================] - 0s 5ms/step - loss: 0.0238 - accuracy: 0.9952\n",
      "Epoch 19/100\n",
      "7/7 [==============================] - 0s 5ms/step - loss: 0.0419 - accuracy: 0.9905\n",
      "Epoch 20/100\n",
      "7/7 [==============================] - 0s 5ms/step - loss: 0.0445 - accuracy: 0.9905\n",
      "Epoch 21/100\n",
      "7/7 [==============================] - 0s 5ms/step - loss: 0.0097 - accuracy: 1.0000\n",
      "Epoch 22/100\n",
      "7/7 [==============================] - 0s 6ms/step - loss: 0.0444 - accuracy: 0.9810\n",
      "Epoch 23/100\n",
      "7/7 [==============================] - 0s 6ms/step - loss: 0.0251 - accuracy: 0.9952\n",
      "Epoch 24/100\n",
      "7/7 [==============================] - 0s 5ms/step - loss: 0.0186 - accuracy: 0.9952\n",
      "Epoch 25/100\n",
      "7/7 [==============================] - 0s 5ms/step - loss: 0.0162 - accuracy: 0.9952\n",
      "Epoch 26/100\n",
      "7/7 [==============================] - 0s 5ms/step - loss: 0.0862 - accuracy: 0.9952\n",
      "Epoch 27/100\n",
      "7/7 [==============================] - 0s 6ms/step - loss: 0.0059 - accuracy: 1.0000\n",
      "Epoch 28/100\n",
      "7/7 [==============================] - 0s 5ms/step - loss: 0.0153 - accuracy: 0.9952\n",
      "Epoch 29/100\n",
      "7/7 [==============================] - 0s 5ms/step - loss: 0.0190 - accuracy: 0.9952\n",
      "Epoch 30/100\n",
      "7/7 [==============================] - 0s 6ms/step - loss: 0.0112 - accuracy: 0.9952\n",
      "Epoch 31/100\n",
      "7/7 [==============================] - 0s 5ms/step - loss: 0.0258 - accuracy: 0.9952\n",
      "Epoch 32/100\n",
      "7/7 [==============================] - 0s 5ms/step - loss: 0.0438 - accuracy: 0.9952\n",
      "Epoch 33/100\n",
      "7/7 [==============================] - 0s 5ms/step - loss: 0.0086 - accuracy: 1.0000\n",
      "Epoch 34/100\n",
      "7/7 [==============================] - 0s 5ms/step - loss: 0.0050 - accuracy: 1.0000\n",
      "Epoch 35/100\n",
      "7/7 [==============================] - 0s 6ms/step - loss: 0.0098 - accuracy: 0.9952\n",
      "Epoch 36/100\n",
      "7/7 [==============================] - 0s 5ms/step - loss: 0.0110 - accuracy: 1.0000\n",
      "Epoch 37/100\n",
      "7/7 [==============================] - 0s 5ms/step - loss: 0.0042 - accuracy: 1.0000\n",
      "Epoch 38/100\n",
      "7/7 [==============================] - 0s 5ms/step - loss: 7.2303e-04 - accuracy: 1.0000\n",
      "Epoch 39/100\n",
      "7/7 [==============================] - 0s 5ms/step - loss: 0.0022 - accuracy: 1.0000\n",
      "Epoch 40/100\n",
      "7/7 [==============================] - 0s 6ms/step - loss: 0.0244 - accuracy: 0.9952\n",
      "Epoch 41/100\n",
      "7/7 [==============================] - 0s 5ms/step - loss: 0.0039 - accuracy: 1.0000\n",
      "Epoch 42/100\n",
      "7/7 [==============================] - 0s 5ms/step - loss: 0.0051 - accuracy: 1.0000\n",
      "Epoch 43/100\n",
      "7/7 [==============================] - 0s 6ms/step - loss: 0.0031 - accuracy: 1.0000\n",
      "Epoch 44/100\n",
      "7/7 [==============================] - 0s 5ms/step - loss: 0.0038 - accuracy: 1.0000\n",
      "Epoch 45/100\n",
      "7/7 [==============================] - 0s 6ms/step - loss: 0.0041 - accuracy: 1.0000\n",
      "Epoch 46/100\n",
      "7/7 [==============================] - 0s 6ms/step - loss: 0.0028 - accuracy: 1.0000\n",
      "Epoch 47/100\n",
      "7/7 [==============================] - 0s 5ms/step - loss: 0.0017 - accuracy: 1.0000\n",
      "Epoch 48/100\n",
      "7/7 [==============================] - 0s 5ms/step - loss: 0.0018 - accuracy: 1.0000\n",
      "Epoch 49/100\n",
      "7/7 [==============================] - 0s 5ms/step - loss: 0.0768 - accuracy: 0.9905\n",
      "Epoch 50/100\n",
      "7/7 [==============================] - 0s 5ms/step - loss: 0.0258 - accuracy: 0.9952\n",
      "Epoch 51/100\n",
      "7/7 [==============================] - 0s 6ms/step - loss: 0.0047 - accuracy: 1.0000\n",
      "Epoch 52/100\n",
      "7/7 [==============================] - 0s 5ms/step - loss: 0.0090 - accuracy: 0.9952\n",
      "Epoch 53/100\n",
      "7/7 [==============================] - 0s 5ms/step - loss: 0.0114 - accuracy: 0.9952\n",
      "Epoch 54/100\n",
      "7/7 [==============================] - 0s 6ms/step - loss: 0.0053 - accuracy: 1.0000\n",
      "Epoch 55/100\n",
      "7/7 [==============================] - 0s 5ms/step - loss: 0.0028 - accuracy: 1.0000\n",
      "Epoch 56/100\n",
      "7/7 [==============================] - 0s 7ms/step - loss: 0.0053 - accuracy: 1.0000\n",
      "Epoch 57/100\n",
      "7/7 [==============================] - 0s 6ms/step - loss: 8.5606e-04 - accuracy: 1.0000\n",
      "Epoch 58/100\n",
      "7/7 [==============================] - 0s 5ms/step - loss: 0.0034 - accuracy: 1.0000\n",
      "Epoch 59/100\n",
      "7/7 [==============================] - 0s 5ms/step - loss: 0.0060 - accuracy: 0.9952\n",
      "Epoch 60/100\n",
      "7/7 [==============================] - 0s 6ms/step - loss: 0.0150 - accuracy: 0.9905\n",
      "Epoch 61/100\n",
      "7/7 [==============================] - 0s 5ms/step - loss: 0.0033 - accuracy: 1.0000\n",
      "Epoch 62/100\n",
      "7/7 [==============================] - 0s 5ms/step - loss: 9.6799e-04 - accuracy: 1.0000\n",
      "Epoch 63/100\n",
      "7/7 [==============================] - 0s 5ms/step - loss: 0.0053 - accuracy: 0.9952\n",
      "Epoch 64/100\n",
      "7/7 [==============================] - 0s 6ms/step - loss: 0.0089 - accuracy: 0.9952\n",
      "Epoch 65/100\n",
      "7/7 [==============================] - 0s 6ms/step - loss: 0.0042 - accuracy: 1.0000\n",
      "Epoch 66/100\n",
      "7/7 [==============================] - 0s 6ms/step - loss: 0.0021 - accuracy: 1.0000\n",
      "Epoch 67/100\n",
      "7/7 [==============================] - 0s 6ms/step - loss: 0.0013 - accuracy: 1.0000\n",
      "Epoch 68/100\n",
      "7/7 [==============================] - 0s 6ms/step - loss: 3.2202e-04 - accuracy: 1.0000\n",
      "Epoch 69/100\n",
      "7/7 [==============================] - 0s 6ms/step - loss: 0.0036 - accuracy: 1.0000\n",
      "Epoch 70/100\n",
      "7/7 [==============================] - 0s 6ms/step - loss: 0.0040 - accuracy: 1.0000\n",
      "Epoch 71/100\n",
      "7/7 [==============================] - 0s 6ms/step - loss: 0.0088 - accuracy: 0.9952\n",
      "Epoch 72/100\n",
      "7/7 [==============================] - 0s 6ms/step - loss: 0.0059 - accuracy: 1.0000\n",
      "Epoch 73/100\n",
      "7/7 [==============================] - 0s 5ms/step - loss: 1.9270e-04 - accuracy: 1.0000\n",
      "Epoch 74/100\n",
      "7/7 [==============================] - 0s 5ms/step - loss: 0.0029 - accuracy: 1.0000\n",
      "Epoch 75/100\n",
      "7/7 [==============================] - 0s 5ms/step - loss: 1.3770e-04 - accuracy: 1.0000\n",
      "Epoch 76/100\n",
      "7/7 [==============================] - 0s 6ms/step - loss: 3.0426e-04 - accuracy: 1.0000\n",
      "Epoch 77/100\n",
      "7/7 [==============================] - 0s 6ms/step - loss: 0.0079 - accuracy: 0.9952\n",
      "Epoch 78/100\n",
      "7/7 [==============================] - 0s 5ms/step - loss: 0.0028 - accuracy: 1.0000\n",
      "Epoch 79/100\n",
      "7/7 [==============================] - 0s 6ms/step - loss: 0.0022 - accuracy: 1.0000\n",
      "Epoch 80/100\n",
      "7/7 [==============================] - 0s 6ms/step - loss: 0.0010 - accuracy: 1.0000\n",
      "Epoch 81/100\n",
      "7/7 [==============================] - 0s 5ms/step - loss: 5.3682e-04 - accuracy: 1.0000\n",
      "Epoch 82/100\n",
      "7/7 [==============================] - 0s 5ms/step - loss: 3.9872e-04 - accuracy: 1.0000\n",
      "Epoch 83/100\n",
      "7/7 [==============================] - 0s 5ms/step - loss: 0.0020 - accuracy: 1.0000\n",
      "Epoch 84/100\n"
     ]
    },
    {
     "name": "stdout",
     "output_type": "stream",
     "text": [
      "7/7 [==============================] - 0s 6ms/step - loss: 1.3114e-04 - accuracy: 1.0000\n",
      "Epoch 85/100\n",
      "7/7 [==============================] - 0s 6ms/step - loss: 0.0094 - accuracy: 0.9952\n",
      "Epoch 86/100\n",
      "7/7 [==============================] - 0s 6ms/step - loss: 0.0050 - accuracy: 1.0000\n",
      "Epoch 87/100\n",
      "7/7 [==============================] - 0s 5ms/step - loss: 9.9506e-05 - accuracy: 1.0000\n",
      "Epoch 88/100\n",
      "7/7 [==============================] - 0s 5ms/step - loss: 0.0026 - accuracy: 1.0000\n",
      "Epoch 89/100\n",
      "7/7 [==============================] - 0s 5ms/step - loss: 4.8361e-05 - accuracy: 1.0000\n",
      "Epoch 90/100\n",
      "7/7 [==============================] - 0s 6ms/step - loss: 1.5555e-04 - accuracy: 1.0000\n",
      "Epoch 91/100\n",
      "7/7 [==============================] - 0s 5ms/step - loss: 0.0016 - accuracy: 1.0000\n",
      "Epoch 92/100\n",
      "7/7 [==============================] - 0s 5ms/step - loss: 0.0138 - accuracy: 0.9952\n",
      "Epoch 93/100\n",
      "7/7 [==============================] - 0s 6ms/step - loss: 4.2787e-05 - accuracy: 1.0000\n",
      "Epoch 94/100\n",
      "7/7 [==============================] - 0s 5ms/step - loss: 0.0014 - accuracy: 1.0000\n",
      "Epoch 95/100\n",
      "7/7 [==============================] - 0s 5ms/step - loss: 0.0124 - accuracy: 0.9952\n",
      "Epoch 96/100\n",
      "7/7 [==============================] - 0s 6ms/step - loss: 0.0061 - accuracy: 0.9952\n",
      "Epoch 97/100\n",
      "7/7 [==============================] - 0s 6ms/step - loss: 5.6283e-04 - accuracy: 1.0000\n",
      "Epoch 98/100\n",
      "7/7 [==============================] - 0s 6ms/step - loss: 0.0044 - accuracy: 1.0000\n",
      "Epoch 99/100\n",
      "7/7 [==============================] - 0s 5ms/step - loss: 7.6820e-05 - accuracy: 1.0000\n",
      "Epoch 100/100\n",
      "7/7 [==============================] - 0s 5ms/step - loss: 0.0038 - accuracy: 1.0000\n"
     ]
    }
   ],
   "source": [
    "def create_classical_model():\n",
    "    # A simple model based off LeNet from https://keras.io/examples/mnist_cnn/\n",
    "    model = tf.keras.Sequential()\n",
    "    model.add(tf.keras.layers.Conv2D(32, [3, 3], activation='relu', input_shape=(32,32,3)))\n",
    "    model.add(tf.keras.layers.Conv2D(64, [3, 3], activation='relu'))\n",
    "    model.add(tf.keras.layers.MaxPooling2D(pool_size=(2, 2)))\n",
    "    model.add(tf.keras.layers.Dropout(0.25))\n",
    "    model.add(tf.keras.layers.Flatten()\n",
    "    )\n",
    "    model.add(tf.keras.layers.Dense(128, activation='relu'))\n",
    "    model.add(tf.keras.layers.Dropout(0.5))\n",
    "    model.add(tf.keras.layers.Dense(10))\n",
    "    return model\n",
    "\n",
    "\n",
    "model = create_classical_model()\n",
    "\n",
    "\n",
    "\n",
    "optimizer = tf.keras.optimizers.Adam()\n",
    "# optimizer.learning_rate.assign(0.00001)\n",
    "\n",
    "\n",
    "\n",
    "\n",
    "\n",
    "model.compile(loss=tf.keras.losses.SparseCategoricalCrossentropy(from_logits=True),\n",
    "              optimizer=optimizer,\n",
    "              metrics=['accuracy'])\n",
    "\n",
    "\n",
    "\n",
    "# upto = int(min_working_no *.7)\n",
    "# print(upto)\n",
    "history2 = model.fit(np.array(ImagesData[:]),\n",
    "        np.array(Labels[:]),\n",
    "        epochs=100,\n",
    "        )\n"
   ]
  },
  {
   "cell_type": "code",
   "execution_count": 127,
   "metadata": {},
   "outputs": [
    {
     "name": "stdout",
     "output_type": "stream",
     "text": [
      "WARNING:tensorflow:5 out of the last 13 calls to <function Model.make_test_function.<locals>.test_function at 0x000001CE7B3B6B80> triggered tf.function retracing. Tracing is expensive and the excessive number of tracings could be due to (1) creating @tf.function repeatedly in a loop, (2) passing tensors with different shapes, (3) passing Python objects instead of tensors. For (1), please define your @tf.function outside of the loop. For (2), @tf.function has experimental_relax_shapes=True option that relaxes argument shapes that can avoid unnecessary retracing. For (3), please refer to https://www.tensorflow.org/guide/function#controlling_retracing and https://www.tensorflow.org/api_docs/python/tf/function for  more details.\n"
     ]
    },
    {
     "data": {
      "text/plain": [
       "'accuracy >> 0.7272727489471436'"
      ]
     },
     "execution_count": 127,
     "metadata": {},
     "output_type": "execute_result"
    }
   ],
   "source": [
    "\"accuracy >> {}\".format(model.evaluate(np.array(x_test), np.array(y_test), verbose=0)[1])  "
   ]
  },
  {
   "cell_type": "code",
   "execution_count": 128,
   "metadata": {},
   "outputs": [
    {
     "name": "stdout",
     "output_type": "stream",
     "text": [
      "WARNING:tensorflow:5 out of the last 13 calls to <function Model.make_predict_function.<locals>.predict_function at 0x000001CE832040D0> triggered tf.function retracing. Tracing is expensive and the excessive number of tracings could be due to (1) creating @tf.function repeatedly in a loop, (2) passing tensors with different shapes, (3) passing Python objects instead of tensors. For (1), please define your @tf.function outside of the loop. For (2), @tf.function has experimental_relax_shapes=True option that relaxes argument shapes that can avoid unnecessary retracing. For (3), please refer to https://www.tensorflow.org/guide/function#controlling_retracing and https://www.tensorflow.org/api_docs/python/tf/function for  more details.\n"
     ]
    }
   ],
   "source": [
    "# preds = model.predict(np.array(x_test))\n",
    "y_prob = model.predict(np.array(x_test)) \n",
    "y_classes = y_prob.argmax(axis=-1)"
   ]
  },
  {
   "cell_type": "code",
   "execution_count": 129,
   "metadata": {},
   "outputs": [
    {
     "name": "stdout",
     "output_type": "stream",
     "text": [
      "              precision    recall  f1-score   support\n",
      "\n",
      "           0       1.00      0.77      0.87        26\n",
      "           1       0.60      0.45      0.51        20\n",
      "           2       0.61      0.95      0.75        20\n",
      "\n",
      "    accuracy                           0.73        66\n",
      "   macro avg       0.74      0.72      0.71        66\n",
      "weighted avg       0.76      0.73      0.72        66\n",
      "\n"
     ]
    }
   ],
   "source": [
    "from sklearn.metrics import classification_report\n",
    "\n",
    "\n",
    "# report = classification_report(np.array(y_test), np.array(predictions).argmax(axis=-1))\n",
    "# print(report)\n",
    "report = classification_report(y_test, y_classes)\n",
    "\n",
    "print(report)"
   ]
  },
  {
   "cell_type": "code",
   "execution_count": 130,
   "metadata": {},
   "outputs": [
    {
     "name": "stdout",
     "output_type": "stream",
     "text": [
      "[[20  5  1]\n",
      " [ 0  9 11]\n",
      " [ 0  1 19]]\n"
     ]
    },
    {
     "data": {
      "image/png": "[encoded data removed]",
      "text/plain": [
       "<Figure size 432x288 with 2 Axes>"
      ]
     },
     "metadata": {
      "needs_background": "light"
     },
     "output_type": "display_data"
    }
   ],
   "source": [
    "import sklearn.metrics\n",
    "\n",
    "y_true = y_test\n",
    "y_pred = y_classes\n",
    "\n",
    "r = sklearn.metrics.confusion_matrix(y_true, y_pred)\n",
    "sn.heatmap(r, annot=True,cmap=\"OrRd\")\n",
    "plt.savefig(\"borderline_smote1\"+ \".jpg\", dpi = 600)\n",
    "print(r)"
   ]
  },
  {
   "cell_type": "code",
   "execution_count": 131,
   "metadata": {},
   "outputs": [
    {
     "data": {
      "text/plain": [
       "0.7230769230769232"
      ]
     },
     "execution_count": 131,
     "metadata": {},
     "output_type": "execute_result"
    }
   ],
   "source": [
    "from sklearn.metrics import balanced_accuracy_score\n",
    "y_true = y_test\n",
    "y_pred = y_classes\n",
    "balanced_accuracy_score(y_true, y_pred)"
   ]
  },
  {
   "cell_type": "code",
   "execution_count": 132,
   "metadata": {},
   "outputs": [
    {
     "data": {
      "text/plain": [
       "0.7929454847629943"
      ]
     },
     "execution_count": 132,
     "metadata": {},
     "output_type": "execute_result"
    }
   ],
   "source": [
    "from imblearn.metrics import geometric_mean_score\n",
    "y_true = y_test\n",
    "y_pred = y_classes\n",
    "# geometric_mean_score(y_true, y_pred)\n",
    "geometric_mean_score(y_true, y_pred, average='macro')"
   ]
  },
  {
   "cell_type": "markdown",
   "metadata": {},
   "source": [
    "# RandomOversampler"
   ]
  },
  {
   "cell_type": "code",
   "execution_count": 133,
   "metadata": {},
   "outputs": [
    {
     "name": "stderr",
     "output_type": "stream",
     "text": [
      "C:\\Users\\Research6\\.conda\\envs\\pytorch\\lib\\site-packages\\seaborn\\_decorators.py:36: FutureWarning: Pass the following variable as a keyword arg: x. From version 0.12, the only valid positional argument will be `data`, and passing other arguments without an explicit keyword will result in an error or misinterpretation.\n",
      "  warnings.warn(\n"
     ]
    },
    {
     "data": {
      "text/plain": [
       "<AxesSubplot:ylabel='count'>"
      ]
     },
     "execution_count": 133,
     "metadata": {},
     "output_type": "execute_result"
    },
    {
     "data": {
      "image/png": "[encoded data removed]",
      "text/plain": [
       "<Figure size 432x288 with 1 Axes>"
      ]
     },
     "metadata": {
      "needs_background": "light"
     },
     "output_type": "display_data"
    }
   ],
   "source": [
    "import seaborn as sns \n",
    "sns.countplot(np.array(trainTraditionalLabel))"
   ]
  },
  {
   "cell_type": "code",
   "execution_count": 134,
   "metadata": {},
   "outputs": [
    {
     "data": {
      "text/plain": [
       "(100, 32, 32, 3)"
      ]
     },
     "execution_count": 134,
     "metadata": {},
     "output_type": "execute_result"
    }
   ],
   "source": [
    "trainTraditional.shape"
   ]
  },
  {
   "cell_type": "code",
   "execution_count": 135,
   "metadata": {},
   "outputs": [],
   "source": [
    "ReX_train = trainTraditional.reshape(100, 32 *32 * 3)"
   ]
  },
  {
   "cell_type": "code",
   "execution_count": 136,
   "metadata": {},
   "outputs": [
    {
     "data": {
      "text/plain": [
       "(100, 3072)"
      ]
     },
     "execution_count": 136,
     "metadata": {},
     "output_type": "execute_result"
    }
   ],
   "source": [
    "ReX_train.shape"
   ]
  },
  {
   "cell_type": "code",
   "execution_count": 137,
   "metadata": {},
   "outputs": [],
   "source": [
    "from imblearn.over_sampling import RandomOverSampler  \n",
    "ros = RandomOverSampler(random_state=42)\n",
    "X_smote, y_smote = sm.fit_resample(ReX_train, trainTraditionalLabel)"
   ]
  },
  {
   "cell_type": "code",
   "execution_count": 138,
   "metadata": {},
   "outputs": [
    {
     "name": "stderr",
     "output_type": "stream",
     "text": [
      "C:\\Users\\Research6\\.conda\\envs\\pytorch\\lib\\site-packages\\seaborn\\_decorators.py:36: FutureWarning: Pass the following variable as a keyword arg: x. From version 0.12, the only valid positional argument will be `data`, and passing other arguments without an explicit keyword will result in an error or misinterpretation.\n",
      "  warnings.warn(\n"
     ]
    },
    {
     "data": {
      "text/plain": [
       "<AxesSubplot:ylabel='count'>"
      ]
     },
     "execution_count": 138,
     "metadata": {},
     "output_type": "execute_result"
    },
    {
     "data": {
      "image/png": "[encoded data removed]",
      "text/plain": [
       "<Figure size 432x288 with 1 Axes>"
      ]
     },
     "metadata": {
      "needs_background": "light"
     },
     "output_type": "display_data"
    }
   ],
   "source": [
    "import seaborn as sns \n",
    "sns.countplot(np.array(y_smote))"
   ]
  },
  {
   "cell_type": "code",
   "execution_count": 139,
   "metadata": {},
   "outputs": [],
   "source": [
    "ImagesData = []\n",
    "Labels = []\n",
    "\n",
    "for x,y in zip(X_smote,y_smote):\n",
    "    ImagesData.append(x.reshape(32,32,3))\n",
    "    Labels.append(y)"
   ]
  },
  {
   "cell_type": "code",
   "execution_count": 140,
   "metadata": {},
   "outputs": [
    {
     "data": {
      "text/plain": [
       "((32, 32, 3), (210,))"
      ]
     },
     "execution_count": 140,
     "metadata": {},
     "output_type": "execute_result"
    }
   ],
   "source": [
    "ImagesData[0].shape,np.array(Labels[:]).shape"
   ]
  },
  {
   "cell_type": "code",
   "execution_count": 141,
   "metadata": {},
   "outputs": [],
   "source": [
    "Classes = 10\n",
    "LR = 0.000009\n",
    "import tensorflow as tf\n",
    "import numpy as np\n",
    "%matplotlib inline\n",
    "import matplotlib.pyplot as plt \n",
    "from random import randint\n",
    "batch_size = 64"
   ]
  },
  {
   "cell_type": "code",
   "execution_count": 142,
   "metadata": {},
   "outputs": [
    {
     "name": "stdout",
     "output_type": "stream",
     "text": [
      "Epoch 1/100\n",
      "7/7 [==============================] - 0s 6ms/step - loss: 183.3206 - accuracy: 0.2762\n",
      "Epoch 2/100\n",
      "7/7 [==============================] - 0s 5ms/step - loss: 5.9311 - accuracy: 0.5238\n",
      "Epoch 3/100\n",
      "7/7 [==============================] - 0s 6ms/step - loss: 1.0406 - accuracy: 0.6905\n",
      "Epoch 4/100\n",
      "7/7 [==============================] - 0s 6ms/step - loss: 0.4752 - accuracy: 0.8238\n",
      "Epoch 5/100\n",
      "7/7 [==============================] - 0s 6ms/step - loss: 0.2936 - accuracy: 0.9000\n",
      "Epoch 6/100\n",
      "7/7 [==============================] - 0s 6ms/step - loss: 0.2318 - accuracy: 0.9095\n",
      "Epoch 7/100\n",
      "7/7 [==============================] - 0s 6ms/step - loss: 0.1755 - accuracy: 0.9286\n",
      "Epoch 8/100\n",
      "7/7 [==============================] - 0s 5ms/step - loss: 0.0947 - accuracy: 0.9619\n",
      "Epoch 9/100\n",
      "7/7 [==============================] - 0s 6ms/step - loss: 0.1414 - accuracy: 0.9476\n",
      "Epoch 10/100\n",
      "7/7 [==============================] - 0s 5ms/step - loss: 0.1049 - accuracy: 0.9667\n",
      "Epoch 11/100\n",
      "7/7 [==============================] - 0s 5ms/step - loss: 0.1023 - accuracy: 0.9714\n",
      "Epoch 12/100\n",
      "7/7 [==============================] - 0s 5ms/step - loss: 0.1076 - accuracy: 0.9714\n",
      "Epoch 13/100\n",
      "7/7 [==============================] - 0s 6ms/step - loss: 0.0833 - accuracy: 0.9857\n",
      "Epoch 14/100\n",
      "7/7 [==============================] - 0s 6ms/step - loss: 0.0335 - accuracy: 0.9952\n",
      "Epoch 15/100\n",
      "7/7 [==============================] - 0s 6ms/step - loss: 0.0375 - accuracy: 0.9810\n",
      "Epoch 16/100\n",
      "7/7 [==============================] - 0s 5ms/step - loss: 0.0327 - accuracy: 0.9905\n",
      "Epoch 17/100\n",
      "7/7 [==============================] - 0s 6ms/step - loss: 0.0372 - accuracy: 0.9810\n",
      "Epoch 18/100\n",
      "7/7 [==============================] - 0s 6ms/step - loss: 0.0336 - accuracy: 0.9952\n",
      "Epoch 19/100\n",
      "7/7 [==============================] - 0s 6ms/step - loss: 0.0231 - accuracy: 0.9952\n",
      "Epoch 20/100\n",
      "7/7 [==============================] - 0s 6ms/step - loss: 0.0269 - accuracy: 0.9952\n",
      "Epoch 21/100\n",
      "7/7 [==============================] - 0s 5ms/step - loss: 0.0238 - accuracy: 0.9905\n",
      "Epoch 22/100\n",
      "7/7 [==============================] - 0s 5ms/step - loss: 0.0158 - accuracy: 0.9952\n",
      "Epoch 23/100\n",
      "7/7 [==============================] - 0s 6ms/step - loss: 0.0300 - accuracy: 0.9857\n",
      "Epoch 24/100\n",
      "7/7 [==============================] - 0s 6ms/step - loss: 0.0331 - accuracy: 0.9905\n",
      "Epoch 25/100\n",
      "7/7 [==============================] - 0s 6ms/step - loss: 0.0281 - accuracy: 0.9857\n",
      "Epoch 26/100\n",
      "7/7 [==============================] - 0s 6ms/step - loss: 0.0422 - accuracy: 0.9857\n",
      "Epoch 27/100\n",
      "7/7 [==============================] - 0s 5ms/step - loss: 0.0390 - accuracy: 0.9857\n",
      "Epoch 28/100\n",
      "7/7 [==============================] - 0s 6ms/step - loss: 0.0103 - accuracy: 1.0000\n",
      "Epoch 29/100\n",
      "7/7 [==============================] - 0s 6ms/step - loss: 0.0332 - accuracy: 0.9952\n",
      "Epoch 30/100\n",
      "7/7 [==============================] - 0s 6ms/step - loss: 0.0520 - accuracy: 0.9857\n",
      "Epoch 31/100\n",
      "7/7 [==============================] - 0s 5ms/step - loss: 0.0761 - accuracy: 0.9857\n",
      "Epoch 32/100\n",
      "7/7 [==============================] - 0s 6ms/step - loss: 0.0532 - accuracy: 0.9810\n",
      "Epoch 33/100\n",
      "7/7 [==============================] - 0s 6ms/step - loss: 0.0395 - accuracy: 0.9952\n",
      "Epoch 34/100\n",
      "7/7 [==============================] - 0s 5ms/step - loss: 0.0312 - accuracy: 0.9952\n",
      "Epoch 35/100\n",
      "7/7 [==============================] - 0s 6ms/step - loss: 0.0205 - accuracy: 0.9905\n",
      "Epoch 36/100\n",
      "7/7 [==============================] - 0s 6ms/step - loss: 0.0384 - accuracy: 0.9905\n",
      "Epoch 37/100\n",
      "7/7 [==============================] - 0s 6ms/step - loss: 0.0281 - accuracy: 0.9905\n",
      "Epoch 38/100\n",
      "7/7 [==============================] - 0s 6ms/step - loss: 0.0532 - accuracy: 0.9810\n",
      "Epoch 39/100\n",
      "7/7 [==============================] - 0s 5ms/step - loss: 0.0408 - accuracy: 0.9952\n",
      "Epoch 40/100\n",
      "7/7 [==============================] - 0s 6ms/step - loss: 0.0241 - accuracy: 0.9952\n",
      "Epoch 41/100\n",
      "7/7 [==============================] - 0s 6ms/step - loss: 0.0308 - accuracy: 0.9905\n",
      "Epoch 42/100\n",
      "7/7 [==============================] - 0s 5ms/step - loss: 0.0265 - accuracy: 0.9857\n",
      "Epoch 43/100\n",
      "7/7 [==============================] - 0s 5ms/step - loss: 0.0172 - accuracy: 0.9857\n",
      "Epoch 44/100\n",
      "7/7 [==============================] - 0s 6ms/step - loss: 0.0638 - accuracy: 0.9762\n",
      "Epoch 45/100\n",
      "7/7 [==============================] - 0s 5ms/step - loss: 0.0212 - accuracy: 0.9952\n",
      "Epoch 46/100\n",
      "7/7 [==============================] - 0s 5ms/step - loss: 0.0071 - accuracy: 1.0000\n",
      "Epoch 47/100\n",
      "7/7 [==============================] - 0s 6ms/step - loss: 0.0121 - accuracy: 0.9952\n",
      "Epoch 48/100\n",
      "7/7 [==============================] - 0s 5ms/step - loss: 0.0069 - accuracy: 1.0000\n",
      "Epoch 49/100\n",
      "7/7 [==============================] - 0s 6ms/step - loss: 0.0284 - accuracy: 0.9952\n",
      "Epoch 50/100\n",
      "7/7 [==============================] - 0s 5ms/step - loss: 0.0186 - accuracy: 0.9952\n",
      "Epoch 51/100\n",
      "7/7 [==============================] - 0s 5ms/step - loss: 0.0405 - accuracy: 0.9952\n",
      "Epoch 52/100\n",
      "7/7 [==============================] - 0s 5ms/step - loss: 0.0167 - accuracy: 0.9905\n",
      "Epoch 53/100\n",
      "7/7 [==============================] - 0s 6ms/step - loss: 0.0084 - accuracy: 1.0000\n",
      "Epoch 54/100\n",
      "7/7 [==============================] - 0s 6ms/step - loss: 0.0045 - accuracy: 1.0000\n",
      "Epoch 55/100\n",
      "7/7 [==============================] - 0s 5ms/step - loss: 0.0330 - accuracy: 0.9905\n",
      "Epoch 56/100\n",
      "7/7 [==============================] - 0s 6ms/step - loss: 0.0084 - accuracy: 1.0000\n",
      "Epoch 57/100\n",
      "7/7 [==============================] - 0s 5ms/step - loss: 0.0016 - accuracy: 1.0000\n",
      "Epoch 58/100\n",
      "7/7 [==============================] - 0s 6ms/step - loss: 0.0165 - accuracy: 0.9952\n",
      "Epoch 59/100\n",
      "7/7 [==============================] - 0s 6ms/step - loss: 0.0302 - accuracy: 0.9952\n",
      "Epoch 60/100\n",
      "7/7 [==============================] - 0s 5ms/step - loss: 0.0057 - accuracy: 1.0000\n",
      "Epoch 61/100\n",
      "7/7 [==============================] - 0s 5ms/step - loss: 0.0214 - accuracy: 0.9952\n",
      "Epoch 62/100\n",
      "7/7 [==============================] - 0s 5ms/step - loss: 0.0678 - accuracy: 0.9905\n",
      "Epoch 63/100\n",
      "7/7 [==============================] - 0s 5ms/step - loss: 0.0698 - accuracy: 0.9857\n",
      "Epoch 64/100\n",
      "7/7 [==============================] - 0s 5ms/step - loss: 0.0449 - accuracy: 0.9857\n",
      "Epoch 65/100\n",
      "7/7 [==============================] - 0s 6ms/step - loss: 0.0720 - accuracy: 0.9857\n",
      "Epoch 66/100\n",
      "7/7 [==============================] - 0s 5ms/step - loss: 0.0532 - accuracy: 0.9857\n",
      "Epoch 67/100\n",
      "7/7 [==============================] - 0s 5ms/step - loss: 0.0355 - accuracy: 0.9857\n",
      "Epoch 68/100\n",
      "7/7 [==============================] - 0s 6ms/step - loss: 0.0313 - accuracy: 0.9857\n",
      "Epoch 69/100\n",
      "7/7 [==============================] - 0s 5ms/step - loss: 0.0207 - accuracy: 0.9952\n",
      "Epoch 70/100\n",
      "7/7 [==============================] - 0s 6ms/step - loss: 0.0248 - accuracy: 0.9810\n",
      "Epoch 71/100\n",
      "7/7 [==============================] - 0s 5ms/step - loss: 0.0256 - accuracy: 0.9905\n",
      "Epoch 72/100\n",
      "7/7 [==============================] - 0s 6ms/step - loss: 0.0169 - accuracy: 0.9905\n",
      "Epoch 73/100\n",
      "7/7 [==============================] - 0s 6ms/step - loss: 0.0075 - accuracy: 0.9952\n",
      "Epoch 74/100\n",
      "7/7 [==============================] - 0s 6ms/step - loss: 0.0078 - accuracy: 1.0000\n",
      "Epoch 75/100\n",
      "7/7 [==============================] - 0s 5ms/step - loss: 0.0030 - accuracy: 1.0000\n",
      "Epoch 76/100\n",
      "7/7 [==============================] - 0s 5ms/step - loss: 2.9325e-04 - accuracy: 1.0000\n",
      "Epoch 77/100\n",
      "7/7 [==============================] - 0s 5ms/step - loss: 0.0016 - accuracy: 1.0000\n",
      "Epoch 78/100\n",
      "7/7 [==============================] - 0s 5ms/step - loss: 0.0083 - accuracy: 0.9952\n",
      "Epoch 79/100\n",
      "7/7 [==============================] - 0s 6ms/step - loss: 0.0026 - accuracy: 1.0000\n",
      "Epoch 80/100\n",
      "7/7 [==============================] - 0s 5ms/step - loss: 5.0204e-04 - accuracy: 1.0000\n",
      "Epoch 81/100\n",
      "7/7 [==============================] - 0s 5ms/step - loss: 0.0022 - accuracy: 1.0000\n",
      "Epoch 82/100\n",
      "7/7 [==============================] - 0s 6ms/step - loss: 0.0013 - accuracy: 1.0000\n",
      "Epoch 83/100\n",
      "7/7 [==============================] - 0s 5ms/step - loss: 0.0015 - accuracy: 1.0000\n",
      "Epoch 84/100\n"
     ]
    },
    {
     "name": "stdout",
     "output_type": "stream",
     "text": [
      "7/7 [==============================] - 0s 5ms/step - loss: 0.0092 - accuracy: 0.9952\n",
      "Epoch 85/100\n",
      "7/7 [==============================] - 0s 5ms/step - loss: 0.0082 - accuracy: 0.9952\n",
      "Epoch 86/100\n",
      "7/7 [==============================] - 0s 5ms/step - loss: 0.0134 - accuracy: 0.9952\n",
      "Epoch 87/100\n",
      "7/7 [==============================] - 0s 6ms/step - loss: 0.0819 - accuracy: 0.9762\n",
      "Epoch 88/100\n",
      "7/7 [==============================] - 0s 5ms/step - loss: 0.0137 - accuracy: 0.9952\n",
      "Epoch 89/100\n",
      "7/7 [==============================] - 0s 6ms/step - loss: 0.0100 - accuracy: 0.9952\n",
      "Epoch 90/100\n",
      "7/7 [==============================] - 0s 5ms/step - loss: 0.0197 - accuracy: 0.9952\n",
      "Epoch 91/100\n",
      "7/7 [==============================] - 0s 5ms/step - loss: 0.0049 - accuracy: 0.9952\n",
      "Epoch 92/100\n",
      "7/7 [==============================] - 0s 6ms/step - loss: 0.0095 - accuracy: 0.9905\n",
      "Epoch 93/100\n",
      "7/7 [==============================] - 0s 6ms/step - loss: 0.0046 - accuracy: 0.9952\n",
      "Epoch 94/100\n",
      "7/7 [==============================] - 0s 5ms/step - loss: 0.0010 - accuracy: 1.0000\n",
      "Epoch 95/100\n",
      "7/7 [==============================] - 0s 6ms/step - loss: 0.0187 - accuracy: 0.9952\n",
      "Epoch 96/100\n",
      "7/7 [==============================] - 0s 5ms/step - loss: 0.0391 - accuracy: 0.9857\n",
      "Epoch 97/100\n",
      "7/7 [==============================] - 0s 5ms/step - loss: 0.0627 - accuracy: 0.9810\n",
      "Epoch 98/100\n",
      "7/7 [==============================] - 0s 6ms/step - loss: 0.3377 - accuracy: 0.9619\n",
      "Epoch 99/100\n",
      "7/7 [==============================] - 0s 6ms/step - loss: 0.1159 - accuracy: 0.9762\n",
      "Epoch 100/100\n",
      "7/7 [==============================] - 0s 5ms/step - loss: 0.2239 - accuracy: 0.9714\n"
     ]
    }
   ],
   "source": [
    "def create_classical_model():\n",
    "    # A simple model based off LeNet from https://keras.io/examples/mnist_cnn/\n",
    "    model = tf.keras.Sequential()\n",
    "    model.add(tf.keras.layers.Conv2D(32, [3, 3], activation='relu', input_shape=(32,32,3)))\n",
    "    model.add(tf.keras.layers.Conv2D(64, [3, 3], activation='relu'))\n",
    "    model.add(tf.keras.layers.MaxPooling2D(pool_size=(2, 2)))\n",
    "    model.add(tf.keras.layers.Dropout(0.25))\n",
    "    model.add(tf.keras.layers.Flatten()\n",
    "    )\n",
    "    model.add(tf.keras.layers.Dense(128, activation='relu'))\n",
    "    model.add(tf.keras.layers.Dropout(0.5))\n",
    "    model.add(tf.keras.layers.Dense(10))\n",
    "    return model\n",
    "\n",
    "\n",
    "model = create_classical_model()\n",
    "\n",
    "\n",
    "\n",
    "optimizer = tf.keras.optimizers.Adam()\n",
    "# optimizer.learning_rate.assign(0.00001)\n",
    "\n",
    "\n",
    "\n",
    "\n",
    "\n",
    "model.compile(loss=tf.keras.losses.SparseCategoricalCrossentropy(from_logits=True),\n",
    "              optimizer=optimizer,\n",
    "              metrics=['accuracy'])\n",
    "\n",
    "\n",
    "\n",
    "# upto = int(min_working_no *.7)\n",
    "# print(upto)\n",
    "history2 = model.fit(np.array(ImagesData[:]),\n",
    "        np.array(Labels[:]),\n",
    "        epochs=100,\n",
    "        )\n"
   ]
  },
  {
   "cell_type": "code",
   "execution_count": 143,
   "metadata": {},
   "outputs": [
    {
     "name": "stdout",
     "output_type": "stream",
     "text": [
      "WARNING:tensorflow:5 out of the last 13 calls to <function Model.make_test_function.<locals>.test_function at 0x000001CE869FD790> triggered tf.function retracing. Tracing is expensive and the excessive number of tracings could be due to (1) creating @tf.function repeatedly in a loop, (2) passing tensors with different shapes, (3) passing Python objects instead of tensors. For (1), please define your @tf.function outside of the loop. For (2), @tf.function has experimental_relax_shapes=True option that relaxes argument shapes that can avoid unnecessary retracing. For (3), please refer to https://www.tensorflow.org/guide/function#controlling_retracing and https://www.tensorflow.org/api_docs/python/tf/function for  more details.\n"
     ]
    },
    {
     "data": {
      "text/plain": [
       "'accuracy >> 0.6060606241226196'"
      ]
     },
     "execution_count": 143,
     "metadata": {},
     "output_type": "execute_result"
    }
   ],
   "source": [
    "\"accuracy >> {}\".format(model.evaluate(np.array(x_test), np.array(y_test), verbose=0)[1])  "
   ]
  },
  {
   "cell_type": "code",
   "execution_count": 144,
   "metadata": {},
   "outputs": [
    {
     "name": "stdout",
     "output_type": "stream",
     "text": [
      "WARNING:tensorflow:5 out of the last 13 calls to <function Model.make_predict_function.<locals>.predict_function at 0x000001CE86A704C0> triggered tf.function retracing. Tracing is expensive and the excessive number of tracings could be due to (1) creating @tf.function repeatedly in a loop, (2) passing tensors with different shapes, (3) passing Python objects instead of tensors. For (1), please define your @tf.function outside of the loop. For (2), @tf.function has experimental_relax_shapes=True option that relaxes argument shapes that can avoid unnecessary retracing. For (3), please refer to https://www.tensorflow.org/guide/function#controlling_retracing and https://www.tensorflow.org/api_docs/python/tf/function for  more details.\n"
     ]
    }
   ],
   "source": [
    "# preds = model.predict(np.array(x_test))\n",
    "y_prob = model.predict(np.array(x_test)) \n",
    "y_classes = y_prob.argmax(axis=-1)"
   ]
  },
  {
   "cell_type": "code",
   "execution_count": 145,
   "metadata": {},
   "outputs": [
    {
     "name": "stdout",
     "output_type": "stream",
     "text": [
      "              precision    recall  f1-score   support\n",
      "\n",
      "           0       1.00      0.54      0.70        26\n",
      "           1       0.41      0.35      0.38        20\n",
      "           2       0.54      0.95      0.69        20\n",
      "\n",
      "    accuracy                           0.61        66\n",
      "   macro avg       0.65      0.61      0.59        66\n",
      "weighted avg       0.68      0.61      0.60        66\n",
      "\n"
     ]
    }
   ],
   "source": [
    "from sklearn.metrics import classification_report\n",
    "\n",
    "\n",
    "# report = classification_report(np.array(y_test), np.array(predictions).argmax(axis=-1))\n",
    "# print(report)\n",
    "report = classification_report(y_test, y_classes)\n",
    "print(report)"
   ]
  },
  {
   "cell_type": "code",
   "execution_count": 146,
   "metadata": {},
   "outputs": [
    {
     "name": "stdout",
     "output_type": "stream",
     "text": [
      "[[14  9  3]\n",
      " [ 0  7 13]\n",
      " [ 0  1 19]]\n"
     ]
    },
    {
     "data": {
      "image/png": "[encoded data removed]",
      "text/plain": [
       "<Figure size 432x288 with 2 Axes>"
      ]
     },
     "metadata": {
      "needs_background": "light"
     },
     "output_type": "display_data"
    }
   ],
   "source": [
    "import sklearn.metrics\n",
    "\n",
    "y_true = y_test\n",
    "y_pred = y_classes\n",
    "\n",
    "r = sklearn.metrics.confusion_matrix(y_true, y_pred)\n",
    "sn.heatmap(r, annot=True,cmap=\"OrRd\")\n",
    "plt.savefig(\"Random_oversampler1\"+ \".jpg\", dpi = 600)\n",
    "print(r)"
   ]
  },
  {
   "cell_type": "code",
   "execution_count": 147,
   "metadata": {},
   "outputs": [
    {
     "data": {
      "text/plain": [
       "0.6128205128205128"
      ]
     },
     "execution_count": 147,
     "metadata": {},
     "output_type": "execute_result"
    }
   ],
   "source": [
    "from sklearn.metrics import balanced_accuracy_score\n",
    "y_true = y_test\n",
    "y_pred = y_classes\n",
    "balanced_accuracy_score(y_true, y_pred)"
   ]
  },
  {
   "cell_type": "code",
   "execution_count": 148,
   "metadata": {},
   "outputs": [
    {
     "data": {
      "text/plain": [
       "0.7052386657171068"
      ]
     },
     "execution_count": 148,
     "metadata": {},
     "output_type": "execute_result"
    }
   ],
   "source": [
    "from imblearn.metrics import geometric_mean_score\n",
    "y_true = y_test\n",
    "y_pred = y_classes\n",
    "# geometric_mean_score(y_true, y_pred)\n",
    "geometric_mean_score(y_true, y_pred, average='macro')"
   ]
  },
  {
   "cell_type": "markdown",
   "metadata": {},
   "source": [
    "# ENSEMBLE METHODS"
   ]
  },
  {
   "cell_type": "markdown",
   "metadata": {},
   "source": [
    "# EasyEnsembleClassifier"
   ]
  },
  {
   "cell_type": "code",
   "execution_count": 149,
   "metadata": {},
   "outputs": [],
   "source": [
    "# import seaborn as sns \n",
    "# sns.countplot(np.array(trainTraditionalLabel))"
   ]
  },
  {
   "cell_type": "code",
   "execution_count": 150,
   "metadata": {},
   "outputs": [],
   "source": [
    "# trainTraditional.shape"
   ]
  },
  {
   "cell_type": "code",
   "execution_count": 151,
   "metadata": {},
   "outputs": [],
   "source": [
    "# ReX_train = trainTraditional.reshape(140, 32 *32 * 3)"
   ]
  },
  {
   "cell_type": "code",
   "execution_count": 152,
   "metadata": {},
   "outputs": [],
   "source": [
    "# ReX_train.shape"
   ]
  },
  {
   "cell_type": "code",
   "execution_count": 153,
   "metadata": {},
   "outputs": [],
   "source": [
    "# reshaped_testx = x_test.reshape(66, 32 *32 * 3)"
   ]
  },
  {
   "cell_type": "code",
   "execution_count": 154,
   "metadata": {},
   "outputs": [],
   "source": [
    "# reshaped_trainx = ReX_train.reshape(len(trainTraditional),32 *32 * 3)\n",
    "# reshaped_testx = x_test.reshape(len(x_test),32 *32 * 3)"
   ]
  },
  {
   "cell_type": "code",
   "execution_count": 155,
   "metadata": {},
   "outputs": [],
   "source": [
    "# from imblearn.ensemble import EasyEnsembleClassifier \n",
    "# sm =  EasyEnsembleClassifier(random_state=42)\n",
    "# sm.fit(reshaped_trainx, trainTraditionalLabel)"
   ]
  },
  {
   "cell_type": "code",
   "execution_count": 156,
   "metadata": {},
   "outputs": [],
   "source": [
    "# y_pred = sm.predict(x_test)"
   ]
  },
  {
   "cell_type": "code",
   "execution_count": 157,
   "metadata": {},
   "outputs": [],
   "source": [
    "# import sklearn.metrics\n",
    "# from sklearn.metrics import confusion_matrix\n",
    "# print(confusion_matrix(y_test, y_pred))"
   ]
  },
  {
   "cell_type": "code",
   "execution_count": 158,
   "metadata": {},
   "outputs": [],
   "source": [
    "# \"accuracy >> {}\".format(sm.evaluate(np.array(x_test), np.array(y_test), verbose=0)[1])  "
   ]
  },
  {
   "cell_type": "code",
   "execution_count": 159,
   "metadata": {},
   "outputs": [],
   "source": [
    "# import seaborn as sns \n",
    "# sns.countplot(np.array(y_smote))"
   ]
  },
  {
   "cell_type": "code",
   "execution_count": 160,
   "metadata": {},
   "outputs": [],
   "source": [
    "# ImagesData = []\n",
    "# Labels = []\n",
    "\n",
    "# for x,y in zip(X_smote,y_smote):\n",
    "#     ImagesData.append(x.reshape(32,32,3))\n",
    "#     Labels.append(y)"
   ]
  },
  {
   "cell_type": "code",
   "execution_count": 161,
   "metadata": {},
   "outputs": [],
   "source": [
    "# ImagesData[0].shape,np.array(Labels[:]).shape"
   ]
  },
  {
   "cell_type": "code",
   "execution_count": 162,
   "metadata": {},
   "outputs": [],
   "source": [
    "# Classes = 10\n",
    "# LR = 0.000009\n",
    "# import tensorflow as tf\n",
    "# import numpy as np\n",
    "# %matplotlib inline\n",
    "# import matplotlib.pyplot as plt \n",
    "# from random import randint\n",
    "# batch_size = 64"
   ]
  },
  {
   "cell_type": "code",
   "execution_count": 163,
   "metadata": {},
   "outputs": [],
   "source": [
    "# def create_classical_model():\n",
    "#     # A simple model based off LeNet from https://keras.io/examples/mnist_cnn/\n",
    "#     model = tf.keras.Sequential()\n",
    "#     model.add(tf.keras.layers.Conv2D(32, [3, 3], activation='relu', input_shape=(32,32,3)))\n",
    "#     model.add(tf.keras.layers.Conv2D(64, [3, 3], activation='relu'))\n",
    "#     model.add(tf.keras.layers.MaxPooling2D(pool_size=(2, 2)))\n",
    "#     model.add(tf.keras.layers.Dropout(0.25))\n",
    "#     model.add(tf.keras.layers.Flatten()\n",
    "#     )\n",
    "#     model.add(tf.keras.layers.Dense(128, activation='relu'))\n",
    "#     model.add(tf.keras.layers.Dropout(0.5))\n",
    "#     model.add(tf.keras.layers.Dense(10))\n",
    "#     return model\n",
    "\n",
    "\n",
    "# model = create_classical_model()\n",
    "\n",
    "\n",
    "\n",
    "# optimizer = tf.keras.optimizers.Adam()\n",
    "# # optimizer.learning_rate.assign(0.00001)\n",
    "\n",
    "\n",
    "\n",
    "\n",
    "\n",
    "# model.compile(loss=tf.keras.losses.SparseCategoricalCrossentropy(from_logits=True),\n",
    "#               optimizer=optimizer,\n",
    "#               metrics=['accuracy'])\n",
    "\n",
    "\n",
    "\n",
    "# # upto = int(min_working_no *.7)\n",
    "# # print(upto)\n",
    "# history2 = model.fit(np.array(ImagesData[:]),\n",
    "#         np.array(Labels[:]),\n",
    "#         epochs=100,\n",
    "#         )\n"
   ]
  },
  {
   "cell_type": "code",
   "execution_count": 164,
   "metadata": {},
   "outputs": [],
   "source": [
    "# \"accuracy >> {}\".format(model.evaluate(np.array(x_test), np.array(y_test), verbose=0)[1])  "
   ]
  },
  {
   "cell_type": "code",
   "execution_count": 165,
   "metadata": {},
   "outputs": [],
   "source": [
    "# # preds = model.predict(np.array(x_test))\n",
    "# y_prob = model.predict(np.array(x_test)) \n",
    "# y_classes = y_prob.argmax(axis=-1)"
   ]
  },
  {
   "cell_type": "code",
   "execution_count": 166,
   "metadata": {},
   "outputs": [],
   "source": [
    "# from sklearn.metrics import classification_report\n",
    "\n",
    "\n",
    "# # report = classification_report(np.array(y_test), np.array(predictions).argmax(axis=-1))\n",
    "# # print(report)\n",
    "# report = classification_report(y_test, y_classes)\n",
    "# print(report)"
   ]
  },
  {
   "cell_type": "code",
   "execution_count": 167,
   "metadata": {},
   "outputs": [],
   "source": [
    "# import sklearn.metrics\n",
    "\n",
    "# y_true = y_test\n",
    "# y_pred = y_classes\n",
    "\n",
    "# r = sklearn.metrics.confusion_matrix(y_true, y_pred)\n",
    "# print(r)"
   ]
  },
  {
   "cell_type": "code",
   "execution_count": 168,
   "metadata": {},
   "outputs": [],
   "source": [
    "# from sklearn.metrics import balanced_accuracy_score\n",
    "# y_true = y_test\n",
    "# y_pred = y_classes\n",
    "# balanced_accuracy_score(y_true, y_pred)"
   ]
  },
  {
   "cell_type": "code",
   "execution_count": 169,
   "metadata": {},
   "outputs": [],
   "source": [
    "# from imblearn.metrics import geometric_mean_score\n",
    "# y_true = y_test\n",
    "# y_pred = y_classes\n",
    "# # geometric_mean_score(y_true, y_pred)\n",
    "# geometric_mean_score(y_true, y_pred, average='macro')"
   ]
  },
  {
   "cell_type": "markdown",
   "metadata": {},
   "source": [
    "# BalancedBaggingClassifier"
   ]
  },
  {
   "cell_type": "code",
   "execution_count": 170,
   "metadata": {},
   "outputs": [],
   "source": [
    "# import seaborn as sns \n",
    "# sns.countplot(np.array(trainTraditionalLabel))"
   ]
  },
  {
   "cell_type": "code",
   "execution_count": 171,
   "metadata": {},
   "outputs": [],
   "source": [
    "# trainTraditional.shape"
   ]
  },
  {
   "cell_type": "code",
   "execution_count": 172,
   "metadata": {},
   "outputs": [],
   "source": [
    "# ReX_train = trainTraditional.reshape(175, 32 *32 * 3)"
   ]
  },
  {
   "cell_type": "code",
   "execution_count": 173,
   "metadata": {},
   "outputs": [],
   "source": [
    "# ReX_train.shape"
   ]
  },
  {
   "cell_type": "code",
   "execution_count": 174,
   "metadata": {},
   "outputs": [],
   "source": [
    "# from imblearn.ensemble import BalancedBaggingClassifier  \n",
    "# sm =  BalancedBaggingClassifier(random_state=42)\n",
    "# sm.fit(ReX_train, trainTraditionalLabel)"
   ]
  },
  {
   "cell_type": "code",
   "execution_count": 175,
   "metadata": {},
   "outputs": [],
   "source": [
    "# preds = model.predict(np.array(x_test))\n",
    "# y_prob = sm.predict(x_test) \n",
    "# y_classes = y_prob.argmax(axis=-1)"
   ]
  },
  {
   "cell_type": "code",
   "execution_count": 176,
   "metadata": {},
   "outputs": [],
   "source": [
    "# from sklearn.metrics import classification_report\n",
    "\n",
    "\n",
    "# # report = classification_report(np.array(y_test), np.array(predictions).argmax(axis=-1))\n",
    "# # print(report)\n",
    "# report = classification_report(y_test, y_classes)\n",
    "# print(report)"
   ]
  },
  {
   "cell_type": "code",
   "execution_count": 177,
   "metadata": {},
   "outputs": [],
   "source": [
    "# import sklearn.metrics\n",
    "\n",
    "# y_true = y_test\n",
    "# y_pred = y_classes\n",
    "\n",
    "# r = sklearn.metrics.confusion_matrix(y_true, y_pred)\n",
    "# print(r)"
   ]
  },
  {
   "cell_type": "code",
   "execution_count": 178,
   "metadata": {},
   "outputs": [],
   "source": [
    "# from sklearn.metrics import balanced_accuracy_score\n",
    "# y_true = y_test\n",
    "# y_pred = y_classes\n",
    "# balanced_accuracy_score(y_true, y_pred)"
   ]
  },
  {
   "cell_type": "code",
   "execution_count": 179,
   "metadata": {},
   "outputs": [],
   "source": [
    "# from imblearn.metrics import geometric_mean_score\n",
    "# y_true = y_test\n",
    "# y_pred = y_classes\n",
    "# # geometric_mean_score(y_true, y_pred)\n",
    "# geometric_mean_score(y_true, y_pred, average='macro')"
   ]
  },
  {
   "cell_type": "code",
   "execution_count": null,
   "metadata": {},
   "outputs": [],
   "source": []
  },
  {
   "cell_type": "code",
   "execution_count": null,
   "metadata": {},
   "outputs": [],
   "source": []
  },
  {
   "cell_type": "markdown",
   "metadata": {},
   "source": [
    "\n",
    "\n",
    "\n",
    "\n",
    "\n",
    "# Deep smote"
   ]
  },
  {
   "cell_type": "code",
   "execution_count": 180,
   "metadata": {},
   "outputs": [],
   "source": [
    "# import IPython\n",
    "\n",
    "# IPython.Application.instance().kernel.do_shutdown(True)"
   ]
  },
  {
   "cell_type": "code",
   "execution_count": 181,
   "metadata": {},
   "outputs": [],
   "source": [
    "# !conda activate pytorch"
   ]
  },
  {
   "cell_type": "code",
   "execution_count": 182,
   "metadata": {},
   "outputs": [],
   "source": [
    "import collections\n",
    "import torch\n",
    "import torch.nn as nn\n",
    "from torch.autograd import Variable\n",
    "\n",
    "from torch.utils.data import TensorDataset, DataLoader\n",
    "from torchvision import datasets, transforms\n",
    "from tqdm import tqdm\n",
    "import numpy as np\n",
    "import pandas as pd\n",
    "from sklearn import manifold\n",
    "import matplotlib.pyplot as plt\n",
    "import seaborn as sns\n",
    "import PIL\n",
    "from datetime import datetime\n",
    "from imblearn.metrics import geometric_mean_score\n",
    "from imblearn.metrics import classification_report_imbalanced\n",
    "from sklearn.metrics import precision_score\n",
    "from sklearn.metrics import f1_score\n",
    "from sklearn.metrics import accuracy_score\n",
    "from sklearn.neighbors import NearestNeighbors, KNeighborsClassifier\n",
    "from sklearn.utils import shuffle\n",
    "import time"
   ]
  },
  {
   "cell_type": "code",
   "execution_count": 183,
   "metadata": {},
   "outputs": [],
   "source": [
    "path = 'C:\\\\Users\\\\Research6\\\\Desktop\\\\smote experimentation\\\\Covid19-dataset\\\\train'"
   ]
  },
  {
   "cell_type": "code",
   "execution_count": 184,
   "metadata": {},
   "outputs": [],
   "source": [
    "# # (x_train, y_train), (x_test, y_test) = tf.keras.datasets.mnist.load_data()\n",
    "# (x_train, y_train), (x_test, y_test) = tf.keras.datasets.fashion_mnist.load_data()\n",
    "\n",
    "# # (x_test, y_test) = (x_test[:20], y_test[:20])\n",
    "\n",
    "# # Rescale the images from [0,255] to the [0.0,1.0] range.\n",
    "# x_train, x_test = x_train[..., np.newaxis]/255.0, x_test[..., np.newaxis]/255.0 \n",
    "\n",
    "# print(\"Number of original training examples:\", len(x_train))\n",
    "# print(\"Number of original test examples:\", len(x_test))"
   ]
  },
  {
   "cell_type": "code",
   "execution_count": 185,
   "metadata": {
    "colab": {
     "base_uri": "https://localhost:8080/"
    },
    "id": "ADjYwE7brmc3",
    "outputId": "829dd1bb-6c39-490e-f2fa-7962ac071b60"
   },
   "outputs": [
    {
     "name": "stdout",
     "output_type": "stream",
     "text": [
      "train imgs before reshape  (645120,)\n",
      "train labels  (210,)\n",
      "(210, 3, 32, 32)\n",
      "Counter({1.0: 70, 2.0: 70, 0.0: 70})\n"
     ]
    }
   ],
   "source": [
    "\"\"\"args for AE\"\"\"\n",
    "\n",
    "args = {}\n",
    "args['dim_h'] = 64          # factor controlling size of hidden layers\n",
    "args['n_channel'] = 3       # number of channels in the input data \n",
    "\n",
    "args['n_z'] = 600     # number of dimensions in latent space. \n",
    "\n",
    "args['sigma'] = 1.0        # variance in n_z\n",
    "args['lambda'] = 0.01      # hyper param for weight of discriminator loss\n",
    "args['lr'] = 0.0002        # learning rate for Adam optimizer .000\n",
    "args['epochs'] = 1 #50         # how many epochs to run for\n",
    "args['batch_size'] = 100   # batch size for SGD\n",
    "args['save'] = True        # save weights at each epoch of training if True\n",
    "args['train'] = True       # train networks if True, else load networks from\n",
    "\n",
    "args['dataset'] = 'mnist' #'fmnist' # specify which dataset to use\n",
    "\n",
    "# dec_x = pd.read_csv(\".../cif_inp_dsm_imbal.csv\")\n",
    "# dec_y = pd.read_csv(\".../cif_tar_dsm_imbal.csv\")\n",
    "# dec_x = pd.read_csv(path+\"/images.txt\")\n",
    "# dec_y = pd.read_csv(path+\"/labels.txt\")\n",
    "\n",
    "dec_x = np.loadtxt(path+\"/images.txt\")\n",
    "dec_y = np.loadtxt(path+\"/labels.txt\")\n",
    "\n",
    "# dec_x = dec_x.to_numpy()\n",
    "# dec_y = dec_y.to_numpy()\n",
    "# dec_y = np.squeeze(dec_y)\n",
    "# dec_y.shape\n",
    "\n",
    "print('train imgs before reshape ',dec_x.shape) \n",
    "print('train labels ',dec_y.shape) \n",
    "# print(dec_x.shape[0]/(3))\n",
    "\n",
    "dec_x = dec_x.reshape(dec_x.shape[0]//(32*32*3),3,32,32)\n",
    "# dec_x = dec_x.reshape(dec_x.shape[0]//(64*64*3),3,64,64) \n",
    "# dec_x = dec_x.reshape(dec_x.shape[0],3,32,32)  \n",
    "# print(dec_x.shape[0],\" << Shape >> \",dec_x.shape[0]//(32*32*3))\n",
    "print(dec_x.shape)\n",
    "\n",
    "\n",
    "batch_size_tr = args['batch_size']\n",
    "\n",
    "\n",
    "\n",
    "num_workers = 0\n",
    "\n",
    "print(collections.Counter(dec_y))\n",
    "\n",
    "tensor_x = torch.Tensor(dec_x)\n",
    "tensor_y = torch.tensor(dec_y,dtype=torch.long)\n",
    "\n",
    "cifar_bal = TensorDataset(tensor_x,tensor_y) \n",
    "\n",
    "train_loader = torch.utils.data.DataLoader(cifar_bal, \n",
    "        batch_size=batch_size_tr,shuffle=True,num_workers=num_workers)\n",
    "\n",
    "classes = ('0', '1','2')\n"
   ]
  },
  {
   "cell_type": "code",
   "execution_count": 186,
   "metadata": {
    "id": "BGiX2mDTrxj5"
   },
   "outputs": [],
   "source": [
    "##################################################################\n",
    "\"\"\"mini training set for model testing purposes\"\"\"\n",
    "\n",
    "decxtst = dec_x[:200]\n",
    "decytst = dec_y[:200]\n",
    "\n",
    "tensor_x = torch.Tensor(decxtst)\n",
    "tensor_y = torch.tensor(decytst,dtype=torch.long)\n",
    "\n",
    "tentst = TensorDataset(tensor_x,tensor_y) \n",
    "\n",
    "train_loadtst = torch.utils.data.DataLoader(tentst, \n",
    "        batch_size=batch_size_tr,num_workers=num_workers)"
   ]
  },
  {
   "cell_type": "code",
   "execution_count": 187,
   "metadata": {
    "id": "BZ_MaGuRr9hT"
   },
   "outputs": [],
   "source": [
    "## create encoder model and decoder model\n",
    "class WAE_Encoder(nn.Module):\n",
    "    def __init__(self, args):\n",
    "        super(WAE_Encoder, self).__init__()\n",
    "\n",
    "        self.n_channel = args['n_channel']\n",
    "        self.dim_h = args['dim_h']\n",
    "        self.n_z = args['n_z']\n",
    "        \n",
    "        # convolutional filters, work excellent with image data\n",
    "        self.conv = nn.Sequential(\n",
    "            nn.Conv2d(self.n_channel, self.dim_h, 4, 2, 1, bias=False),\n",
    "            \n",
    "            nn.LeakyReLU(0.2, inplace=True),\n",
    "            nn.Conv2d(self.dim_h, self.dim_h * 2, 4, 2, 1, bias=False),\n",
    "            nn.BatchNorm2d(self.dim_h * 2),\n",
    "            \n",
    "            nn.LeakyReLU(0.2, inplace=True),\n",
    "            nn.Conv2d(self.dim_h * 2, self.dim_h * 4, 4, 2, 1, bias=False),\n",
    "            nn.BatchNorm2d(self.dim_h * 4),\n",
    "            \n",
    "            nn.LeakyReLU(0.2, inplace=True),\n",
    "            \n",
    "            \n",
    "            nn.Conv2d(self.dim_h * 4, self.dim_h * 8, 4, 1, 0, bias=False),\n",
    "            \n",
    "            nn.BatchNorm2d(self.dim_h * 8), \n",
    "            \n",
    "            nn.LeakyReLU(0.2, inplace=True) )\n",
    "            \n",
    "        # final layer is fully connected\n",
    "        self.fc = nn.Linear(self.dim_h * (2 ** 3), self.n_z)\n",
    "        \n",
    "\n",
    "    def forward(self, x):\n",
    "        \n",
    "        x = self.conv(x)\n",
    "        \n",
    "        x = x.squeeze()\n",
    "        \n",
    "        x = self.fc(x)\n",
    "        \n",
    "        return x\n",
    "\n",
    "class WAE_Decoder(nn.Module):\n",
    "    def __init__(self, args):\n",
    "        super(WAE_Decoder, self).__init__()\n",
    "\n",
    "        self.n_channel = args['n_channel']\n",
    "        self.dim_h = args['dim_h']\n",
    "        self.n_z = args['n_z']\n",
    "\n",
    "        self.main = nn.Sequential(\n",
    "            # input is Z, going into a convolution\n",
    "            nn.ConvTranspose2d( self.n_z, self.dim_h * 8, 4, 1, 0, bias=False),\n",
    "            nn.BatchNorm2d(self.dim_h * 8),\n",
    "            nn.ReLU(True),\n",
    "            \n",
    "            nn.ConvTranspose2d(self.dim_h * 8, self.dim_h * 4, 4, 2, 1, bias=False),\n",
    "            nn.BatchNorm2d(self.dim_h * 4),\n",
    "            nn.ReLU(True),\n",
    "            \n",
    "            nn.ConvTranspose2d( self.dim_h * 4, self.dim_h * 2, 4, 2, 1, bias=False),\n",
    "            nn.BatchNorm2d(self.dim_h * 2),\n",
    "            nn.ReLU(True),\n",
    "            \n",
    "            nn.ConvTranspose2d( self.dim_h * 2, self.n_channel, 4, 2, 1, bias=False),\n",
    "            \n",
    "            \n",
    "            nn.Tanh()\n",
    "           \n",
    "        )\n",
    "\n",
    "    def forward(self, input):\n",
    "        \n",
    "        return self.main(input)\n",
    "\n"
   ]
  },
  {
   "cell_type": "code",
   "execution_count": 188,
   "metadata": {
    "id": "Gjga79ghsFxp"
   },
   "outputs": [
    {
     "name": "stdout",
     "output_type": "stream",
     "text": [
      "cuda\n"
     ]
    }
   ],
   "source": [
    "##############################################################################\n",
    "\"\"\"set models, loss functions\"\"\"\n",
    "# control which parameters are frozen / free for optimization\n",
    "def free_params(module: nn.Module):\n",
    "    for p in module.parameters():\n",
    "        p.requires_grad = True\n",
    "\n",
    "def frozen_params(module: nn.Module):\n",
    "    for p in module.parameters():\n",
    "        p.requires_grad = False\n",
    "\n",
    "# instantiate discriminator model, and restart encoder and decoder, for \n",
    "# fairness. Set to train mode, etc\n",
    "wae_encoder = WAE_Encoder(args)\n",
    "wae_decoder = WAE_Decoder(args)\n",
    "\n",
    "device = 'cuda' if torch.cuda.is_available() else 'cpu'\n",
    "print(device)\n",
    "wae_decoder = wae_decoder.to(device)\n",
    "wae_encoder = wae_encoder.to(device)\n",
    "\n",
    "train_on_gpu = torch.cuda.is_available()\n",
    "\n",
    "#decoder loss function\n",
    "criterion = nn.MSELoss()\n",
    "criterion = criterion.to(device)"
   ]
  },
  {
   "cell_type": "code",
   "execution_count": 189,
   "metadata": {
    "id": "rnSXfBHIsJUj"
   },
   "outputs": [],
   "source": [
    "##############################################################################\n",
    "\"\"\"functions to create fake (SMOTE) images\"\"\"\n",
    "\n",
    "def biased_get_class(c):\n",
    "    \n",
    "    xbeg = dec_x[dec_y == c]\n",
    "    ybeg = dec_y[dec_y == c]\n",
    "    \n",
    "    \n",
    "    return xbeg, ybeg\n",
    "    \n",
    "\n",
    "\n",
    "def G_SM(X, y,n_to_sample,cl):\n",
    "\n",
    "    \n",
    "    n_neigh = 5 + 1\n",
    "    nn = NearestNeighbors(n_neighbors=n_neigh, n_jobs=1)\n",
    "    nn.fit(X)\n",
    "    dist, ind = nn.kneighbors(X)\n",
    "\n",
    "    # generating samples\n",
    "    base_indices = np.random.choice(list(range(len(X))),n_to_sample)\n",
    "    neighbor_indices = np.random.choice(list(range(1, n_neigh)),n_to_sample)\n",
    "\n",
    "    X_base = X[base_indices]\n",
    "    X_neighbor = X[ind[base_indices, neighbor_indices]]\n",
    "\n",
    "    samples = X_base + np.multiply(np.random.rand(n_to_sample,1),\n",
    "            X_neighbor - X_base)\n",
    "\n",
    "    #use 10 as label because 0 to 9 real classes and 1 fake/smoted = 10\n",
    "    return samples, [cl]*n_to_sample\n",
    "\n",
    "\n"
   ]
  },
  {
   "cell_type": "code",
   "execution_count": 190,
   "metadata": {
    "colab": {
     "base_uri": "https://localhost:8080/"
    },
    "id": "uJi1RoVPst2V",
    "outputId": "c9d66c23-88fd-4c5c-b2a6-eb30e43dec5b"
   },
   "outputs": [],
   "source": [
    "# from google.colab import drive\n",
    "# drive.mount('/content/gdrive')"
   ]
  },
  {
   "cell_type": "code",
   "execution_count": 191,
   "metadata": {
    "colab": {
     "base_uri": "https://localhost:8080/",
     "height": 35
    },
    "id": "mOiIXiErs1-t",
    "outputId": "23dbbe3b-9705-4d45-c5ac-70178eb618a1"
   },
   "outputs": [],
   "source": [
    "# shape[0],shape[3],shape[1],shape[2]"
   ]
  },
  {
   "cell_type": "code",
   "execution_count": null,
   "metadata": {},
   "outputs": [],
   "source": []
  },
  {
   "cell_type": "code",
   "execution_count": 192,
   "metadata": {
    "colab": {
     "base_uri": "https://localhost:8080/"
    },
    "id": "Xqw_49HetJ66",
    "outputId": "bf6f1eba-d107-468c-eb70-7e7c3817b7e1"
   },
   "outputs": [
    {
     "name": "stdout",
     "output_type": "stream",
     "text": [
      "Epoch: 0 \tTrain Loss: 2931089.023438 \tmse loss: 1458709.778646 \tmse2 loss: 1472379.179688\n",
      "Saving..\n",
      "Epoch: 1 \tTrain Loss: 2928342.994792 \tmse loss: 1453134.733073 \tmse2 loss: 1475208.326823\n",
      "Saving..\n",
      "Epoch: 2 \tTrain Loss: 2914568.020833 \tmse loss: 1450881.861979 \tmse2 loss: 1463686.087240\n",
      "Saving..\n",
      "Epoch: 3 \tTrain Loss: 2922346.132812 \tmse loss: 1449671.822917 \tmse2 loss: 1472674.309896\n",
      "Epoch: 4 \tTrain Loss: 2911576.848958 \tmse loss: 1448941.621094 \tmse2 loss: 1462635.227865\n",
      "Saving..\n",
      "Epoch: 5 \tTrain Loss: 2910445.638021 \tmse loss: 1448410.944010 \tmse2 loss: 1462034.759115\n",
      "Saving..\n",
      "Epoch: 6 \tTrain Loss: 2918037.460938 \tmse loss: 1448012.819010 \tmse2 loss: 1470024.641927\n",
      "Epoch: 7 \tTrain Loss: 2899655.312500 \tmse loss: 1447743.854167 \tmse2 loss: 1451911.328125\n",
      "Saving..\n",
      "Epoch: 8 \tTrain Loss: 2907674.322917 \tmse loss: 1447533.222656 \tmse2 loss: 1460140.970052\n",
      "Epoch: 9 \tTrain Loss: 2917640.690104 \tmse loss: 1447331.516927 \tmse2 loss: 1470309.303385\n",
      "Epoch: 10 \tTrain Loss: 2898465.546875 \tmse loss: 1447191.171875 \tmse2 loss: 1451274.446615\n",
      "Saving..\n",
      "Epoch: 11 \tTrain Loss: 2898255.104167 \tmse loss: 1447091.529948 \tmse2 loss: 1451163.645833\n",
      "Saving..\n",
      "Epoch: 12 \tTrain Loss: 2907456.458333 \tmse loss: 1446967.929688 \tmse2 loss: 1460488.522135\n",
      "Epoch: 13 \tTrain Loss: 2897803.463542 \tmse loss: 1446863.678385 \tmse2 loss: 1450939.661458\n",
      "Saving..\n",
      "Epoch: 14 \tTrain Loss: 2897720.260417 \tmse loss: 1446823.567708 \tmse2 loss: 1450896.634115\n",
      "Saving..\n",
      "Epoch: 15 \tTrain Loss: 2907100.130208 \tmse loss: 1446792.278646 \tmse2 loss: 1460307.858073\n",
      "Epoch: 16 \tTrain Loss: 2916487.187500 \tmse loss: 1446763.730469 \tmse2 loss: 1469723.457031\n",
      "Epoch: 17 \tTrain Loss: 2916437.239583 \tmse loss: 1446739.433594 \tmse2 loss: 1469697.864583\n",
      "Epoch: 18 \tTrain Loss: 2896553.307292 \tmse loss: 1446718.795573 \tmse2 loss: 1449834.518229\n",
      "Saving..\n",
      "Epoch: 19 \tTrain Loss: 2897462.395833 \tmse loss: 1446702.343750 \tmse2 loss: 1450760.045573\n",
      "Epoch: 20 \tTrain Loss: 2906882.057292 \tmse loss: 1446687.884115 \tmse2 loss: 1460194.244792\n",
      "Epoch: 21 \tTrain Loss: 2915363.411458 \tmse loss: 1446675.865885 \tmse2 loss: 1468687.486979\n",
      "Epoch: 22 \tTrain Loss: 2906837.161458 \tmse loss: 1446665.878906 \tmse2 loss: 1460171.282552\n",
      "Epoch: 23 \tTrain Loss: 2916271.250000 \tmse loss: 1446657.174479 \tmse2 loss: 1469614.199219\n",
      "Epoch: 24 \tTrain Loss: 2905859.531250 \tmse loss: 1446649.850260 \tmse2 loss: 1459209.680990\n",
      "Epoch: 25 \tTrain Loss: 2906791.341146 \tmse loss: 1446643.255208 \tmse2 loss: 1460148.151042\n",
      "Epoch: 26 \tTrain Loss: 2906779.635417 \tmse loss: 1446637.591146 \tmse2 loss: 1460142.102865\n",
      "Epoch: 27 \tTrain Loss: 2905823.763021 \tmse loss: 1446632.545573 \tmse2 loss: 1459191.087240\n",
      "Epoch: 28 \tTrain Loss: 2906759.348958 \tmse loss: 1446627.910156 \tmse2 loss: 1460131.432292\n",
      "Epoch: 29 \tTrain Loss: 2897296.770833 \tmse loss: 1446623.483073 \tmse2 loss: 1450673.222656\n",
      "Epoch: 30 \tTrain Loss: 2905796.770833 \tmse loss: 1446619.583333 \tmse2 loss: 1459177.252604\n",
      "Epoch: 31 \tTrain Loss: 2896335.143229 \tmse loss: 1446615.826823 \tmse2 loss: 1449719.316406\n",
      "Saving..\n",
      "Epoch: 32 \tTrain Loss: 2906727.552083 \tmse loss: 1446612.369792 \tmse2 loss: 1460115.175781\n",
      "Epoch: 33 \tTrain Loss: 2905775.390625 \tmse loss: 1446609.095052 \tmse2 loss: 1459166.302083\n",
      "Epoch: 34 \tTrain Loss: 2906714.895833 \tmse loss: 1446606.184896 \tmse2 loss: 1460108.639323\n",
      "time(min)  0.09596733252207439\n"
     ]
    }
   ],
   "source": [
    "\n",
    "\n",
    "best_loss = np.inf\n",
    "\n",
    "args['epochs'] = 35\n",
    "\n",
    "t0 = time.time()\n",
    "if args['train']:\n",
    "    enc_optim = torch.optim.Adam(wae_encoder.parameters(), lr = args['lr'])\n",
    "    dec_optim = torch.optim.Adam(wae_decoder.parameters(), lr = args['lr'])\n",
    "    \n",
    "    for epoch in range(args['epochs']):\n",
    "        train_loss = 0.0\n",
    "        tmse_loss = 0.0\n",
    "        tdiscr_loss = 0.0\n",
    "        \n",
    "        wae_encoder.train()\n",
    "        wae_decoder.train()\n",
    "        \n",
    "        for images,labs in train_loader:\n",
    "        \n",
    "            \n",
    "            # zero gradients for each batch\n",
    "            wae_encoder.zero_grad()\n",
    "            wae_decoder.zero_grad()\n",
    "\n",
    "            images, labs = images.to(device), labs.to(device)\n",
    "            \n",
    "            labsn = labs.detach().cpu().numpy()\n",
    "            \n",
    "\n",
    "            \"\"\"reconstruction loss on real\"\"\"\n",
    "            # run images\n",
    "            z_hat = wae_encoder(images)\n",
    "            \n",
    "            \n",
    "            z_hat = z_hat.view(z_hat.size()[0], z_hat.size()[1], 1, 1)\n",
    "            \n",
    "            x_hat = wae_decoder(z_hat) \n",
    "        \n",
    "            mse = criterion(x_hat,images)\n",
    "           \n",
    "            \n",
    "            \"\"\"generator loss\"\"\"\n",
    "            resx = []\n",
    "            resy = []\n",
    "            \n",
    "           \n",
    "            tc = np.random.choice(2,1)\n",
    "            \n",
    "            xbeg = dec_x[dec_y == tc]\n",
    "            ybeg = dec_y[dec_y == tc] \n",
    "            xlen = len(xbeg)\n",
    "            nsamp = min(xlen, 100)\n",
    "            ind = np.random.choice(list(range(len(xbeg))),nsamp,replace=False)\n",
    "            xclass = xbeg[ind]\n",
    "            yclass = ybeg[ind]\n",
    "            \n",
    "            \n",
    "            \n",
    "            xclen = len(xclass)\n",
    "            \n",
    "            xcminus = np.arange(1,xclen)\n",
    "            \n",
    "            xcplus = np.append(xcminus,0)\n",
    "            \n",
    "            xcnew = (xclass[[xcplus],:])\n",
    "            xcnew = np.squeeze(xcnew)\n",
    "           \n",
    "            \n",
    "            xcnew = torch.Tensor(xcnew)\n",
    "            xcnew = xcnew.to(device)\n",
    "            \n",
    "            #encode xclass to feature space\n",
    "            xclass = torch.Tensor(xclass)\n",
    "            xclass = xclass.to(device)\n",
    "            xclass = wae_encoder(xclass)\n",
    "            \n",
    "            \n",
    "            xclass = xclass.detach().cpu().numpy()\n",
    "            \n",
    "            \n",
    "            \n",
    "            xc_enc = (xclass[[xcplus],:])\n",
    "            xc_enc = np.squeeze(xc_enc)\n",
    "            \n",
    "            \n",
    "            xc_enc = torch.Tensor(xc_enc)\n",
    "            xc_enc = xc_enc.to(device)\n",
    "            \n",
    "            xc_enc = xc_enc.view(xc_enc.size()[0], xc_enc.size()[1], 1, 1)\n",
    "                \n",
    "            ximg = wae_decoder(xc_enc)\n",
    "            \n",
    "            \n",
    "            mse2 = criterion(ximg,xcnew)\n",
    "            \n",
    "            \n",
    "            comb_loss = mse2 + mse\n",
    "            comb_loss.backward()\n",
    "            \n",
    "            enc_optim.step()\n",
    "            dec_optim.step()\n",
    "            \n",
    "            train_loss += comb_loss.item()*images.size(0)\n",
    "            tmse_loss += mse.item()*images.size(0)\n",
    "            tdiscr_loss += mse2.item()*images.size(0)\n",
    "            \n",
    "                 \n",
    "        \n",
    "        train_loss = train_loss/len(train_loader)\n",
    "        tmse_loss = tmse_loss/len(train_loader)\n",
    "        tdiscr_loss = tdiscr_loss/len(train_loader)\n",
    "        print('Epoch: {} \\tTrain Loss: {:.6f} \\tmse loss: {:.6f} \\tmse2 loss: {:.6f}'.format(epoch,\n",
    "                    train_loss,tmse_loss,tdiscr_loss))\n",
    "        \n",
    "        \n",
    "        if train_loss < best_loss:\n",
    "            print('Saving..')\n",
    "            \n",
    "#             path_enc = '.../cif_enc_best.pth'\n",
    "#             path_dec = '.../cif_dec_best.pth'\n",
    "            path_enc = path + '/cif_enc_best.pth'\n",
    "            path_dec = path + '/cif_dec_best.pth'\n",
    "            torch.save(wae_encoder.state_dict(), path_enc)\n",
    "            torch.save(wae_decoder.state_dict(), path_dec)\n",
    "        \n",
    "            best_loss = train_loss\n",
    "        \n",
    "        \n",
    "\n",
    "    \n",
    "#     path_enc = '.../cif_enc.pth'\n",
    "#     path_dec = '.../cif_dec.pth'\n",
    "   \n",
    "    \n",
    "    \n",
    "            \n",
    "t1 = time.time()\n",
    "print('time(min) ',(t1-t0)/60)            \n",
    " \n",
    "\n",
    "\n"
   ]
  },
  {
   "cell_type": "code",
   "execution_count": null,
   "metadata": {
    "colab": {
     "base_uri": "https://localhost:8080/",
     "height": 35
    },
    "id": "v6WO7WJo3HZd",
    "outputId": "b493b247-1708-497a-9385-668b4ba16554"
   },
   "outputs": [],
   "source": []
  },
  {
   "cell_type": "markdown",
   "metadata": {
    "id": "4a5wNSLLJF4O"
   },
   "source": [
    "Generate Samples"
   ]
  },
  {
   "cell_type": "code",
   "execution_count": 193,
   "metadata": {
    "id": "v_ZO7Y-04JV1"
   },
   "outputs": [
    {
     "name": "stdout",
     "output_type": "stream",
     "text": [
      "11.3\n"
     ]
    }
   ],
   "source": [
    "# -*- coding: utf-8 -*-\n",
    "\n",
    "\n",
    "import collections\n",
    "import torch\n",
    "import torch.nn as nn\n",
    "import numpy as np\n",
    "from sklearn.neighbors import NearestNeighbors, KNeighborsClassifier\n",
    "import pandas as pd\n",
    "\n",
    "print(torch.version.cuda) #10.1\n",
    "\n",
    "##############################################################################\n",
    "\"\"\"args for AE\"\"\"\n",
    "\n",
    "args = {}\n",
    "args['dim_h'] = 64          # factor controlling size of hidden layers\n",
    "args['n_channel'] = 3       # number of channels in the input data \n",
    "\n",
    "args['n_z'] = 600 #600     # number of dimensions in latent space. \n",
    "\n",
    "args['sigma'] = 1.0        # variance in n_z\n",
    "args['lambda'] = 0.01      # hyper param for weight of discriminator loss\n",
    "args['lr'] = 0.0002        # learning rate for Adam optimizer .000\n",
    "args['epochs'] = 1 #50         # how many epochs to run for\n",
    "args['batch_size'] = 100   # batch size for SGD\n",
    "args['save'] = True        # save weights at each epoch of training if True\n",
    "args['train'] = True       # train networks if True, else load networks from\n",
    "\n",
    "args['dataset'] = 'mnist' #'fmnist' # specify which dataset to use\n",
    "\n",
    "# dec_x = pd.read_csv(\".../cif_inp_dsm_imbal.csv\") #data\n",
    "# dec_y = pd.read_csv(\".../cif_tar_dsm_imbal.csv\") #labels\n",
    "dec_x = np.loadtxt(path + \"/images.txt\") #data\n",
    "dec_y = np.loadtxt(path + \"/labels.txt\") #labels\n",
    "\n",
    "# dec_x = dec_x.to_numpy()\n",
    "# dec_y = dec_y.to_numpy()\n",
    "# dec_y = np.squeeze(dec_y)\n",
    "dec_y.shape\n",
    "\n",
    "dec_x = dec_x.reshape(dec_x.shape[0]//(32*32*3),3,32,32)  \n",
    "# dec_y.shape"
   ]
  },
  {
   "cell_type": "code",
   "execution_count": 194,
   "metadata": {
    "id": "4eACmliqJL3-"
   },
   "outputs": [],
   "source": [
    "\n",
    "## create encoder model and decoder model\n",
    "class WAE_Encoder(nn.Module):\n",
    "    def __init__(self, args):\n",
    "        super(WAE_Encoder, self).__init__()\n",
    "\n",
    "        self.n_channel = args['n_channel']\n",
    "        self.dim_h = args['dim_h']\n",
    "        self.n_z = args['n_z']\n",
    "        \n",
    "        # convolutional filters, work excellent with image data\n",
    "        self.conv = nn.Sequential(\n",
    "            nn.Conv2d(self.n_channel, self.dim_h, 4, 2, 1, bias=False),\n",
    "            \n",
    "            nn.LeakyReLU(0.2, inplace=True),\n",
    "            nn.Conv2d(self.dim_h, self.dim_h * 2, 4, 2, 1, bias=False),\n",
    "            nn.BatchNorm2d(self.dim_h * 2),\n",
    "            \n",
    "            nn.LeakyReLU(0.2, inplace=True),\n",
    "            nn.Conv2d(self.dim_h * 2, self.dim_h * 4, 4, 2, 1, bias=False),\n",
    "            nn.BatchNorm2d(self.dim_h * 4),\n",
    "            \n",
    "            nn.LeakyReLU(0.2, inplace=True),\n",
    "            \n",
    "            \n",
    "            nn.Conv2d(self.dim_h * 4, self.dim_h * 8, 4, 1, 0, bias=False),\n",
    "            \n",
    "            nn.BatchNorm2d(self.dim_h * 8), \n",
    "            \n",
    "            nn.LeakyReLU(0.2, inplace=True) )#,\n",
    "            \n",
    "        # final layer is fully connected\n",
    "        self.fc = nn.Linear(self.dim_h * (2 ** 3), self.n_z)\n",
    "        \n",
    "\n",
    "    def forward(self, x):\n",
    "        \n",
    "        x = self.conv(x)\n",
    "        \n",
    "        x = x.squeeze()\n",
    "        \n",
    "        x = self.fc(x)\n",
    "        \n",
    "        return x\n",
    "\n",
    "class WAE_Decoder(nn.Module):\n",
    "    def __init__(self, args):\n",
    "        super(WAE_Decoder, self).__init__()\n",
    "\n",
    "        self.n_channel = args['n_channel']\n",
    "        self.dim_h = args['dim_h']\n",
    "        self.n_z = args['n_z']\n",
    "\n",
    "        self.main = nn.Sequential(\n",
    "            # input is Z, going into a convolution\n",
    "            nn.ConvTranspose2d( self.n_z, self.dim_h * 8, 4, 1, 0, bias=False),\n",
    "            nn.BatchNorm2d(self.dim_h * 8),\n",
    "            nn.ReLU(True),\n",
    "           \n",
    "            nn.ConvTranspose2d(self.dim_h * 8, self.dim_h * 4, 4, 2, 1, bias=False),\n",
    "            nn.BatchNorm2d(self.dim_h * 4),\n",
    "            nn.ReLU(True),\n",
    "            \n",
    "            nn.ConvTranspose2d( self.dim_h * 4, self.dim_h * 2, 4, 2, 1, bias=False),\n",
    "            nn.BatchNorm2d(self.dim_h * 2),\n",
    "            nn.ReLU(True),\n",
    "            \n",
    "            nn.ConvTranspose2d( self.dim_h * 2, self.n_channel, 4, 2, 1, bias=False),\n",
    "            \n",
    "            nn.Tanh()\n",
    "            \n",
    "        )\n",
    "\n",
    "    def forward(self, input):\n",
    "        \n",
    "        return self.main(input)\n"
   ]
  },
  {
   "cell_type": "code",
   "execution_count": 195,
   "metadata": {
    "id": "aU1inl9TJQKO"
   },
   "outputs": [],
   "source": [
    "## create encoder model and decoder model\n",
    "class Discriminator(nn.Module):\n",
    "    def __init__(self, args):\n",
    "        super(Discriminator, self).__init__()\n",
    "\n",
    "        self.n_channel = args['n_channel']\n",
    "        self.dim_h = args['dim_h']\n",
    "        self.n_z = args['n_z']\n",
    "        \n",
    "        # convolutional filters, work excellent with image data\n",
    "        self.conv = nn.Sequential(\n",
    "            nn.Conv2d(self.n_channel, self.dim_h, 4, 2, 1, bias=False),\n",
    "            \n",
    "            nn.LeakyReLU(0.2, inplace=True),\n",
    "            nn.Conv2d(self.dim_h, self.dim_h * 2, 4, 2, 1, bias=False),\n",
    "            nn.BatchNorm2d(self.dim_h * 2),\n",
    "            \n",
    "            nn.LeakyReLU(0.2, inplace=True),\n",
    "            nn.Conv2d(self.dim_h * 2, self.dim_h * 4, 4, 2, 1, bias=False),\n",
    "            nn.BatchNorm2d(self.dim_h * 4),\n",
    "            \n",
    "            nn.LeakyReLU(0.2, inplace=True),\n",
    "            \n",
    "            nn.Conv2d(self.dim_h * 4, self.dim_h * 8, 4, 2, 0, bias=False),\n",
    "            nn.BatchNorm2d(self.dim_h * 8), # 40 X 8 = 320\n",
    "            \n",
    "            nn.LeakyReLU(0.2, inplace=True))\n",
    "        \n",
    "        self.fc_1 = nn.Linear(self.dim_h * (2 ** 3), 10)\n",
    "\n",
    "    def forward(self, x):\n",
    "        \n",
    "        x = self.conv(x)\n",
    "        \n",
    "        x = x.squeeze()\n",
    "        \n",
    "        x = self.fc_1(x)\n",
    "        \n",
    "        return x\n"
   ]
  },
  {
   "cell_type": "code",
   "execution_count": 196,
   "metadata": {
    "id": "UJXD8LrgJViP"
   },
   "outputs": [],
   "source": [
    "##############################################################################\n",
    "\n",
    "classes = ('0', '1','2')\n",
    "np.printoptions(precision=5,suppress=True)\n",
    "\n",
    "#generate some AE images for comparison\n",
    "train_on_gpu = torch.cuda.is_available()\n",
    "device = 'cuda' if torch.cuda.is_available() else 'cpu'\n",
    "\n",
    "\n",
    "path_enc = path + '/cif_enc_best.pth'\n",
    "path_dec = path + '/cif_dec_best.pth'\n",
    "\n",
    "\n",
    "\n",
    "\n",
    "wae_encoder = WAE_Encoder(args)\n",
    "wae_encoder.load_state_dict(torch.load(path_enc), strict=False)\n",
    "wae_encoder =wae_encoder.to(device)\n",
    "\n",
    "wae_decoder = WAE_Decoder(args)\n",
    "wae_decoder.load_state_dict(torch.load(path_dec), strict=False)\n",
    "wae_decoder = wae_decoder.to(device)\n",
    "\n",
    "wae_encoder.eval()\n",
    "wae_decoder.eval()\n",
    "\n",
    "def biased_get_class1(c):\n",
    "    \n",
    "    xbeg = dec_x[dec_y == c]\n",
    "    ybeg = dec_y[dec_y == c]\n",
    "    \n",
    "    return xbeg, ybeg\n",
    "    \n",
    "\n",
    "\n",
    "def G_SM1(X, y,n_to_sample,cl):\n",
    "\n",
    "    \n",
    "    # fitting the model\n",
    "    n_neigh = 5 + 1\n",
    "    nn = NearestNeighbors(n_neighbors=n_neigh, n_jobs=1)\n",
    "    nn.fit(X)\n",
    "    dist, ind = nn.kneighbors(X)\n",
    "\n",
    "    # generating samples\n",
    "    base_indices = np.random.choice(list(range(len(X))),n_to_sample)\n",
    "    neighbor_indices = np.random.choice(list(range(1, n_neigh)),n_to_sample)\n",
    "\n",
    "    X_base = X[base_indices]\n",
    "    X_neighbor = X[ind[base_indices, neighbor_indices]]\n",
    "\n",
    "    samples = X_base + np.multiply(np.random.rand(n_to_sample,1),\n",
    "            X_neighbor - X_base)\n",
    "\n",
    "    #use 10 as label because 0 to 9 real classes and 1 fake/smoted = 10\n",
    "    return samples, [cl]*n_to_sample\n",
    "\n"
   ]
  },
  {
   "cell_type": "code",
   "execution_count": 197,
   "metadata": {},
   "outputs": [],
   "source": [
    "imbal = [10,20,70]"
   ]
  },
  {
   "cell_type": "code",
   "execution_count": 198,
   "metadata": {},
   "outputs": [
    {
     "name": "stdout",
     "output_type": "stream",
     "text": [
      "1.0\n",
      "2.0\n"
     ]
    }
   ],
   "source": [
    "resx = []\n",
    "resy = []\n",
    "\n",
    "for i in range(1,3):\n",
    "    xclass, yclass = biased_get_class1(i)\n",
    "    \n",
    "    print(yclass[0]) \n",
    "            \n",
    "    #encode xclass to feature space\n",
    "    xclass = torch.Tensor(xclass)\n",
    "    xclass = xclass.to(device)\n",
    "    xclass = wae_encoder(xclass)\n",
    "    \n",
    "            \n",
    "    xclass = xclass.detach().cpu().numpy()\n",
    "#     n = imbal[0] - imbal[i]\n",
    "    n = imbal[i] - imbal[0]\n",
    "    xsamp, ysamp = G_SM1(xclass,yclass,n,i)\n",
    "    \n",
    "    ysamp = np.array(ysamp)\n",
    "    \n",
    "    "
   ]
  },
  {
   "cell_type": "code",
   "execution_count": 199,
   "metadata": {
    "id": "H15Rb2TsJczn"
   },
   "outputs": [
    {
     "name": "stdout",
     "output_type": "stream",
     "text": [
      "(60, 3, 32, 32)\n",
      "(60,)\n",
      "(60, 3072)\n",
      "decx1  (210, 3072)\n",
      "(270, 3072)\n",
      "(270,)\n",
      "\n"
     ]
    }
   ],
   "source": [
    "   \"\"\"to generate samples for resnet\"\"\"\n",
    "    \n",
    "xsamp = torch.Tensor(xsamp)\n",
    "xsamp = xsamp.to(device)\n",
    "xsamp = xsamp.view(xsamp.size()[0], xsamp.size()[1], 1, 1)\n",
    "\n",
    "ximg = wae_decoder(xsamp)\n",
    "\n",
    "ximn = ximg.detach().cpu().numpy()\n",
    "\n",
    "resx.append(ximn)\n",
    "resy.append(ysamp)\n",
    "    \n",
    "    \n",
    "\n",
    "resx1 = np.vstack(resx)\n",
    "resy1 = np.hstack(resy)\n",
    "\n",
    "print(resx1.shape) \n",
    "print(resy1.shape) \n",
    "\n",
    "resx1 = resx1.reshape(resx1.shape[0],-1)\n",
    "print(resx1.shape) \n",
    "\n",
    "dec_x1 = dec_x.reshape(dec_x.shape[0],-1)\n",
    "print('decx1 ',dec_x1.shape)\n",
    "combx = np.vstack((resx1,dec_x1))\n",
    "comby = np.hstack((resy1,dec_y))\n",
    "\n",
    "print(combx.shape) \n",
    "print(comby.shape) \n",
    "\n",
    "ifile = path + '_trn_img.txt'\n",
    "np.savetxt(ifile, combx)\n",
    "    \n",
    "lfile = path  + '_trn_lab.txt'\n",
    "np.savetxt(lfile,comby) \n",
    "print()\n",
    "\n",
    "t1 = time.time()\n",
    "\n",
    "# t = combx.reshape(50000,-1)\n",
    "# f = \".../cif_inp_dsm_balanced.csv\"\n",
    "# pdf = pd.DataFrame(t)\n",
    "# pdf.to_csv(f,index=False)\n",
    "\n",
    "\n",
    "# t = comby\n",
    "# f = \".../cif_tar_dsm_balanced.csv\"\n",
    "# pdf = pd.DataFrame(t)\n",
    "# pdf.to_csv(f,index=False)       \n",
    "\n",
    "\n",
    "\n"
   ]
  },
  {
   "cell_type": "code",
   "execution_count": 200,
   "metadata": {},
   "outputs": [],
   "source": [
    "# import numpy as np"
   ]
  },
  {
   "cell_type": "code",
   "execution_count": 201,
   "metadata": {},
   "outputs": [],
   "source": [
    "arr = np.loadtxt(path + '_trn_img.txt')\n",
    "labels = np.loadtxt(path  + '_trn_lab.txt')"
   ]
  },
  {
   "cell_type": "code",
   "execution_count": 202,
   "metadata": {},
   "outputs": [],
   "source": [
    "ImagesData = []\n",
    "Labels = []\n",
    "\n",
    "for x,y in zip(arr,labels):\n",
    "    ImagesData.append(x.reshape(32,32,3))\n",
    "    Labels.append(y)"
   ]
  },
  {
   "cell_type": "code",
   "execution_count": 203,
   "metadata": {},
   "outputs": [
    {
     "data": {
      "text/plain": [
       "2.0"
      ]
     },
     "execution_count": 203,
     "metadata": {},
     "output_type": "execute_result"
    }
   ],
   "source": [
    "Labels[0]"
   ]
  },
  {
   "cell_type": "code",
   "execution_count": 204,
   "metadata": {},
   "outputs": [
    {
     "data": {
      "text/plain": [
       "((32, 32, 3), (270,))"
      ]
     },
     "execution_count": 204,
     "metadata": {},
     "output_type": "execute_result"
    }
   ],
   "source": [
    "ImagesData[0].shape,np.array(Labels[:]).shape"
   ]
  },
  {
   "cell_type": "code",
   "execution_count": 205,
   "metadata": {},
   "outputs": [],
   "source": [
    "Classes = 3\n",
    "# LR = 0.000001\n",
    "import tensorflow as tf\n",
    "import numpy as np\n",
    "%matplotlib inline\n",
    "import matplotlib.pyplot as plt \n",
    "from random import randint\n",
    "batch_size = 64\n",
    "Epoch = 100"
   ]
  },
  {
   "cell_type": "code",
   "execution_count": 206,
   "metadata": {},
   "outputs": [
    {
     "name": "stdout",
     "output_type": "stream",
     "text": [
      "Epoch 1/100\n",
      "9/9 [==============================] - 0s 20ms/step - loss: 43.8284 - accuracy: 0.4148\n",
      "Epoch 2/100\n",
      "9/9 [==============================] - 0s 7ms/step - loss: 2.3459 - accuracy: 0.7667\n",
      "Epoch 3/100\n",
      "9/9 [==============================] - 0s 7ms/step - loss: 0.6605 - accuracy: 0.8593\n",
      "Epoch 4/100\n",
      "9/9 [==============================] - 0s 7ms/step - loss: 0.4220 - accuracy: 0.8481\n",
      "Epoch 5/100\n",
      "9/9 [==============================] - 0s 6ms/step - loss: 0.2351 - accuracy: 0.9185\n",
      "Epoch 6/100\n",
      "9/9 [==============================] - 0s 6ms/step - loss: 0.1506 - accuracy: 0.9593\n",
      "Epoch 7/100\n",
      "9/9 [==============================] - 0s 6ms/step - loss: 0.1805 - accuracy: 0.9407\n",
      "Epoch 8/100\n",
      "9/9 [==============================] - 0s 7ms/step - loss: 0.1313 - accuracy: 0.9444\n",
      "Epoch 9/100\n",
      "9/9 [==============================] - 0s 6ms/step - loss: 0.0734 - accuracy: 0.9778\n",
      "Epoch 10/100\n",
      "9/9 [==============================] - 0s 6ms/step - loss: 0.0416 - accuracy: 0.9889\n",
      "Epoch 11/100\n",
      "9/9 [==============================] - 0s 6ms/step - loss: 0.0552 - accuracy: 0.9852\n",
      "Epoch 12/100\n",
      "9/9 [==============================] - 0s 6ms/step - loss: 0.0361 - accuracy: 0.9889\n",
      "Epoch 13/100\n",
      "9/9 [==============================] - 0s 6ms/step - loss: 0.0309 - accuracy: 0.9889\n",
      "Epoch 14/100\n",
      "9/9 [==============================] - 0s 6ms/step - loss: 0.0192 - accuracy: 0.9926\n",
      "Epoch 15/100\n",
      "9/9 [==============================] - 0s 6ms/step - loss: 0.0393 - accuracy: 0.9889\n",
      "Epoch 16/100\n",
      "9/9 [==============================] - 0s 6ms/step - loss: 0.0245 - accuracy: 0.9926\n",
      "Epoch 17/100\n",
      "9/9 [==============================] - 0s 6ms/step - loss: 0.0137 - accuracy: 0.9963\n",
      "Epoch 18/100\n",
      "9/9 [==============================] - 0s 6ms/step - loss: 0.0297 - accuracy: 0.9963\n",
      "Epoch 19/100\n",
      "9/9 [==============================] - 0s 6ms/step - loss: 0.0152 - accuracy: 0.9963\n",
      "Epoch 20/100\n",
      "9/9 [==============================] - 0s 6ms/step - loss: 0.0142 - accuracy: 0.9963\n",
      "Epoch 21/100\n",
      "9/9 [==============================] - 0s 6ms/step - loss: 0.0051 - accuracy: 1.0000\n",
      "Epoch 22/100\n",
      "9/9 [==============================] - 0s 6ms/step - loss: 0.0092 - accuracy: 0.9963\n",
      "Epoch 23/100\n",
      "9/9 [==============================] - 0s 6ms/step - loss: 0.0314 - accuracy: 0.9926\n",
      "Epoch 24/100\n",
      "9/9 [==============================] - 0s 6ms/step - loss: 0.0146 - accuracy: 0.9963\n",
      "Epoch 25/100\n",
      "9/9 [==============================] - 0s 6ms/step - loss: 0.0161 - accuracy: 0.9963\n",
      "Epoch 26/100\n",
      "9/9 [==============================] - 0s 5ms/step - loss: 0.0101 - accuracy: 0.9963\n",
      "Epoch 27/100\n",
      "9/9 [==============================] - 0s 5ms/step - loss: 0.0105 - accuracy: 0.9963\n",
      "Epoch 28/100\n",
      "9/9 [==============================] - 0s 5ms/step - loss: 0.0255 - accuracy: 0.9889\n",
      "Epoch 29/100\n",
      "9/9 [==============================] - 0s 6ms/step - loss: 0.0262 - accuracy: 0.9889\n",
      "Epoch 30/100\n",
      "9/9 [==============================] - 0s 5ms/step - loss: 0.0162 - accuracy: 0.9926\n",
      "Epoch 31/100\n",
      "9/9 [==============================] - 0s 5ms/step - loss: 0.0124 - accuracy: 0.9963\n",
      "Epoch 32/100\n",
      "9/9 [==============================] - 0s 5ms/step - loss: 0.0095 - accuracy: 0.9926\n",
      "Epoch 33/100\n",
      "9/9 [==============================] - 0s 5ms/step - loss: 0.0407 - accuracy: 0.9852\n",
      "Epoch 34/100\n",
      "9/9 [==============================] - 0s 5ms/step - loss: 0.0106 - accuracy: 1.0000\n",
      "Epoch 35/100\n",
      "9/9 [==============================] - 0s 6ms/step - loss: 0.0398 - accuracy: 0.9815\n",
      "Epoch 36/100\n",
      "9/9 [==============================] - 0s 5ms/step - loss: 0.0616 - accuracy: 0.9889\n",
      "Epoch 37/100\n",
      "9/9 [==============================] - 0s 5ms/step - loss: 0.0222 - accuracy: 0.9926\n",
      "Epoch 38/100\n",
      "9/9 [==============================] - 0s 5ms/step - loss: 0.0729 - accuracy: 0.9778\n",
      "Epoch 39/100\n",
      "9/9 [==============================] - 0s 5ms/step - loss: 0.0570 - accuracy: 0.9852\n",
      "Epoch 40/100\n",
      "9/9 [==============================] - 0s 5ms/step - loss: 0.1926 - accuracy: 0.9630\n",
      "Epoch 41/100\n",
      "9/9 [==============================] - 0s 5ms/step - loss: 0.1167 - accuracy: 0.9519\n",
      "Epoch 42/100\n",
      "9/9 [==============================] - 0s 5ms/step - loss: 0.0846 - accuracy: 0.9741\n",
      "Epoch 43/100\n",
      "9/9 [==============================] - 0s 5ms/step - loss: 0.1760 - accuracy: 0.9481\n",
      "Epoch 44/100\n",
      "9/9 [==============================] - 0s 5ms/step - loss: 0.0602 - accuracy: 0.9778\n",
      "Epoch 45/100\n",
      "9/9 [==============================] - 0s 6ms/step - loss: 0.0685 - accuracy: 0.9852\n",
      "Epoch 46/100\n",
      "9/9 [==============================] - 0s 5ms/step - loss: 0.0486 - accuracy: 0.9889\n",
      "Epoch 47/100\n",
      "9/9 [==============================] - 0s 5ms/step - loss: 0.0435 - accuracy: 0.9889\n",
      "Epoch 48/100\n",
      "9/9 [==============================] - 0s 5ms/step - loss: 0.0770 - accuracy: 0.9778\n",
      "Epoch 49/100\n",
      "9/9 [==============================] - 0s 5ms/step - loss: 0.0141 - accuracy: 0.9889\n",
      "Epoch 50/100\n",
      "9/9 [==============================] - 0s 5ms/step - loss: 0.0455 - accuracy: 0.9889\n",
      "Epoch 51/100\n",
      "9/9 [==============================] - 0s 5ms/step - loss: 0.0517 - accuracy: 0.9852\n",
      "Epoch 52/100\n",
      "9/9 [==============================] - 0s 5ms/step - loss: 0.0546 - accuracy: 0.9852\n",
      "Epoch 53/100\n",
      "9/9 [==============================] - 0s 6ms/step - loss: 0.0249 - accuracy: 0.9926\n",
      "Epoch 54/100\n",
      "9/9 [==============================] - 0s 5ms/step - loss: 0.0239 - accuracy: 0.9963\n",
      "Epoch 55/100\n",
      "9/9 [==============================] - 0s 5ms/step - loss: 0.0082 - accuracy: 1.0000\n",
      "Epoch 56/100\n",
      "9/9 [==============================] - 0s 5ms/step - loss: 0.0265 - accuracy: 0.9926\n",
      "Epoch 57/100\n",
      "9/9 [==============================] - 0s 5ms/step - loss: 0.0240 - accuracy: 0.9963\n",
      "Epoch 58/100\n",
      "9/9 [==============================] - 0s 5ms/step - loss: 0.0160 - accuracy: 0.9926\n",
      "Epoch 59/100\n",
      "9/9 [==============================] - 0s 5ms/step - loss: 0.0828 - accuracy: 0.9667\n",
      "Epoch 60/100\n",
      "9/9 [==============================] - 0s 5ms/step - loss: 0.0443 - accuracy: 0.9815\n",
      "Epoch 61/100\n",
      "9/9 [==============================] - 0s 7ms/step - loss: 0.0528 - accuracy: 0.9815\n",
      "Epoch 62/100\n",
      "9/9 [==============================] - 0s 5ms/step - loss: 0.0262 - accuracy: 0.9926\n",
      "Epoch 63/100\n",
      "9/9 [==============================] - 0s 5ms/step - loss: 0.0648 - accuracy: 0.9889\n",
      "Epoch 64/100\n",
      "9/9 [==============================] - 0s 5ms/step - loss: 0.0198 - accuracy: 0.9963\n",
      "Epoch 65/100\n",
      "9/9 [==============================] - 0s 5ms/step - loss: 0.0233 - accuracy: 0.9963\n",
      "Epoch 66/100\n",
      "9/9 [==============================] - 0s 5ms/step - loss: 0.0135 - accuracy: 0.9926\n",
      "Epoch 67/100\n",
      "9/9 [==============================] - 0s 5ms/step - loss: 0.0180 - accuracy: 0.9963\n",
      "Epoch 68/100\n",
      "9/9 [==============================] - 0s 5ms/step - loss: 0.0213 - accuracy: 0.9963\n",
      "Epoch 69/100\n",
      "9/9 [==============================] - 0s 5ms/step - loss: 0.0472 - accuracy: 0.9815\n",
      "Epoch 70/100\n",
      "9/9 [==============================] - 0s 5ms/step - loss: 0.0255 - accuracy: 0.9926\n",
      "Epoch 71/100\n",
      "9/9 [==============================] - 0s 5ms/step - loss: 0.0158 - accuracy: 0.9926\n",
      "Epoch 72/100\n",
      "9/9 [==============================] - 0s 5ms/step - loss: 0.0123 - accuracy: 0.9963\n",
      "Epoch 73/100\n",
      "9/9 [==============================] - 0s 5ms/step - loss: 0.0026 - accuracy: 1.0000\n",
      "Epoch 74/100\n",
      "9/9 [==============================] - 0s 5ms/step - loss: 0.0024 - accuracy: 1.0000\n",
      "Epoch 75/100\n",
      "9/9 [==============================] - 0s 5ms/step - loss: 0.0058 - accuracy: 0.9963\n",
      "Epoch 76/100\n",
      "9/9 [==============================] - 0s 5ms/step - loss: 0.0165 - accuracy: 0.9963\n",
      "Epoch 77/100\n",
      "9/9 [==============================] - 0s 5ms/step - loss: 0.0105 - accuracy: 0.9926\n",
      "Epoch 78/100\n",
      "9/9 [==============================] - 0s 5ms/step - loss: 0.0087 - accuracy: 0.9963\n",
      "Epoch 79/100\n",
      "9/9 [==============================] - 0s 5ms/step - loss: 7.3710e-04 - accuracy: 1.0000\n",
      "Epoch 80/100\n",
      "9/9 [==============================] - 0s 5ms/step - loss: 0.0011 - accuracy: 1.0000\n",
      "Epoch 81/100\n",
      "9/9 [==============================] - 0s 5ms/step - loss: 8.3439e-04 - accuracy: 1.0000\n",
      "Epoch 82/100\n",
      "9/9 [==============================] - 0s 5ms/step - loss: 0.0063 - accuracy: 0.9963\n",
      "Epoch 83/100\n",
      "9/9 [==============================] - 0s 5ms/step - loss: 0.0040 - accuracy: 1.0000\n",
      "Epoch 84/100\n"
     ]
    },
    {
     "name": "stdout",
     "output_type": "stream",
     "text": [
      "9/9 [==============================] - 0s 5ms/step - loss: 0.0020 - accuracy: 1.0000\n",
      "Epoch 85/100\n",
      "9/9 [==============================] - 0s 5ms/step - loss: 0.0261 - accuracy: 0.9926\n",
      "Epoch 86/100\n",
      "9/9 [==============================] - 0s 5ms/step - loss: 0.0011 - accuracy: 1.0000\n",
      "Epoch 87/100\n",
      "9/9 [==============================] - 0s 5ms/step - loss: 0.0046 - accuracy: 1.0000\n",
      "Epoch 88/100\n",
      "9/9 [==============================] - 0s 5ms/step - loss: 0.0060 - accuracy: 0.9963\n",
      "Epoch 89/100\n",
      "9/9 [==============================] - 0s 5ms/step - loss: 0.0042 - accuracy: 1.0000\n",
      "Epoch 90/100\n",
      "9/9 [==============================] - 0s 5ms/step - loss: 0.0034 - accuracy: 1.0000\n",
      "Epoch 91/100\n",
      "9/9 [==============================] - 0s 5ms/step - loss: 0.0027 - accuracy: 1.0000\n",
      "Epoch 92/100\n",
      "9/9 [==============================] - 0s 6ms/step - loss: 0.0026 - accuracy: 1.0000\n",
      "Epoch 93/100\n",
      "9/9 [==============================] - 0s 5ms/step - loss: 0.0030 - accuracy: 1.0000\n",
      "Epoch 94/100\n",
      "9/9 [==============================] - 0s 5ms/step - loss: 3.3582e-04 - accuracy: 1.0000\n",
      "Epoch 95/100\n",
      "9/9 [==============================] - 0s 5ms/step - loss: 0.0031 - accuracy: 1.0000\n",
      "Epoch 96/100\n",
      "9/9 [==============================] - 0s 5ms/step - loss: 2.4408e-04 - accuracy: 1.0000\n",
      "Epoch 97/100\n",
      "9/9 [==============================] - 0s 5ms/step - loss: 0.0090 - accuracy: 0.9963\n",
      "Epoch 98/100\n",
      "9/9 [==============================] - 0s 5ms/step - loss: 0.0037 - accuracy: 1.0000\n",
      "Epoch 99/100\n",
      "9/9 [==============================] - 0s 5ms/step - loss: 0.0053 - accuracy: 0.9963\n",
      "Epoch 100/100\n",
      "9/9 [==============================] - 0s 5ms/step - loss: 0.0052 - accuracy: 0.9963\n"
     ]
    }
   ],
   "source": [
    "def create_classical_model():\n",
    "    # A simple model based off LeNet from https://keras.io/examples/mnist_cnn/\n",
    "    model = tf.keras.Sequential()\n",
    "    model.add(tf.keras.layers.Conv2D(32, [3, 3], activation='relu', input_shape=(32,32,3)))\n",
    "    model.add(tf.keras.layers.Conv2D(64, [3, 3], activation='relu'))\n",
    "    model.add(tf.keras.layers.MaxPooling2D(pool_size=(2, 2)))\n",
    "    model.add(tf.keras.layers.Dropout(0.25))\n",
    "    model.add(tf.keras.layers.Flatten()\n",
    "    )\n",
    "    model.add(tf.keras.layers.Dense(128, activation='relu'))\n",
    "    model.add(tf.keras.layers.Dropout(0.5))\n",
    "    model.add(tf.keras.layers.Dense(3))\n",
    "    return model\n",
    "\n",
    "\n",
    "model = create_classical_model()\n",
    "\n",
    "\n",
    "\n",
    "optimizer = tf.keras.optimizers.Adam()\n",
    "# optimizer.learning_rate.assign(0.00001)\n",
    "\n",
    "\n",
    "\n",
    "\n",
    "\n",
    "model.compile(loss=tf.keras.losses.SparseCategoricalCrossentropy(from_logits=True),\n",
    "              optimizer=optimizer,\n",
    "              metrics=['accuracy'])\n",
    "\n",
    "\n",
    "\n",
    "# upto = int(min_working_no *.7)\n",
    "# print(upto)\n",
    "history2 = model.fit(np.array(ImagesData[:]),\n",
    "        np.array(Labels[:]),\n",
    "        epochs=100,\n",
    "        )\n"
   ]
  },
  {
   "cell_type": "code",
   "execution_count": 207,
   "metadata": {},
   "outputs": [],
   "source": [
    "# model.compile(loss=tf.keras.losses.SparseCategoricalCrossentropy(from_logits=True),\n",
    "#               optimizer=optimizer,\n",
    "#               metrics=['accuracy'])\n"
   ]
  },
  {
   "cell_type": "code",
   "execution_count": 208,
   "metadata": {},
   "outputs": [],
   "source": [
    "\n",
    "from glob import glob   "
   ]
  },
  {
   "cell_type": "code",
   "execution_count": 209,
   "metadata": {},
   "outputs": [
    {
     "name": "stdout",
     "output_type": "stream",
     "text": [
      "26\n",
      "20\n",
      "20\n"
     ]
    }
   ],
   "source": [
    "#Test Paths\n",
    "covid_test_paths = glob('C:/Users/Research6/Desktop/smote experimentation/Covid19-dataset/test/Covid/**')\n",
    "print(len(covid_test_paths))\n",
    "Normal_test_paths = glob('C:/Users/Research6/Desktop/smote experimentation/Covid19-dataset/test/Normal/**')\n",
    "print(len(Normal_test_paths))\n",
    "ViralPneumonia_test_paths = glob('C:/Users/Research6/Desktop/smote experimentation/Covid19-dataset/test/Viral Pneumonia/**')\n",
    "print(len(ViralPneumonia_test_paths))"
   ]
  },
  {
   "cell_type": "code",
   "execution_count": 210,
   "metadata": {},
   "outputs": [],
   "source": [
    "image_dimensions = 32\n",
    "import cv2 \n",
    "data_test = [] \n",
    "label_test = [] \n",
    "# number_of_images\n",
    "for c in (covid_test_paths):\n",
    "  data_test.append(cv2.resize(cv2.imread(c),(image_dimensions,image_dimensions)))\n",
    "  label_test.append(0)\n",
    "for n in (Normal_test_paths):    \n",
    "  data_test.append(cv2.resize(cv2.imread(n),(image_dimensions,image_dimensions)))\n",
    "  label_test.append(1)\n",
    "for v in (ViralPneumonia_test_paths):\n",
    "  data_test.append(cv2.resize(cv2.imread(v),(image_dimensions,image_dimensions)))\n",
    "  label_test.append(2)"
   ]
  },
  {
   "cell_type": "code",
   "execution_count": 211,
   "metadata": {},
   "outputs": [
    {
     "data": {
      "text/plain": [
       "66"
      ]
     },
     "execution_count": 211,
     "metadata": {},
     "output_type": "execute_result"
    }
   ],
   "source": [
    "len(data_test)"
   ]
  },
  {
   "cell_type": "code",
   "execution_count": 212,
   "metadata": {},
   "outputs": [],
   "source": [
    "# x_train = data_train[:len(data_train)//2]\n",
    "# y_train =  label_train[:len(label_train)//2]\n",
    "\n",
    "x_test = data_test[:]\n",
    "y_test =  label_test[:]"
   ]
  },
  {
   "cell_type": "code",
   "execution_count": 213,
   "metadata": {},
   "outputs": [],
   "source": [
    "# len(x_train)"
   ]
  },
  {
   "cell_type": "code",
   "execution_count": 214,
   "metadata": {},
   "outputs": [
    {
     "data": {
      "text/plain": [
       "66"
      ]
     },
     "execution_count": 214,
     "metadata": {},
     "output_type": "execute_result"
    }
   ],
   "source": [
    "len(x_test)"
   ]
  },
  {
   "cell_type": "code",
   "execution_count": 215,
   "metadata": {},
   "outputs": [
    {
     "data": {
      "text/plain": [
       "'accuracy >> 0.8636363744735718'"
      ]
     },
     "execution_count": 215,
     "metadata": {},
     "output_type": "execute_result"
    }
   ],
   "source": [
    "\"accuracy >> {}\".format(model.evaluate(np.array(x_test), np.array(y_test), verbose=0)[1])  "
   ]
  },
  {
   "cell_type": "code",
   "execution_count": 216,
   "metadata": {},
   "outputs": [],
   "source": [
    "# preds = model.predict(np.array(x_test))\n",
    "y_prob = model.predict(np.array(x_test)) \n",
    "y_classes = y_prob.argmax(axis=-1)"
   ]
  },
  {
   "cell_type": "code",
   "execution_count": 217,
   "metadata": {},
   "outputs": [
    {
     "data": {
      "text/plain": [
       "0"
      ]
     },
     "execution_count": 217,
     "metadata": {},
     "output_type": "execute_result"
    }
   ],
   "source": [
    "y_classes[0]"
   ]
  },
  {
   "cell_type": "code",
   "execution_count": 218,
   "metadata": {},
   "outputs": [
    {
     "name": "stdout",
     "output_type": "stream",
     "text": [
      "              precision    recall  f1-score   support\n",
      "\n",
      "           0       0.96      0.96      0.96        26\n",
      "           1       0.84      0.80      0.82        20\n",
      "           2       0.76      0.80      0.78        20\n",
      "\n",
      "    accuracy                           0.86        66\n",
      "   macro avg       0.86      0.85      0.85        66\n",
      "weighted avg       0.86      0.86      0.86        66\n",
      "\n"
     ]
    }
   ],
   "source": [
    "from sklearn.metrics import classification_report\n",
    "\n",
    "\n",
    "# report = classification_report(np.array(y_test), np.array(predictions).argmax(axis=-1))\n",
    "# print(report)\n",
    "report = classification_report(y_test, y_classes)\n",
    "print(report)"
   ]
  },
  {
   "cell_type": "code",
   "execution_count": 219,
   "metadata": {},
   "outputs": [],
   "source": [
    "# np.savetxt(experiment_Name+\"_predicted_SMOTE.txt\",y_classes)\n",
    "# np.savetxt(experiment_Name+\"_actual_SMOTE.txt\",y_test)"
   ]
  },
  {
   "cell_type": "code",
   "execution_count": 220,
   "metadata": {},
   "outputs": [
    {
     "name": "stdout",
     "output_type": "stream",
     "text": [
      "[[25  0  1]\n",
      " [ 0 16  4]\n",
      " [ 1  3 16]]\n"
     ]
    },
    {
     "data": {
      "image/png": "[encoded data removed]",
      "text/plain": [
       "<Figure size 432x288 with 2 Axes>"
      ]
     },
     "metadata": {
      "needs_background": "light"
     },
     "output_type": "display_data"
    }
   ],
   "source": [
    "import sklearn.metrics\n",
    "\n",
    "y_true = y_test\n",
    "y_pred = y_classes\n",
    "\n",
    "r = sklearn.metrics.confusion_matrix(y_true, y_pred)\n",
    "sn.heatmap(r, annot=True,cmap=\"OrRd\")\n",
    "plt.savefig(\"Deep_smote1\"+ \".jpg\", dpi = 600)\n",
    "print(r)"
   ]
  },
  {
   "cell_type": "code",
   "execution_count": 221,
   "metadata": {},
   "outputs": [
    {
     "data": {
      "text/plain": [
       "0.8538461538461538"
      ]
     },
     "execution_count": 221,
     "metadata": {},
     "output_type": "execute_result"
    }
   ],
   "source": [
    "from sklearn.metrics import balanced_accuracy_score\n",
    "y_true = y_test\n",
    "y_pred = y_classes\n",
    "balanced_accuracy_score(y_true, y_pred)"
   ]
  },
  {
   "cell_type": "code",
   "execution_count": 222,
   "metadata": {},
   "outputs": [
    {
     "data": {
      "text/plain": [
       "0.892878738391486"
      ]
     },
     "execution_count": 222,
     "metadata": {},
     "output_type": "execute_result"
    }
   ],
   "source": [
    "from imblearn.metrics import geometric_mean_score\n",
    "y_true = y_test\n",
    "y_pred = y_classes\n",
    "# geometric_mean_score(y_true, y_pred)\n",
    "geometric_mean_score(y_true, y_pred, average='macro')\n",
    "\n",
    "\n"
   ]
  },
  {
   "cell_type": "code",
   "execution_count": 223,
   "metadata": {},
   "outputs": [],
   "source": [
    "# import seaborn as sns\n",
    "# imbal = [4000, 2000, 1000, 750, 500, 350, 200, 100, 60, 40]\n",
    "# # sns.countplot(np.array(Labels))\n",
    "# sns.distplot(np.array(imbal))"
   ]
  },
  {
   "cell_type": "code",
   "execution_count": 224,
   "metadata": {},
   "outputs": [],
   "source": [
    "# from random import randint\n",
    "# import seaborn_image as isns\n",
    "\n",
    "# randomImages  = []\n",
    "# for i in range(10): randomImages.append(randint(0,len(arr)-1))\n",
    "# Imageset = []\n",
    "# for x in randomImages:\n",
    "#     Imageset.append((ImagesData[x][ : , : , 0])) \n",
    "#     print(Labels[x])\n",
    "    \n",
    "# g = isns.ImageGrid(Imageset)"
   ]
  },
  {
   "cell_type": "code",
   "execution_count": 225,
   "metadata": {},
   "outputs": [],
   "source": [
    "# import tensorflow as tf\n",
    "# import numpy as np\n",
    "# %matplotlib inline\n",
    "# import matplotlib.pyplot as plt\n",
    "# import numpy as np\n",
    "\n",
    "# from keras.callbacks import EarlyStopping"
   ]
  },
  {
   "cell_type": "code",
   "execution_count": null,
   "metadata": {},
   "outputs": [],
   "source": [
    "\n",
    "\n",
    "\n"
   ]
  },
  {
   "cell_type": "code",
   "execution_count": 226,
   "metadata": {},
   "outputs": [],
   "source": [
    "# def create_classical_model():\n",
    "#     # A simple model based off LeNet from https://keras.io/examples/mnist_cnn/\n",
    "#     model = tf.keras.Sequential()\n",
    "#     model.add(tf.keras.layers.Conv2D(32, [3, 3], activation='relu', input_shape=(28,28,1)))\n",
    "#     model.add(tf.keras.layers.Conv2D(64, [3, 3], activation='relu'))\n",
    "#     model.add(tf.keras.layers.MaxPooling2D(pool_size=(2, 2)))\n",
    "#     model.add(tf.keras.layers.Dropout(0.25))\n",
    "#     model.add(tf.keras.layers.Flatten()\n",
    "#     )\n",
    "#     model.add(tf.keras.layers.Dense(128, activation='relu'))\n",
    "#     model.add(tf.keras.layers.Dropout(0.5))\n",
    "#     model.add(tf.keras.layers.Dense(10))\n",
    "#     return model\n",
    "\n",
    "\n",
    "# model = create_classical_model()\n",
    "\n",
    "\n",
    "# optimizer = tf.keras.optimizers.Adam(0.01)\n",
    "# optimizer.learning_rate.assign(0.00001)\n",
    "\n",
    "# model.compile(loss=tf.keras.losses.SparseCategoricalCrossentropy(from_logits=True),\n",
    "#               optimizer=optimizer,\n",
    "#               metrics=['accuracy'])\n",
    "\n",
    "\n",
    "\n",
    "# upto = int(min_working_no *.7)\n",
    "# print(upto)\n",
    "# # valUpto = int(min_working_no*.15)\n",
    "# history2 = model.fit(np.array(ImagesData[:upto]),\n",
    "#         np.array(Labels[:upto]),\n",
    "#         # batch_size=128,\n",
    "#         epochs=epoch,\n",
    "#         # verbose=1,\n",
    "#         validation_data=(np.array(ImagesData[upto:]), np.array(Labels[upto:]))\n",
    "#         )"
   ]
  },
  {
   "cell_type": "code",
   "execution_count": 227,
   "metadata": {},
   "outputs": [],
   "source": [
    "# \"accuracy >> {}\".format(model.evaluate(np.array(ImagesData), np.array(Labels), verbose=0)[1])"
   ]
  },
  {
   "cell_type": "code",
   "execution_count": 228,
   "metadata": {},
   "outputs": [],
   "source": [
    "# from matplotlib import pyplot as plt\n",
    "# lister = [1]\n",
    "# for x in lister:\n",
    "#   plt.imshow(X[x][ : ])\n",
    "#   plt.show()"
   ]
  },
  {
   "cell_type": "code",
   "execution_count": 229,
   "metadata": {},
   "outputs": [],
   "source": [
    "\n",
    "# def display_from_file(arr, idx):\n",
    "#   all_data = np.loadtxt(arr, delimiter=\"\\t\",\n",
    "#     usecols=range(0,785), dtype=np.int64)\n",
    "#   x_data = all_data[:,0:784]  # all rows, 784 cols\n",
    "#   x_data"
   ]
  },
  {
   "cell_type": "code",
   "execution_count": 230,
   "metadata": {},
   "outputs": [],
   "source": [
    "# # pixels = x_data[idx]\n",
    "# pixels = arr.reshape((28,28))"
   ]
  },
  {
   "cell_type": "code",
   "execution_count": null,
   "metadata": {},
   "outputs": [],
   "source": []
  },
  {
   "cell_type": "code",
   "execution_count": null,
   "metadata": {},
   "outputs": [],
   "source": []
  },
  {
   "cell_type": "code",
   "execution_count": null,
   "metadata": {},
   "outputs": [],
   "source": []
  },
  {
   "cell_type": "code",
   "execution_count": null,
   "metadata": {},
   "outputs": [],
   "source": []
  },
  {
   "cell_type": "code",
   "execution_count": null,
   "metadata": {},
   "outputs": [],
   "source": []
  }
 ],
 "metadata": {
  "colab": {
   "name": "smote.ipynb",
   "provenance": []
  },
  "kernelspec": {
   "display_name": "Python 3 (ipykernel)",
   "language": "python",
   "name": "python3"
  },
  "language_info": {
   "codemirror_mode": {
    "name": "ipython",
    "version": 3
   },
   "file_extension": ".py",
   "mimetype": "text/x-python",
   "name": "python",
   "nbconvert_exporter": "python",
   "pygments_lexer": "ipython3",
   "version": "3.9.7"
  }
 },
 "nbformat": 4,
 "nbformat_minor": 1
}
